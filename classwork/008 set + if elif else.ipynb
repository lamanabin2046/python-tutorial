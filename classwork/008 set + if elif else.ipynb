{
 "cells": [
  {
   "cell_type": "code",
   "execution_count": 1,
   "id": "660640fb",
   "metadata": {},
   "outputs": [
    {
     "name": "stdout",
     "output_type": "stream",
     "text": [
      "{'id': 1, 'name': 'ram pradhan', 'age': 25, 'salary': 234000.5, 'address': 'ktm', 'email': 'ram.pradhan@gmail.com'}\n"
     ]
    }
   ],
   "source": [
    "person1 = {\n",
    "    \"id\": 1,\n",
    "    \"name\": \"ram pradhan\",\n",
    "    \"age\": 25,\n",
    "}\n",
    "\n",
    "person2 = {\n",
    "    'salary': 234000.50,\n",
    "    'address': \"ktm\",\n",
    "    'email':'ram.pradhan@gmail.com'\n",
    "}\n",
    "# person1 is mutated\n",
    "person1.update(person2)\n",
    "\n",
    "print(person1)"
   ]
  },
  {
   "cell_type": "code",
   "execution_count": 2,
   "id": "337655c6",
   "metadata": {},
   "outputs": [
    {
     "name": "stdout",
     "output_type": "stream",
     "text": [
      "{'salary': 234000.5, 'address': 'ktm', 'email': 'ram.pradhan@gmail.com'}\n"
     ]
    }
   ],
   "source": [
    "print(person2)"
   ]
  },
  {
   "cell_type": "code",
   "execution_count": 3,
   "id": "13601179",
   "metadata": {},
   "outputs": [
    {
     "name": "stdout",
     "output_type": "stream",
     "text": [
      "{} <class 'dict'>\n"
     ]
    }
   ],
   "source": [
    "# empty dictionary\n",
    "x = {}\n",
    "print(x, type(x))"
   ]
  },
  {
   "cell_type": "code",
   "execution_count": 4,
   "id": "701bca99",
   "metadata": {},
   "outputs": [
    {
     "name": "stdout",
     "output_type": "stream",
     "text": [
      "{} <class 'dict'>\n"
     ]
    }
   ],
   "source": [
    "# empty dictionary\n",
    "x = dict()\n",
    "print(x, type(x))"
   ]
  },
  {
   "cell_type": "code",
   "execution_count": 5,
   "id": "9d205efc",
   "metadata": {},
   "outputs": [
    {
     "name": "stdout",
     "output_type": "stream",
     "text": [
      "{1, 2, 3, 4, 5, 6} <class 'set'>\n"
     ]
    }
   ],
   "source": [
    "# set\n",
    "x = {1,2,3,4,5,6}\n",
    "print(x, type(x))"
   ]
  },
  {
   "cell_type": "code",
   "execution_count": 6,
   "id": "809014b4",
   "metadata": {},
   "outputs": [
    {
     "name": "stdout",
     "output_type": "stream",
     "text": [
      "{1, 2, 2.5, 3, 'python', 4, 5, 6, 'hello'} <class 'set'>\n"
     ]
    }
   ],
   "source": [
    "# set\n",
    "# order is not maintained in set\n",
    "x = {1,'hello', 'python', 2.5, 2,3,4,5,6}\n",
    "print(x, type(x))"
   ]
  },
  {
   "cell_type": "code",
   "execution_count": 8,
   "id": "171edcfb",
   "metadata": {},
   "outputs": [
    {
     "name": "stdout",
     "output_type": "stream",
     "text": [
      "{1, 2.5, 2, 3, 'python', 4, 5, 6, 'hello'} <class 'set'>\n"
     ]
    }
   ],
   "source": [
    "# set is a unique collection of data\n",
    "x = {1,2,'hello', 'python', 1, 2, 2.5, 2,3,4,5,6}\n",
    "print(x, type(x))"
   ]
  },
  {
   "cell_type": "code",
   "execution_count": 9,
   "id": "14500f6b",
   "metadata": {},
   "outputs": [
    {
     "ename": "TypeError",
     "evalue": "unhashable type: 'list'",
     "output_type": "error",
     "traceback": [
      "\u001b[0;31m---------------------------------------------------------------------------\u001b[0m",
      "\u001b[0;31mTypeError\u001b[0m                                 Traceback (most recent call last)",
      "Cell \u001b[0;32mIn[9], line 1\u001b[0m\n\u001b[0;32m----> 1\u001b[0m x \u001b[38;5;241m=\u001b[39m {\u001b[38;5;241m1\u001b[39m,\u001b[38;5;241m2\u001b[39m,\u001b[38;5;124m'\u001b[39m\u001b[38;5;124mhello\u001b[39m\u001b[38;5;124m'\u001b[39m, \u001b[38;5;124m'\u001b[39m\u001b[38;5;124mpython\u001b[39m\u001b[38;5;124m'\u001b[39m, \u001b[38;5;241m1\u001b[39m, \u001b[38;5;241m2\u001b[39m, \u001b[38;5;241m2.5\u001b[39m, \u001b[38;5;241m2\u001b[39m,\u001b[38;5;241m3\u001b[39m,\u001b[38;5;241m4\u001b[39m,\u001b[38;5;241m5\u001b[39m,\u001b[38;5;241m6\u001b[39m, [\u001b[38;5;241m1\u001b[39m,\u001b[38;5;241m2\u001b[39m,\u001b[38;5;241m3\u001b[39m]}\n\u001b[1;32m      2\u001b[0m \u001b[38;5;28mprint\u001b[39m(x, \u001b[38;5;28mtype\u001b[39m(x))\n",
      "\u001b[0;31mTypeError\u001b[0m: unhashable type: 'list'"
     ]
    }
   ],
   "source": [
    "# cannot store mutable datastructure in set\n",
    "x = {1,2,'hello', 'python', 1, 2, 2.5, 2,3,4,5,6, [1,2,3]}\n",
    "print(x, type(x))"
   ]
  },
  {
   "cell_type": "code",
   "execution_count": 10,
   "id": "f2b1a83f",
   "metadata": {},
   "outputs": [
    {
     "name": "stdout",
     "output_type": "stream",
     "text": [
      "{1, 2.5, 2, 3, 'python', 4, 5, 6, (1, 2, 3), 'hello'} <class 'set'>\n"
     ]
    }
   ],
   "source": [
    "# can only store immutable datastructure in set\n",
    "x = {1,2,'hello', 'python', 1, 2, 2.5, 2,3,4,5,6, (1,2,3)}\n",
    "print(x, type(x))"
   ]
  },
  {
   "cell_type": "code",
   "execution_count": 11,
   "id": "20ba1400",
   "metadata": {},
   "outputs": [
    {
     "ename": "TypeError",
     "evalue": "'set' object is not subscriptable",
     "output_type": "error",
     "traceback": [
      "\u001b[0;31m---------------------------------------------------------------------------\u001b[0m",
      "\u001b[0;31mTypeError\u001b[0m                                 Traceback (most recent call last)",
      "Cell \u001b[0;32mIn[11], line 2\u001b[0m\n\u001b[1;32m      1\u001b[0m x \u001b[38;5;241m=\u001b[39m {\u001b[38;5;241m1\u001b[39m,\u001b[38;5;241m2\u001b[39m,\u001b[38;5;124m'\u001b[39m\u001b[38;5;124mhello\u001b[39m\u001b[38;5;124m'\u001b[39m, \u001b[38;5;124m'\u001b[39m\u001b[38;5;124mpython\u001b[39m\u001b[38;5;124m'\u001b[39m, \u001b[38;5;241m1\u001b[39m, \u001b[38;5;241m2\u001b[39m, \u001b[38;5;241m2.5\u001b[39m, \u001b[38;5;241m2\u001b[39m,\u001b[38;5;241m3\u001b[39m,\u001b[38;5;241m4\u001b[39m,\u001b[38;5;241m5\u001b[39m,\u001b[38;5;241m6\u001b[39m, (\u001b[38;5;241m1\u001b[39m,\u001b[38;5;241m2\u001b[39m,\u001b[38;5;241m3\u001b[39m)}\n\u001b[0;32m----> 2\u001b[0m \u001b[38;5;28mprint\u001b[39m(\u001b[43mx\u001b[49m\u001b[43m[\u001b[49m\u001b[38;5;241;43m2\u001b[39;49m\u001b[43m]\u001b[49m)\n",
      "\u001b[0;31mTypeError\u001b[0m: 'set' object is not subscriptable"
     ]
    }
   ],
   "source": [
    "x = {1,2,'hello', 'python', 1, 2, 2.5, 2,3,4,5,6, (1,2,3)}\n",
    "print(x[2]) # since order is not maintained"
   ]
  },
  {
   "cell_type": "code",
   "execution_count": 12,
   "id": "ae1ae736",
   "metadata": {},
   "outputs": [
    {
     "name": "stdout",
     "output_type": "stream",
     "text": [
      "{1, 2.5, 2, 3, 'python', 4, 5, 6, 7, (1, 2, 3), 'hello'}\n"
     ]
    }
   ],
   "source": [
    "# set is mutable datastructure\n",
    "x = {1,2,'hello', 'python', 1, 2, 2.5, 2,3,4,5,6, (1,2,3)}\n",
    "x.add(7)\n",
    "print(x)"
   ]
  },
  {
   "cell_type": "code",
   "execution_count": 13,
   "id": "e464e76f",
   "metadata": {},
   "outputs": [
    {
     "name": "stdout",
     "output_type": "stream",
     "text": [
      "Help on class set in module builtins:\n",
      "\n",
      "class set(object)\n",
      " |  set() -> new empty set object\n",
      " |  set(iterable) -> new set object\n",
      " |  \n",
      " |  Build an unordered collection of unique elements.\n",
      " |  \n",
      " |  Methods defined here:\n",
      " |  \n",
      " |  __and__(self, value, /)\n",
      " |      Return self&value.\n",
      " |  \n",
      " |  __contains__(...)\n",
      " |      x.__contains__(y) <==> y in x.\n",
      " |  \n",
      " |  __eq__(self, value, /)\n",
      " |      Return self==value.\n",
      " |  \n",
      " |  __ge__(self, value, /)\n",
      " |      Return self>=value.\n",
      " |  \n",
      " |  __getattribute__(self, name, /)\n",
      " |      Return getattr(self, name).\n",
      " |  \n",
      " |  __gt__(self, value, /)\n",
      " |      Return self>value.\n",
      " |  \n",
      " |  __iand__(self, value, /)\n",
      " |      Return self&=value.\n",
      " |  \n",
      " |  __init__(self, /, *args, **kwargs)\n",
      " |      Initialize self.  See help(type(self)) for accurate signature.\n",
      " |  \n",
      " |  __ior__(self, value, /)\n",
      " |      Return self|=value.\n",
      " |  \n",
      " |  __isub__(self, value, /)\n",
      " |      Return self-=value.\n",
      " |  \n",
      " |  __iter__(self, /)\n",
      " |      Implement iter(self).\n",
      " |  \n",
      " |  __ixor__(self, value, /)\n",
      " |      Return self^=value.\n",
      " |  \n",
      " |  __le__(self, value, /)\n",
      " |      Return self<=value.\n",
      " |  \n",
      " |  __len__(self, /)\n",
      " |      Return len(self).\n",
      " |  \n",
      " |  __lt__(self, value, /)\n",
      " |      Return self<value.\n",
      " |  \n",
      " |  __ne__(self, value, /)\n",
      " |      Return self!=value.\n",
      " |  \n",
      " |  __or__(self, value, /)\n",
      " |      Return self|value.\n",
      " |  \n",
      " |  __rand__(self, value, /)\n",
      " |      Return value&self.\n",
      " |  \n",
      " |  __reduce__(...)\n",
      " |      Return state information for pickling.\n",
      " |  \n",
      " |  __repr__(self, /)\n",
      " |      Return repr(self).\n",
      " |  \n",
      " |  __ror__(self, value, /)\n",
      " |      Return value|self.\n",
      " |  \n",
      " |  __rsub__(self, value, /)\n",
      " |      Return value-self.\n",
      " |  \n",
      " |  __rxor__(self, value, /)\n",
      " |      Return value^self.\n",
      " |  \n",
      " |  __sizeof__(...)\n",
      " |      S.__sizeof__() -> size of S in memory, in bytes\n",
      " |  \n",
      " |  __sub__(self, value, /)\n",
      " |      Return self-value.\n",
      " |  \n",
      " |  __xor__(self, value, /)\n",
      " |      Return self^value.\n",
      " |  \n",
      " |  add(...)\n",
      " |      Add an element to a set.\n",
      " |      \n",
      " |      This has no effect if the element is already present.\n",
      " |  \n",
      " |  clear(...)\n",
      " |      Remove all elements from this set.\n",
      " |  \n",
      " |  copy(...)\n",
      " |      Return a shallow copy of a set.\n",
      " |  \n",
      " |  difference(...)\n",
      " |      Return the difference of two or more sets as a new set.\n",
      " |      \n",
      " |      (i.e. all elements that are in this set but not the others.)\n",
      " |  \n",
      " |  difference_update(...)\n",
      " |      Remove all elements of another set from this set.\n",
      " |  \n",
      " |  discard(...)\n",
      " |      Remove an element from a set if it is a member.\n",
      " |      \n",
      " |      Unlike set.remove(), the discard() method does not raise\n",
      " |      an exception when an element is missing from the set.\n",
      " |  \n",
      " |  intersection(...)\n",
      " |      Return the intersection of two sets as a new set.\n",
      " |      \n",
      " |      (i.e. all elements that are in both sets.)\n",
      " |  \n",
      " |  intersection_update(...)\n",
      " |      Update a set with the intersection of itself and another.\n",
      " |  \n",
      " |  isdisjoint(...)\n",
      " |      Return True if two sets have a null intersection.\n",
      " |  \n",
      " |  issubset(...)\n",
      " |      Report whether another set contains this set.\n",
      " |  \n",
      " |  issuperset(...)\n",
      " |      Report whether this set contains another set.\n",
      " |  \n",
      " |  pop(...)\n",
      " |      Remove and return an arbitrary set element.\n",
      " |      Raises KeyError if the set is empty.\n",
      " |  \n",
      " |  remove(...)\n",
      " |      Remove an element from a set; it must be a member.\n",
      " |      \n",
      " |      If the element is not a member, raise a KeyError.\n",
      " |  \n",
      " |  symmetric_difference(...)\n",
      " |      Return the symmetric difference of two sets as a new set.\n",
      " |      \n",
      " |      (i.e. all elements that are in exactly one of the sets.)\n",
      " |  \n",
      " |  symmetric_difference_update(...)\n",
      " |      Update a set with the symmetric difference of itself and another.\n",
      " |  \n",
      " |  union(...)\n",
      " |      Return the union of sets as a new set.\n",
      " |      \n",
      " |      (i.e. all elements that are in either set.)\n",
      " |  \n",
      " |  update(...)\n",
      " |      Update a set with the union of itself and others.\n",
      " |  \n",
      " |  ----------------------------------------------------------------------\n",
      " |  Class methods defined here:\n",
      " |  \n",
      " |  __class_getitem__(...) from builtins.type\n",
      " |      See PEP 585\n",
      " |  \n",
      " |  ----------------------------------------------------------------------\n",
      " |  Static methods defined here:\n",
      " |  \n",
      " |  __new__(*args, **kwargs) from builtins.type\n",
      " |      Create and return a new object.  See help(type) for accurate signature.\n",
      " |  \n",
      " |  ----------------------------------------------------------------------\n",
      " |  Data and other attributes defined here:\n",
      " |  \n",
      " |  __hash__ = None\n",
      "\n"
     ]
    }
   ],
   "source": [
    "help(set)"
   ]
  },
  {
   "cell_type": "code",
   "execution_count": 14,
   "id": "fe77ce5c",
   "metadata": {},
   "outputs": [
    {
     "name": "stdout",
     "output_type": "stream",
     "text": [
      "set()\n"
     ]
    }
   ],
   "source": [
    "x = {1,2,'hello', 'python', 1, 2, 2.5, 2,3,4,5,6, (1,2,3)}\n",
    "x.clear()\n",
    "print(x)"
   ]
  },
  {
   "cell_type": "code",
   "execution_count": 15,
   "id": "c53714b2",
   "metadata": {},
   "outputs": [
    {
     "name": "stdout",
     "output_type": "stream",
     "text": [
      "{1, 2.5, 2, 3, 'python', 4, 5, 6, 7, 8, (1, 2, 3), 9, 'hello'}\n"
     ]
    }
   ],
   "source": [
    "x = {1,2,'hello', 'python', 1, 2, 2.5, 2,3,4,5,6, (1,2,3)}\n",
    "x.update([7, 8, 9])\n",
    "print(x)"
   ]
  },
  {
   "cell_type": "code",
   "execution_count": 17,
   "id": "f37dd4d4",
   "metadata": {},
   "outputs": [
    {
     "name": "stdout",
     "output_type": "stream",
     "text": [
      "{1, 2.5, 2, 3, 'python', 4, 5, 6, 7, 8, ((1, 2), 3), 9, 'hello'}\n"
     ]
    }
   ],
   "source": [
    "x = {1,2,'hello', 'python', 1, 2, 2.5, 2,3,4,5,6, ((1,2,),3)}\n",
    "x.update([7, 8, 9])\n",
    "print(x)"
   ]
  },
  {
   "cell_type": "code",
   "execution_count": 18,
   "id": "c38c76a1",
   "metadata": {},
   "outputs": [
    {
     "ename": "TypeError",
     "evalue": "unhashable type: 'list'",
     "output_type": "error",
     "traceback": [
      "\u001b[0;31m---------------------------------------------------------------------------\u001b[0m",
      "\u001b[0;31mTypeError\u001b[0m                                 Traceback (most recent call last)",
      "Cell \u001b[0;32mIn[18], line 1\u001b[0m\n\u001b[0;32m----> 1\u001b[0m x \u001b[38;5;241m=\u001b[39m {\u001b[38;5;241m1\u001b[39m,\u001b[38;5;241m2\u001b[39m,\u001b[38;5;124m'\u001b[39m\u001b[38;5;124mhello\u001b[39m\u001b[38;5;124m'\u001b[39m, \u001b[38;5;124m'\u001b[39m\u001b[38;5;124mpython\u001b[39m\u001b[38;5;124m'\u001b[39m, \u001b[38;5;241m1\u001b[39m, \u001b[38;5;241m2\u001b[39m, \u001b[38;5;241m2.5\u001b[39m, \u001b[38;5;241m2\u001b[39m,\u001b[38;5;241m3\u001b[39m,\u001b[38;5;241m4\u001b[39m,\u001b[38;5;241m5\u001b[39m,\u001b[38;5;241m6\u001b[39m, ([\u001b[38;5;241m1\u001b[39m,\u001b[38;5;241m2\u001b[39m,],\u001b[38;5;241m3\u001b[39m)}\n\u001b[1;32m      2\u001b[0m x\u001b[38;5;241m.\u001b[39mupdate([\u001b[38;5;241m7\u001b[39m, \u001b[38;5;241m8\u001b[39m, \u001b[38;5;241m9\u001b[39m])\n\u001b[1;32m      3\u001b[0m \u001b[38;5;28mprint\u001b[39m(x)\n",
      "\u001b[0;31mTypeError\u001b[0m: unhashable type: 'list'"
     ]
    }
   ],
   "source": [
    "x = {1,2,'hello', 'python', 1, 2, 2.5, 2,3,4,5,6, ([1,2,],3)}\n",
    "x.update([7, 8, 9])\n",
    "print(x)"
   ]
  },
  {
   "cell_type": "code",
   "execution_count": 19,
   "id": "bce2313a",
   "metadata": {},
   "outputs": [
    {
     "name": "stdout",
     "output_type": "stream",
     "text": [
      "{2.5, 2, 3, 'python', 4, 5, 6, (1, 2, 3), 'hello'}\n"
     ]
    }
   ],
   "source": [
    "x = {1,2,'hello', 'python', 1, 2, 2.5, 2,3,4,5,6, (1,2,3)}\n",
    "x.discard(1)\n",
    "print(x)"
   ]
  },
  {
   "cell_type": "code",
   "execution_count": 20,
   "id": "d0ddc959",
   "metadata": {},
   "outputs": [
    {
     "name": "stdout",
     "output_type": "stream",
     "text": [
      "{1, 2.5, 2, 3, 'python', 4, 5, 6, (1, 2, 3), 'hello'}\n"
     ]
    }
   ],
   "source": [
    "x = {1,2,'hello', 'python', 1, 2, 2.5, 2,3,4,5,6, (1,2,3)}\n",
    "x.discard(11)\n",
    "print(x)"
   ]
  },
  {
   "cell_type": "code",
   "execution_count": 21,
   "id": "92fe9ee5",
   "metadata": {},
   "outputs": [
    {
     "name": "stdout",
     "output_type": "stream",
     "text": [
      "{2.5, 2, 3, 'python', 4, 5, 6, (1, 2, 3), 'hello'}\n"
     ]
    }
   ],
   "source": [
    "x = {1,2,'hello', 'python', 1, 2, 2.5, 2,3,4,5,6, (1,2,3)}\n",
    "x.remove(1)\n",
    "print(x)"
   ]
  },
  {
   "cell_type": "code",
   "execution_count": 22,
   "id": "43bb6e15",
   "metadata": {},
   "outputs": [
    {
     "ename": "KeyError",
     "evalue": "11",
     "output_type": "error",
     "traceback": [
      "\u001b[0;31m---------------------------------------------------------------------------\u001b[0m",
      "\u001b[0;31mKeyError\u001b[0m                                  Traceback (most recent call last)",
      "Cell \u001b[0;32mIn[22], line 2\u001b[0m\n\u001b[1;32m      1\u001b[0m x \u001b[38;5;241m=\u001b[39m {\u001b[38;5;241m1\u001b[39m,\u001b[38;5;241m2\u001b[39m,\u001b[38;5;124m'\u001b[39m\u001b[38;5;124mhello\u001b[39m\u001b[38;5;124m'\u001b[39m, \u001b[38;5;124m'\u001b[39m\u001b[38;5;124mpython\u001b[39m\u001b[38;5;124m'\u001b[39m, \u001b[38;5;241m1\u001b[39m, \u001b[38;5;241m2\u001b[39m, \u001b[38;5;241m2.5\u001b[39m, \u001b[38;5;241m2\u001b[39m,\u001b[38;5;241m3\u001b[39m,\u001b[38;5;241m4\u001b[39m,\u001b[38;5;241m5\u001b[39m,\u001b[38;5;241m6\u001b[39m, (\u001b[38;5;241m1\u001b[39m,\u001b[38;5;241m2\u001b[39m,\u001b[38;5;241m3\u001b[39m)}\n\u001b[0;32m----> 2\u001b[0m \u001b[43mx\u001b[49m\u001b[38;5;241;43m.\u001b[39;49m\u001b[43mremove\u001b[49m\u001b[43m(\u001b[49m\u001b[38;5;241;43m11\u001b[39;49m\u001b[43m)\u001b[49m\n\u001b[1;32m      3\u001b[0m \u001b[38;5;28mprint\u001b[39m(x)\n",
      "\u001b[0;31mKeyError\u001b[0m: 11"
     ]
    }
   ],
   "source": [
    "x = {1,2,'hello', 'python', 1, 2, 2.5, 2,3,4,5,6, (1,2,3)}\n",
    "x.remove(11)\n",
    "print(x)"
   ]
  },
  {
   "cell_type": "code",
   "execution_count": 23,
   "id": "1cd285c6",
   "metadata": {},
   "outputs": [
    {
     "name": "stdout",
     "output_type": "stream",
     "text": [
      "{2.5, 2, 3, 'python', 4, 5, 6, (1, 2, 3), 'hello'}\n"
     ]
    }
   ],
   "source": [
    "x = {1,2,'hello', 'python', 1, 2, 2.5, 2,3,4,5,6, (1,2,3)}\n",
    "x.pop()\n",
    "print(x)"
   ]
  },
  {
   "cell_type": "code",
   "execution_count": 24,
   "id": "1d23c6cb",
   "metadata": {},
   "outputs": [
    {
     "name": "stdout",
     "output_type": "stream",
     "text": [
      "<class 'dict'>\n"
     ]
    }
   ],
   "source": [
    "x = {}\n",
    "print(type(x))"
   ]
  },
  {
   "cell_type": "code",
   "execution_count": 25,
   "id": "2ad1d734",
   "metadata": {},
   "outputs": [
    {
     "name": "stdout",
     "output_type": "stream",
     "text": [
      "set() <class 'set'>\n"
     ]
    }
   ],
   "source": [
    "# empty set\n",
    "x = set()\n",
    "print(x, type(x))"
   ]
  },
  {
   "cell_type": "code",
   "execution_count": 26,
   "id": "5e975467",
   "metadata": {},
   "outputs": [
    {
     "name": "stdout",
     "output_type": "stream",
     "text": [
      "{'sita'}\n"
     ]
    }
   ],
   "source": [
    "tea = {'ram', 'shyam', 'sita'}\n",
    "coffee = {'hari', 'gita', 'sita'}\n",
    "\n",
    "tea_and_coffee = tea & coffee # intersection\n",
    "print(tea_and_coffee)\n"
   ]
  },
  {
   "cell_type": "code",
   "execution_count": 27,
   "id": "69ac47c0",
   "metadata": {},
   "outputs": [
    {
     "name": "stdout",
     "output_type": "stream",
     "text": [
      "{'sita'}\n"
     ]
    }
   ],
   "source": [
    "tea = {'ram', 'shyam', 'sita'}\n",
    "coffee = {'hari', 'gita', 'sita'}\n",
    "\n",
    "tea_and_coffee = tea.intersection(coffee) # intersection\n",
    "print(tea_and_coffee)"
   ]
  },
  {
   "cell_type": "code",
   "execution_count": 28,
   "id": "cc3d759b",
   "metadata": {},
   "outputs": [
    {
     "name": "stdout",
     "output_type": "stream",
     "text": [
      "{'gita', 'hari', 'ram', 'shyam', 'sita'}\n"
     ]
    }
   ],
   "source": [
    "tea = {'ram', 'shyam', 'sita'}\n",
    "coffee = {'hari', 'gita', 'sita'}\n",
    "\n",
    "tea_or_coffee = tea | coffee # union\n",
    "print(tea_or_coffee)"
   ]
  },
  {
   "cell_type": "code",
   "execution_count": 29,
   "id": "6055245d",
   "metadata": {},
   "outputs": [
    {
     "name": "stdout",
     "output_type": "stream",
     "text": [
      "{'gita', 'hari', 'ram', 'shyam', 'sita'}\n"
     ]
    }
   ],
   "source": [
    "tea = {'ram', 'shyam', 'sita'}\n",
    "coffee = {'hari', 'gita', 'sita'}\n",
    "\n",
    "tea_or_coffee = tea.union(coffee) # union\n",
    "print(tea_or_coffee)"
   ]
  },
  {
   "cell_type": "code",
   "execution_count": 30,
   "id": "e37aebad",
   "metadata": {},
   "outputs": [
    {
     "name": "stdout",
     "output_type": "stream",
     "text": [
      "{'ram', 'shyam'}\n"
     ]
    }
   ],
   "source": [
    "tea = {'ram', 'shyam', 'sita'}\n",
    "coffee = {'hari', 'gita', 'sita'}\n",
    "\n",
    "tea_only = tea - coffee # difference\n",
    "print(tea_only)"
   ]
  },
  {
   "cell_type": "code",
   "execution_count": 32,
   "id": "535808b5",
   "metadata": {},
   "outputs": [
    {
     "name": "stdout",
     "output_type": "stream",
     "text": [
      "{'ram', 'shyam'}\n"
     ]
    }
   ],
   "source": [
    "tea = {'ram', 'shyam', 'sita'}\n",
    "coffee = {'hari', 'gita', 'sita'}\n",
    "\n",
    "tea_only = tea.difference(coffee) # difference\n",
    "print(tea_only)"
   ]
  },
  {
   "cell_type": "code",
   "execution_count": 33,
   "id": "cf7da218",
   "metadata": {},
   "outputs": [
    {
     "name": "stdout",
     "output_type": "stream",
     "text": [
      "{'gita', 'hari'}\n"
     ]
    }
   ],
   "source": [
    "tea = {'ram', 'shyam', 'sita'}\n",
    "coffee = {'hari', 'gita', 'sita'}\n",
    "\n",
    "coffee_only = coffee - tea \n",
    "print(coffee_only)"
   ]
  },
  {
   "cell_type": "code",
   "execution_count": 34,
   "id": "050ce11c",
   "metadata": {},
   "outputs": [
    {
     "name": "stdout",
     "output_type": "stream",
     "text": [
      "{'gita', 'ram', 'shyam', 'hari'}\n"
     ]
    }
   ],
   "source": [
    "tea = {'ram', 'shyam', 'sita'}\n",
    "coffee = {'hari', 'gita', 'sita'}\n",
    "\n",
    "tea_only_and_coffee_only = tea.symmetric_difference(coffee)\n",
    "print(tea_only_and_coffee_only)"
   ]
  },
  {
   "cell_type": "code",
   "execution_count": 35,
   "id": "54e3f526",
   "metadata": {},
   "outputs": [
    {
     "name": "stdout",
     "output_type": "stream",
     "text": [
      "1\n"
     ]
    }
   ],
   "source": [
    "x = [1,2,3,4,5]\n",
    "print(min(x))"
   ]
  },
  {
   "cell_type": "code",
   "execution_count": 36,
   "id": "c49fd87c",
   "metadata": {},
   "outputs": [
    {
     "data": {
      "text/plain": [
       "5"
      ]
     },
     "execution_count": 36,
     "metadata": {},
     "output_type": "execute_result"
    }
   ],
   "source": [
    "max(x)"
   ]
  },
  {
   "cell_type": "code",
   "execution_count": 37,
   "id": "f02106b2",
   "metadata": {},
   "outputs": [
    {
     "data": {
      "text/plain": [
       "15"
      ]
     },
     "execution_count": 37,
     "metadata": {},
     "output_type": "execute_result"
    }
   ],
   "source": [
    "sum(x)"
   ]
  },
  {
   "cell_type": "code",
   "execution_count": 38,
   "id": "684d0f6a",
   "metadata": {},
   "outputs": [
    {
     "name": "stdout",
     "output_type": "stream",
     "text": [
      "[2, 4, 5, 11, 13]\n"
     ]
    }
   ],
   "source": [
    "x = [11,2,13,4,5]\n",
    "print(sorted(x))"
   ]
  },
  {
   "cell_type": "code",
   "execution_count": 41,
   "id": "f1ebc3fb",
   "metadata": {},
   "outputs": [
    {
     "name": "stdout",
     "output_type": "stream",
     "text": [
      "[13, 11, 5, 4, 2]\n"
     ]
    }
   ],
   "source": [
    "x = [11,2,13,4,5]\n",
    "print(sorted(x, reverse=True))"
   ]
  },
  {
   "cell_type": "code",
   "execution_count": 42,
   "id": "3947bb9d",
   "metadata": {},
   "outputs": [
    {
     "name": "stdout",
     "output_type": "stream",
     "text": [
      "[13, 11, 5, 4, 2]\n"
     ]
    }
   ],
   "source": [
    "x = {11,2,13,4,5}\n",
    "print(sorted(x, reverse=True))"
   ]
  },
  {
   "cell_type": "code",
   "execution_count": 43,
   "id": "59d5472d",
   "metadata": {},
   "outputs": [
    {
     "name": "stdout",
     "output_type": "stream",
     "text": [
      "5\n"
     ]
    }
   ],
   "source": [
    "x = {11,2,13,4,5}\n",
    "print(len(x))"
   ]
  },
  {
   "cell_type": "code",
   "execution_count": 44,
   "id": "033574d9",
   "metadata": {},
   "outputs": [
    {
     "name": "stdout",
     "output_type": "stream",
     "text": [
      "{'e', 'p', 'l', 'a'}\n"
     ]
    }
   ],
   "source": [
    "my_set = set(\"apple\")\n",
    "print(my_set)"
   ]
  },
  {
   "cell_type": "code",
   "execution_count": 45,
   "id": "cf19b9ce",
   "metadata": {},
   "outputs": [
    {
     "data": {
      "text/plain": [
       "True"
      ]
     },
     "execution_count": 45,
     "metadata": {},
     "output_type": "execute_result"
    }
   ],
   "source": [
    "x = {11,2,13,4,5}\n",
    "5 in x"
   ]
  },
  {
   "cell_type": "code",
   "execution_count": 46,
   "id": "eb624fb4",
   "metadata": {},
   "outputs": [
    {
     "data": {
      "text/plain": [
       "False"
      ]
     },
     "execution_count": 46,
     "metadata": {},
     "output_type": "execute_result"
    }
   ],
   "source": [
    "6 in x"
   ]
  },
  {
   "cell_type": "code",
   "execution_count": 47,
   "id": "87c03e03",
   "metadata": {},
   "outputs": [
    {
     "name": "stdout",
     "output_type": "stream",
     "text": [
      "2\n",
      "4\n",
      "5\n",
      "11\n",
      "13\n"
     ]
    }
   ],
   "source": [
    "x = {11,2,13,4,5}\n",
    "for i in x:\n",
    "    print(i)"
   ]
  },
  {
   "cell_type": "code",
   "execution_count": 48,
   "id": "936c291a",
   "metadata": {},
   "outputs": [
    {
     "name": "stdout",
     "output_type": "stream",
     "text": [
      "{2, 4, 5, 11, 13}\n",
      "{2, 4, 5, 11, 13}\n",
      "{2, 4, 5, 11, 13}\n",
      "{2, 4, 5, 11, 13}\n",
      "{2, 4, 5, 11, 13}\n"
     ]
    }
   ],
   "source": [
    "x = {11,2,13,4,5}\n",
    "for i in x:\n",
    "    print(x)"
   ]
  },
  {
   "cell_type": "code",
   "execution_count": 49,
   "id": "1077f8fc",
   "metadata": {},
   "outputs": [
    {
     "name": "stdout",
     "output_type": "stream",
     "text": [
      "11 2\n"
     ]
    }
   ],
   "source": [
    "x = [11,2,13,4,5]\n",
    "print(x[0], x[1])"
   ]
  },
  {
   "cell_type": "code",
   "execution_count": 50,
   "id": "31c15c15",
   "metadata": {},
   "outputs": [
    {
     "name": "stdout",
     "output_type": "stream",
     "text": [
      "Unauthorized.\n"
     ]
    }
   ],
   "source": [
    "age = 17\n",
    "\n",
    "if age < 18:\n",
    "    print(\"Unauthorized.\")"
   ]
  },
  {
   "cell_type": "code",
   "execution_count": 51,
   "id": "2d57331c",
   "metadata": {},
   "outputs": [
    {
     "name": "stdout",
     "output_type": "stream",
     "text": [
      "Hello world.\n"
     ]
    }
   ],
   "source": [
    "age = 19\n",
    "\n",
    "if age < 18:\n",
    "    print(\"Unauthorized.\")\n",
    "    \n",
    "print(\"Hello world.\")"
   ]
  },
  {
   "cell_type": "code",
   "execution_count": 52,
   "id": "333fb8d9",
   "metadata": {},
   "outputs": [
    {
     "name": "stdout",
     "output_type": "stream",
     "text": [
      "Unauthorized.\n",
      "Hello world.\n"
     ]
    }
   ],
   "source": [
    "age = 17\n",
    "\n",
    "if age < 18:\n",
    "    print(\"Unauthorized.\")\n",
    "    \n",
    "print(\"Hello world.\")"
   ]
  },
  {
   "cell_type": "code",
   "execution_count": 54,
   "id": "791dbfdb",
   "metadata": {},
   "outputs": [
    {
     "name": "stdout",
     "output_type": "stream",
     "text": [
      "Enter the marks: 39\n",
      "fail\n"
     ]
    }
   ],
   "source": [
    "mark = int(input(\"Enter the marks: \"))\n",
    "\n",
    "if mark >= 40:\n",
    "    print(\"pass\")\n",
    "\n",
    "if mark < 40:\n",
    "    print(\"fail\")"
   ]
  },
  {
   "cell_type": "code",
   "execution_count": 55,
   "id": "a9538bc6",
   "metadata": {},
   "outputs": [
    {
     "name": "stdout",
     "output_type": "stream",
     "text": [
      "Enter the value of x: 2\n",
      "Enter the value of y: 4\n",
      "y is greater than x\n"
     ]
    }
   ],
   "source": [
    "x = int(input(\"Enter the value of x: \"))\n",
    "y = int(input(\"Enter the value of y: \"))\n",
    "\n",
    "if x > y:\n",
    "    print(\"x is greater than y\")\n",
    "    \n",
    "if y > x:\n",
    "    print(\"y is greater than x\")"
   ]
  },
  {
   "cell_type": "code",
   "execution_count": 57,
   "id": "cf73783d",
   "metadata": {},
   "outputs": [
    {
     "name": "stdout",
     "output_type": "stream",
     "text": [
      "Enter the marks: 40\n",
      "pass\n"
     ]
    }
   ],
   "source": [
    "mark = int(input(\"Enter the marks: \"))\n",
    "\n",
    "if mark >= 40:\n",
    "    print(\"pass\")\n",
    "else:\n",
    "    print(\"fail\")"
   ]
  },
  {
   "cell_type": "code",
   "execution_count": 60,
   "id": "720ab696",
   "metadata": {},
   "outputs": [
    {
     "name": "stdout",
     "output_type": "stream",
     "text": [
      "Enter the value of x: 1\n",
      "Enter the value of y: 1\n",
      "y is greater than x\n"
     ]
    }
   ],
   "source": [
    "x = int(input(\"Enter the value of x: \"))\n",
    "y = int(input(\"Enter the value of y: \"))\n",
    "\n",
    "if x > y:\n",
    "    print(\"x is greater than y\")\n",
    "else:\n",
    "    print(\"y is greater than x\")"
   ]
  },
  {
   "cell_type": "code",
   "execution_count": 62,
   "id": "612b1495",
   "metadata": {},
   "outputs": [
    {
     "name": "stdout",
     "output_type": "stream",
     "text": [
      "Enter the value of x: 4\n",
      "Enter the value of y: 1\n",
      "x is greater than y\n"
     ]
    }
   ],
   "source": [
    "x = int(input(\"Enter the value of x: \"))\n",
    "y = int(input(\"Enter the value of y: \"))\n",
    "\n",
    "if x > y:\n",
    "    print(\"x is greater than y\")\n",
    "elif x == y:\n",
    "    print(\"x is equal to y\")\n",
    "else:\n",
    "    print(\"y is greater than x\")"
   ]
  },
  {
   "cell_type": "code",
   "execution_count": 63,
   "id": "17bc0602",
   "metadata": {},
   "outputs": [
    {
     "name": "stdout",
     "output_type": "stream",
     "text": [
      "Enter the value of x: 1\n",
      "Enter the value of y: 2\n",
      "Enter the value of z: 3\n",
      "z is greatest\n"
     ]
    }
   ],
   "source": [
    "x = int(input(\"Enter the value of x: \"))\n",
    "y = int(input(\"Enter the value of y: \"))\n",
    "z = int(input(\"Enter the value of z: \"))\n",
    "\n",
    "if x > y and x > z:\n",
    "    print(\"x is greatest.\")\n",
    "elif y > x and y > z:\n",
    "    print(\"y is greatest.\")\n",
    "else:\n",
    "    print(\"z is greatest\")"
   ]
  },
  {
   "cell_type": "code",
   "execution_count": 65,
   "id": "60b97cbc",
   "metadata": {},
   "outputs": [
    {
     "name": "stdout",
     "output_type": "stream",
     "text": [
      "Enter the value of x: 3\n",
      "Enter the value of y: 2\n",
      "Enter the value of z: 1\n",
      "x is greatest.\n"
     ]
    }
   ],
   "source": [
    "x = int(input(\"Enter the value of x: \"))\n",
    "y = int(input(\"Enter the value of y: \"))\n",
    "z = int(input(\"Enter the value of z: \"))\n",
    "\n",
    "if y < x > z:\n",
    "    print(\"x is greatest.\")\n",
    "elif x < y > z:\n",
    "    print(\"y is greatest.\")\n",
    "else:\n",
    "    print(\"z is greatest\")"
   ]
  },
  {
   "cell_type": "code",
   "execution_count": 66,
   "id": "bafc8dab",
   "metadata": {},
   "outputs": [
    {
     "name": "stdout",
     "output_type": "stream",
     "text": [
      "Enter the value of x: 1\n",
      "Enter the value of y: 2\n",
      "Enter the value of z: 3\n",
      "z is greatest\n"
     ]
    }
   ],
   "source": [
    "x = int(input(\"Enter the value of x: \"))\n",
    "y = int(input(\"Enter the value of y: \"))\n",
    "z = int(input(\"Enter the value of z: \"))\n",
    "\n",
    "if x > y and x > z:\n",
    "    print(\"x is greatest.\")\n",
    "elif y > x and y > z:\n",
    "    print(\"y is greatest.\")\n",
    "elif z > x and z > y:\n",
    "    print(\"z is greatest\")"
   ]
  },
  {
   "cell_type": "code",
   "execution_count": 3,
   "id": "aade0411",
   "metadata": {},
   "outputs": [
    {
     "name": "stdout",
     "output_type": "stream",
     "text": [
      "Enter the username: admin\n",
      "Enter the passwowrd: admin123\n",
      "Successfully logged in.\n"
     ]
    }
   ],
   "source": [
    "# username = \"admin\"\n",
    "# password = \"admin123\"\n",
    "\n",
    "username = input(\"Enter the username: \")\n",
    "password = input(\"Enter the passwowrd: \")\n",
    "\n",
    "if username == \"admin\" and password == \"admin123\":\n",
    "    print(\"Successfully logged in.\")\n",
    "\n",
    "else:\n",
    "    print(\"Incorrect username or password.\")\n"
   ]
  },
  {
   "cell_type": "code",
   "execution_count": 4,
   "id": "eed2fac7",
   "metadata": {},
   "outputs": [
    {
     "name": "stdout",
     "output_type": "stream",
     "text": [
      "Enter the username: asdfs\n",
      "Enter the password: asdfads\n",
      "Enter the role: superadmin\n",
      "Successfully logged in.\n"
     ]
    }
   ],
   "source": [
    "# username = \"admin\"\n",
    "# password = \"admin123\"\n",
    "# role = \"superadmin\"\n",
    "\n",
    "# username = \"admin\"\n",
    "# password = \"admin123\"\n",
    "\n",
    "username = input(\"Enter the username: \")\n",
    "password = input(\"Enter the password: \")\n",
    "role = input(\"Enter the role: \")\n",
    "\n",
    "if (username == \"admin\" and password == \"admin123\") or role == \"superadmin\":\n",
    "    print(\"Successfully logged in.\")\n",
    "\n",
    "else:\n",
    "    print(\"Incorrect username or password.\")\n"
   ]
  },
  {
   "cell_type": "code",
   "execution_count": 6,
   "id": "29f6d6a9",
   "metadata": {},
   "outputs": [
    {
     "name": "stdout",
     "output_type": "stream",
     "text": [
      "Enter the username: admin\n",
      "Enter the password: admin123\n",
      "Enter the role: dsafdsa\n",
      "Successfully logged in.\n"
     ]
    }
   ],
   "source": [
    "username = input(\"Enter the username: \")\n",
    "password = input(\"Enter the password: \")\n",
    "role = input(\"Enter the role: \")\n",
    "\n",
    "if (username == \"admin\" and password == \"admin123\"):\n",
    "    print(\"Successfully logged in.\")\n",
    "elif role == \"superadmin\":\n",
    "    print(f\"Successfully logged in {role}\")\n",
    "else:\n",
    "    print(\"Incorrect username or password.\")\n"
   ]
  },
  {
   "cell_type": "code",
   "execution_count": 10,
   "id": "ffd601fe",
   "metadata": {},
   "outputs": [
    {
     "name": "stdout",
     "output_type": "stream",
     "text": [
      "Enter the username: dsfgds\n",
      "Enter the password: sdafds\n",
      "Enter the role: y\n",
      "Incorrect username or password.\n"
     ]
    }
   ],
   "source": [
    "username = input(\"Enter the username: \")\n",
    "password = input(\"Enter the password: \")\n",
    "\n",
    "# nested if.. else..\n",
    "if (username == \"admin\" and password == \"admin123\"):\n",
    "    print(\"Successfully logged in.\")\n",
    "else:\n",
    "    role = input(\"Enter the role: \")\n",
    "    if role == \"superadmin\":\n",
    "        print(f\"Successfully logged in {role}\")\n",
    "    else:\n",
    "        print(\"Incorrect username or password.\")\n"
   ]
  },
  {
   "cell_type": "code",
   "execution_count": 15,
   "id": "5549f125",
   "metadata": {},
   "outputs": [
    {
     "name": "stdout",
     "output_type": "stream",
     "text": [
      "Enter the username: asdf\n",
      "Enter the password: asdf\n",
      "Do you want to access through your role? Press y/yes to continue: superadmin\n",
      "Incorrect username or password.\n"
     ]
    }
   ],
   "source": [
    "username = input(\"Enter the username: \")\n",
    "password = input(\"Enter the password: \")\n",
    "\n",
    "# nested if.. else..\n",
    "if (username == \"admin\" and password == \"admin123\"):\n",
    "    print(\"Successfully logged in.\")\n",
    "else:\n",
    "    confirm = input(\"Do you want to access through your role? Press y/yes to continue: \")\n",
    "    if confirm.lower() in ['y', 'yes']:\n",
    "        role = input(\"Enter the role: \")\n",
    "        if role == \"superadmin\":\n",
    "            print(f\"Successfully logged in {role}\")\n",
    "        else:\n",
    "            print(\"Incorrect username or password.\")\n",
    "    else:\n",
    "        print(\"Incorrect username or password.\")\n"
   ]
  },
  {
   "cell_type": "code",
   "execution_count": 17,
   "id": "6f25ca90",
   "metadata": {},
   "outputs": [
    {
     "name": "stdout",
     "output_type": "stream",
     "text": [
      "The sum of 11 and 2 is 13\n"
     ]
    }
   ],
   "source": [
    "x = 11\n",
    "y = 2\n",
    "\n",
    "sum = x + y\n",
    "\n",
    "print(f\"The sum of {x} and {y} is {sum}\")"
   ]
  },
  {
   "cell_type": "code",
   "execution_count": 18,
   "id": "a57ce07f",
   "metadata": {},
   "outputs": [
    {
     "name": "stdout",
     "output_type": "stream",
     "text": [
      "Enter the username: asdfdsa\n",
      "Enter the password: asdfdas\n",
      "Do you want to access through your role? Press y/yes to continue: n\n",
      "Incorrect username or password...\n"
     ]
    }
   ],
   "source": [
    "username = input(\"Enter the username: \")\n",
    "password = input(\"Enter the password: \")\n",
    "\n",
    "# nested if.. else..\n",
    "if (username == \"admin\" and password == \"admin123\"):\n",
    "    print(\"Successfully logged in.\")\n",
    "else:\n",
    "    confirm = input(\"Do you want to access through your role? Press y/yes to continue: \")\n",
    "    if confirm.lower() == \"y\" or confirm.lower() == \"yes\":\n",
    "        role = input(\"Enter the role: \")\n",
    "        if role == \"superadmin\":\n",
    "            print(f\"Successfully logged in {role}\")\n",
    "        else:\n",
    "            print(\"Incorrect username or password.\")\n",
    "    else:\n",
    "        print(\"Incorrect username or password...\")"
   ]
  },
  {
   "cell_type": "code",
   "execution_count": null,
   "id": "51d397d3",
   "metadata": {},
   "outputs": [],
   "source": [
    ">= 80 => distinction\n",
    "60-80 => first division\n",
    "50-60 => second division\n",
    "35-50 => third division\n",
    "< 35 => fail"
   ]
  },
  {
   "cell_type": "code",
   "execution_count": 22,
   "id": "e7854bcd",
   "metadata": {},
   "outputs": [
    {
     "name": "stdout",
     "output_type": "stream",
     "text": [
      "ENter mark in math: 60\n",
      "80.125\n",
      "distinction\n"
     ]
    }
   ],
   "source": [
    "math = int(input(\"ENter mark in math: \"))\n",
    "science = 80\n",
    "english = 90\n",
    "nepali = 84\n",
    "optional_math = 66\n",
    "social = 77\n",
    "eph = 95\n",
    "computer = 89\n",
    "\n",
    "average = (math + science + \n",
    "           english + nepali + \n",
    "           optional_math + social + \n",
    "           eph + computer) / 8\n",
    "print(average)\n",
    "if average < 35:\n",
    "    print(\"failed\")\n",
    "elif 35<=average<50: # elif average >35 and average < 50:\n",
    "    print('third division')\n",
    "elif 50<=average<60:\n",
    "    print('second division')\n",
    "elif 60<=average<80:\n",
    "    print('first division')\n",
    "elif 80<=average<=100:\n",
    "    print('distinction')"
   ]
  },
  {
   "cell_type": "code",
   "execution_count": null,
   "id": "c5c4c4ed",
   "metadata": {},
   "outputs": [],
   "source": [
    "age => 1-13 -> teenage\n",
    "age => 13-18 -> young\n",
    "age => 18-35 -> adult\n",
    "age => 35-45 -> old\n",
    "age => >=45 -> very old"
   ]
  }
 ],
 "metadata": {
  "kernelspec": {
   "display_name": "Python 3 (ipykernel)",
   "language": "python",
   "name": "python3"
  },
  "language_info": {
   "codemirror_mode": {
    "name": "ipython",
    "version": 3
   },
   "file_extension": ".py",
   "mimetype": "text/x-python",
   "name": "python",
   "nbconvert_exporter": "python",
   "pygments_lexer": "ipython3",
   "version": "3.11.1"
  }
 },
 "nbformat": 4,
 "nbformat_minor": 5
}
