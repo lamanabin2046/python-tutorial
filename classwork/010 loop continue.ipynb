{
 "cells": [
  {
   "cell_type": "code",
   "execution_count": 1,
   "id": "0b967898",
   "metadata": {},
   "outputs": [
    {
     "name": "stdout",
     "output_type": "stream",
     "text": [
      "{'Alan': 4, 'Bill': 4, 'Cory': 4, 'Ram': 3, 'Shyam': 5, 'Gita': 4}\n"
     ]
    }
   ],
   "source": [
    "students = ['Alan', 'Bill', 'Cory', 'Ram', 'Shyam', 'Gita']\n",
    "# output = {'Alan': 4, 'Bill': 4, 'Cory': 4, 'Ram': 3, 'Shyam': 4, 'Gita': 5}\n",
    "\n",
    "output = {}\n",
    "for student in students:\n",
    "    output.update({student: len(student)})\n",
    "    \n",
    "print(output)"
   ]
  },
  {
   "cell_type": "code",
   "execution_count": 2,
   "id": "c2e760a1",
   "metadata": {},
   "outputs": [
    {
     "data": {
      "text/plain": [
       "[0, 1, 2, 3, 4, 5, 6, 7, 8, 9]"
      ]
     },
     "execution_count": 2,
     "metadata": {},
     "output_type": "execute_result"
    }
   ],
   "source": [
    "list(range(0, 10))"
   ]
  },
  {
   "cell_type": "code",
   "execution_count": 3,
   "id": "9d561ec3",
   "metadata": {},
   "outputs": [
    {
     "data": {
      "text/plain": [
       "[0, 1, 2, 3, 4, 5, 6, 7, 8, 9]"
      ]
     },
     "execution_count": 3,
     "metadata": {},
     "output_type": "execute_result"
    }
   ],
   "source": [
    "list(range(0, 10, 1))"
   ]
  },
  {
   "cell_type": "code",
   "execution_count": 4,
   "id": "91435b00",
   "metadata": {},
   "outputs": [
    {
     "data": {
      "text/plain": [
       "[0, 2, 4, 6, 8]"
      ]
     },
     "execution_count": 4,
     "metadata": {},
     "output_type": "execute_result"
    }
   ],
   "source": [
    "list(range(0, 10, 2))"
   ]
  },
  {
   "cell_type": "code",
   "execution_count": 5,
   "id": "2c48dee7",
   "metadata": {},
   "outputs": [
    {
     "data": {
      "text/plain": [
       "[10, 9, 8, 7, 6, 5, 4, 3, 2, 1]"
      ]
     },
     "execution_count": 5,
     "metadata": {},
     "output_type": "execute_result"
    }
   ],
   "source": [
    "list(range(10, 0, -1))"
   ]
  },
  {
   "cell_type": "code",
   "execution_count": 6,
   "id": "c75c4ee4",
   "metadata": {},
   "outputs": [
    {
     "data": {
      "text/plain": [
       "[10, 9, 8, 7, 6, 5, 4, 3, 2, 1, 0]"
      ]
     },
     "execution_count": 6,
     "metadata": {},
     "output_type": "execute_result"
    }
   ],
   "source": [
    "list(range(10, -1, -1))"
   ]
  },
  {
   "cell_type": "code",
   "execution_count": 8,
   "id": "a50ef16f",
   "metadata": {},
   "outputs": [
    {
     "data": {
      "text/plain": [
       "range(10, -1, -1)"
      ]
     },
     "execution_count": 8,
     "metadata": {},
     "output_type": "execute_result"
    }
   ],
   "source": [
    "range(10, -1, -1)"
   ]
  },
  {
   "cell_type": "code",
   "execution_count": 7,
   "id": "c5c75164",
   "metadata": {},
   "outputs": [
    {
     "name": "stdout",
     "output_type": "stream",
     "text": [
      "10\n",
      "9\n",
      "8\n",
      "7\n",
      "6\n",
      "5\n",
      "4\n",
      "3\n",
      "2\n",
      "1\n",
      "0\n"
     ]
    }
   ],
   "source": [
    "for i in range(10, -1, -1):\n",
    "    print(i)"
   ]
  },
  {
   "cell_type": "code",
   "execution_count": 11,
   "id": "0aa043d8",
   "metadata": {},
   "outputs": [
    {
     "name": "stdout",
     "output_type": "stream",
     "text": [
      "5 Gita\n",
      "4 Shyam\n",
      "3 Ram\n",
      "2 Cory\n",
      "1 Bill\n",
      "0 Alan\n"
     ]
    }
   ],
   "source": [
    "students = ['Alan', 'Bill', 'Cory', 'Ram', 'Shyam', 'Gita', 'Rita']\n",
    "\n",
    "for i in range(len(students)-1, -1, -1):\n",
    "    print(i, students[i])"
   ]
  },
  {
   "cell_type": "code",
   "execution_count": 16,
   "id": "d461d147",
   "metadata": {},
   "outputs": [
    {
     "name": "stdout",
     "output_type": "stream",
     "text": [
      "dict_items([('milk', 2.03), ('bread', 2.6), ('butter', 2.6)])\n"
     ]
    }
   ],
   "source": [
    "us_price = {'milk': 2.03, 'bread': 2.6, 'butter': 2.6}\n",
    "print(us_price.items())"
   ]
  },
  {
   "cell_type": "code",
   "execution_count": 18,
   "id": "ea5fe9c7",
   "metadata": {},
   "outputs": [
    {
     "name": "stdout",
     "output_type": "stream",
     "text": [
      "('milk', 2.03)\n",
      "('bread', 2.6)\n",
      "('butter', 2.6)\n"
     ]
    }
   ],
   "source": [
    "x = [('milk', 2.03), ('bread', 2.6), ('butter', 2.6)]\n",
    "for i in x:\n",
    "    print(i)"
   ]
  },
  {
   "cell_type": "code",
   "execution_count": 21,
   "id": "1f52f67a",
   "metadata": {},
   "outputs": [
    {
     "name": "stdout",
     "output_type": "stream",
     "text": [
      "milk 2.03\n"
     ]
    }
   ],
   "source": [
    "i,j = ('milk', 2.03)\n",
    "print(i, j)"
   ]
  },
  {
   "cell_type": "code",
   "execution_count": 22,
   "id": "625d81af",
   "metadata": {},
   "outputs": [
    {
     "name": "stdout",
     "output_type": "stream",
     "text": [
      "milk 2.03\n",
      "bread 2.6\n",
      "butter 2.6\n"
     ]
    }
   ],
   "source": [
    "x = [('milk', 2.03), ('bread', 2.6), ('butter', 2.6)]\n",
    "for k, v in x:\n",
    "    print(k, v)"
   ]
  },
  {
   "cell_type": "code",
   "execution_count": 23,
   "id": "118e80ea",
   "metadata": {},
   "outputs": [
    {
     "name": "stdout",
     "output_type": "stream",
     "text": [
      "{'milk': 263.9, 'bread': 338.0, 'butter': 338.0}\n"
     ]
    }
   ],
   "source": [
    "us_price = {'milk': 2.03, 'bread': 2.6, 'butter': 2.6}\n",
    "# nep_price = {'milk': 268.6299, 'bread': 344.05800000000005, 'butter': 344.05800000000005}\n",
    "nep_price = {}\n",
    "for k,v in us_price.items():\n",
    "    nep_price.update({k: v * 130})\n",
    "    \n",
    "print(nep_price)"
   ]
  },
  {
   "cell_type": "code",
   "execution_count": 24,
   "id": "606e7e5e",
   "metadata": {},
   "outputs": [
    {
     "name": "stdout",
     "output_type": "stream",
     "text": [
      "{'milk': 298.20699999999994, 'bread': 381.93999999999994, 'butter': 381.93999999999994}\n"
     ]
    }
   ],
   "source": [
    "us_price = {'milk': 2.03, 'bread': 2.6, 'butter': 2.6}\n",
    "\n",
    "nep_price = {}\n",
    "for k,v in us_price.items():\n",
    "    nep_price.update({k: v * 130 * 1.13})\n",
    "    \n",
    "print(nep_price)"
   ]
  },
  {
   "cell_type": "code",
   "execution_count": 25,
   "id": "a6501c61",
   "metadata": {},
   "outputs": [
    {
     "name": "stdout",
     "output_type": "stream",
     "text": [
      "{'milk': 298.20699999999994, 'bread': 381.93999999999994, 'butter': 381.93999999999994, 'meat': 734.4999999999999}\n"
     ]
    }
   ],
   "source": [
    "us_price = {'milk': 2.03, 'bread': 2.6, \n",
    "            'butter': 2.6, 'meat': 5, 'mobile':500,\n",
    "        'television': 340}\n",
    "\n",
    "nep_price = {}\n",
    "for k,v in us_price.items():\n",
    "    if v <= 5:\n",
    "        nep_price.update({k: v * 130 * 1.13})\n",
    "    \n",
    "print(nep_price)"
   ]
  },
  {
   "cell_type": "code",
   "execution_count": 26,
   "id": "5f821a92",
   "metadata": {},
   "outputs": [
    {
     "name": "stdout",
     "output_type": "stream",
     "text": [
      "{'milk': 298.20699999999994, 'bread': 381.93999999999994, 'butter': 381.93999999999994, 'meat': 734.4999999999999, 'mobile': 78000.0, 'television': 53040.0}\n"
     ]
    }
   ],
   "source": [
    "us_price = {'milk': 2.03, 'bread': 2.6, \n",
    "            'butter': 2.6, 'meat': 5, 'mobile':500,\n",
    "        'television': 340}\n",
    "\n",
    "nep_price = {}\n",
    "for k,v in us_price.items():\n",
    "    if v <= 5:\n",
    "        nep_price.update({k: v * 130 * 1.13})\n",
    "    else:\n",
    "        nep_price.update({k: v * 130 * 1.20})\n",
    "        \n",
    "print(nep_price)"
   ]
  },
  {
   "cell_type": "code",
   "execution_count": 28,
   "id": "fd177c39",
   "metadata": {},
   "outputs": [
    {
     "name": "stdout",
     "output_type": "stream",
     "text": [
      "852.23\n",
      "132836.587\n"
     ]
    }
   ],
   "source": [
    "us_price = {'milk': 2.03, 'bread': 2.6, \n",
    "            'butter': 2.6, 'meat': 5, 'mobile':500,\n",
    "        'television': 340}\n",
    "\n",
    "nep_price = {}\n",
    "total_us_price = total_nep_price = 0\n",
    "\n",
    "for k, v in us_price.items():\n",
    "    total_us_price += v\n",
    "    if v <= 5:\n",
    "        nep_price.update({k: v * 130 * 1.13})\n",
    "        total_nep_price += v * 130 * 1.13\n",
    "    else:\n",
    "        nep_price.update({k: v * 130 * 1.20})\n",
    "        total_nep_price += v * 130 * 1.20\n",
    "        \n",
    "print(total_us_price)\n",
    "print(total_nep_price)"
   ]
  },
  {
   "cell_type": "code",
   "execution_count": 31,
   "id": "580b79e7",
   "metadata": {},
   "outputs": [],
   "source": [
    "numbers = [1,2,3,4,5,6,7,8,9,10,11,12] \n",
    "\n",
    "for i in numbers:\n",
    "    if i == 6:\n",
    "        pass"
   ]
  },
  {
   "cell_type": "code",
   "execution_count": 32,
   "id": "0050013c",
   "metadata": {},
   "outputs": [
    {
     "ename": "SyntaxError",
     "evalue": "incomplete input (2160011974.py, line 2)",
     "output_type": "error",
     "traceback": [
      "\u001b[0;36m  Cell \u001b[0;32mIn[32], line 2\u001b[0;36m\u001b[0m\n\u001b[0;31m    \u001b[0m\n\u001b[0m    ^\u001b[0m\n\u001b[0;31mSyntaxError\u001b[0m\u001b[0;31m:\u001b[0m incomplete input\n"
     ]
    }
   ],
   "source": [
    "def hello():\n",
    "    "
   ]
  },
  {
   "cell_type": "code",
   "execution_count": 33,
   "id": "bc31ea7b",
   "metadata": {},
   "outputs": [],
   "source": [
    "def hello():\n",
    "    pass"
   ]
  },
  {
   "cell_type": "code",
   "execution_count": 35,
   "id": "a1e3fc13",
   "metadata": {},
   "outputs": [
    {
     "name": "stdout",
     "output_type": "stream",
     "text": [
      "72\n"
     ]
    }
   ],
   "source": [
    "numbers = [1,2,3,4,5,6,7,8,9,10,11,12] \n",
    "\n",
    "sum = 0\n",
    "for i in numbers:\n",
    "    if i == 6:\n",
    "        pass\n",
    "    else:\n",
    "        sum += i\n",
    "        \n",
    "print(sum)"
   ]
  },
  {
   "cell_type": "code",
   "execution_count": 36,
   "id": "7a5b7527",
   "metadata": {},
   "outputs": [
    {
     "name": "stdout",
     "output_type": "stream",
     "text": [
      "72\n"
     ]
    }
   ],
   "source": [
    "numbers = [1,2,3,4,5,6,7,8,9,10,11,12] \n",
    "\n",
    "sum = 0\n",
    "for i in numbers:\n",
    "    if i != 6:\n",
    "        sum += i\n",
    "        \n",
    "print(sum)"
   ]
  },
  {
   "cell_type": "code",
   "execution_count": 44,
   "id": "7953b1ad",
   "metadata": {},
   "outputs": [
    {
     "name": "stdout",
     "output_type": "stream",
     "text": [
      "57\n"
     ]
    }
   ],
   "source": [
    "numbers = [1,2,3,4,5,6,7,8,9,10,11,12] \n",
    "\n",
    "sum = 0\n",
    "for i in numbers:\n",
    "    if i not in [6, 7, 8]:\n",
    "        sum += i\n",
    "        \n",
    "print(sum)"
   ]
  },
  {
   "cell_type": "code",
   "execution_count": 45,
   "id": "6e3b56e8",
   "metadata": {},
   "outputs": [
    {
     "name": "stdout",
     "output_type": "stream",
     "text": [
      "1\n",
      "2\n",
      "3\n",
      "4\n",
      "5\n",
      "9\n",
      "10\n",
      "11\n",
      "12\n",
      "57\n"
     ]
    }
   ],
   "source": [
    "numbers = [1,2,3,4,5,6,7,8,9,10,11,12] \n",
    "\n",
    "sum = 0\n",
    "for i in numbers:\n",
    "    if i in [6, 7, 8]:\n",
    "        continue # skips the current loop\n",
    "    sum += i\n",
    "    print(i)\n",
    "        \n",
    "print(sum)"
   ]
  },
  {
   "cell_type": "code",
   "execution_count": 46,
   "id": "b0fb5524",
   "metadata": {},
   "outputs": [
    {
     "name": "stdout",
     "output_type": "stream",
     "text": [
      "35\n"
     ]
    }
   ],
   "source": [
    "numbers = [11,2,13,4,5,6,7,8,9,10,11,12]\n",
    "sum = 0\n",
    "for i in numbers:\n",
    "    if i == 6:\n",
    "        break\n",
    "    sum += i\n",
    "print(sum)"
   ]
  },
  {
   "cell_type": "code",
   "execution_count": 47,
   "id": "41e1948a",
   "metadata": {},
   "outputs": [
    {
     "name": "stdout",
     "output_type": "stream",
     "text": [
      "ram eats momo\n",
      "ram eats chawmein\n",
      "ram eats thukpa\n",
      "shyam eats momo\n",
      "shyam eats chawmein\n",
      "shyam eats thukpa\n",
      "gita eats momo\n",
      "gita eats chawmein\n",
      "gita eats thukpa\n",
      "sita eats momo\n",
      "sita eats chawmein\n",
      "sita eats thukpa\n"
     ]
    }
   ],
   "source": [
    "names = ['ram', 'shyam', 'gita', 'sita']\n",
    "foods = ['momo', 'chawmein', 'thukpa']\n",
    "\n",
    "# nested for loop\n",
    "for name in names: # ram, shyam\n",
    "    for food in foods: # momo, chawemin, thukpa\n",
    "        print(f\"{name} eats {food}\")"
   ]
  },
  {
   "cell_type": "code",
   "execution_count": null,
   "id": "eb223e13",
   "metadata": {},
   "outputs": [],
   "source": []
  }
 ],
 "metadata": {
  "kernelspec": {
   "display_name": "Python 3 (ipykernel)",
   "language": "python",
   "name": "python3"
  },
  "language_info": {
   "codemirror_mode": {
    "name": "ipython",
    "version": 3
   },
   "file_extension": ".py",
   "mimetype": "text/x-python",
   "name": "python",
   "nbconvert_exporter": "python",
   "pygments_lexer": "ipython3",
   "version": "3.11.1"
  }
 },
 "nbformat": 4,
 "nbformat_minor": 5
}
