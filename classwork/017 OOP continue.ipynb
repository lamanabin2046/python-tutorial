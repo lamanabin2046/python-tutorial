{
 "cells": [
  {
   "cell_type": "code",
   "execution_count": 1,
   "id": "0163467b",
   "metadata": {},
   "outputs": [],
   "source": [
    "class Person:\n",
    "    # outside of class (variable) => inside class (attribute, property)\n",
    "    name = 'ram'\n",
    "    age = 22\n",
    "    address = 'ktm'\n",
    "    \n",
    "    # outside => function | inside => method, behaviour, action\n",
    "    def eat():\n",
    "        pass\n",
    "    \n",
    "    def walk():\n",
    "        pass\n",
    "    \n",
    "    def sleep():\n",
    "        pass"
   ]
  },
  {
   "cell_type": "code",
   "execution_count": 2,
   "id": "5d2ff466",
   "metadata": {},
   "outputs": [],
   "source": [
    "def person(name, age, address):\n",
    "    print(name, age, address)"
   ]
  },
  {
   "cell_type": "code",
   "execution_count": 3,
   "id": "49d4b79e",
   "metadata": {},
   "outputs": [
    {
     "name": "stdout",
     "output_type": "stream",
     "text": [
      "ram 22 ktm\n"
     ]
    }
   ],
   "source": [
    "person('ram', 22, 'ktm')"
   ]
  },
  {
   "cell_type": "code",
   "execution_count": 4,
   "id": "05190d80",
   "metadata": {},
   "outputs": [
    {
     "ename": "NameError",
     "evalue": "name 'name' is not defined",
     "output_type": "error",
     "traceback": [
      "\u001b[0;31m---------------------------------------------------------------------------\u001b[0m",
      "\u001b[0;31mNameError\u001b[0m                                 Traceback (most recent call last)",
      "Cell \u001b[0;32mIn[4], line 1\u001b[0m\n\u001b[0;32m----> 1\u001b[0m \u001b[38;5;28;01mclass\u001b[39;00m \u001b[38;5;21;01mPerson\u001b[39;00m(\u001b[43mname\u001b[49m, age, address):\n\u001b[1;32m      2\u001b[0m     \n\u001b[1;32m      3\u001b[0m     \u001b[38;5;66;03m# outside => function | inside => method, behaviour, action\u001b[39;00m\n\u001b[1;32m      4\u001b[0m     \u001b[38;5;28;01mdef\u001b[39;00m \u001b[38;5;21meat\u001b[39m():\n\u001b[1;32m      5\u001b[0m         \u001b[38;5;28;01mpass\u001b[39;00m\n",
      "\u001b[0;31mNameError\u001b[0m: name 'name' is not defined"
     ]
    }
   ],
   "source": [
    "class Person(name, age, address):\n",
    "    \n",
    "    # outside => function | inside => method, behaviour, action\n",
    "    def eat():\n",
    "        pass\n",
    "    \n",
    "    def walk():\n",
    "        pass\n",
    "    \n",
    "    def sleep():\n",
    "        pass"
   ]
  },
  {
   "cell_type": "code",
   "execution_count": 8,
   "id": "a94666f1",
   "metadata": {},
   "outputs": [],
   "source": [
    "class Person:\n",
    "    \n",
    "    # special method / double underscore / dunder method\n",
    "    def __init__(self, name, age, address):\n",
    "        print(name, age, address)\n",
    "        \n",
    "    # outside => function | inside => method, behaviour, action\n",
    "    def eat():\n",
    "        print(\"Person is eating...\")\n",
    "    \n",
    "    def walk():\n",
    "        print(\"Person is walking...\")\n",
    "    \n",
    "    def sleep():\n",
    "        print(\"Person is sleeping...\")"
   ]
  },
  {
   "cell_type": "code",
   "execution_count": 9,
   "id": "ef62dd75",
   "metadata": {},
   "outputs": [
    {
     "name": "stdout",
     "output_type": "stream",
     "text": [
      "ram 22 ktm\n"
     ]
    }
   ],
   "source": [
    "p1 = Person('ram', 22, 'ktm')"
   ]
  },
  {
   "cell_type": "code",
   "execution_count": 10,
   "id": "fa841fd5",
   "metadata": {},
   "outputs": [
    {
     "name": "stdout",
     "output_type": "stream",
     "text": [
      "shyam 23 ltr\n"
     ]
    }
   ],
   "source": [
    "p2 = Person('shyam', 23, 'ltr')"
   ]
  },
  {
   "cell_type": "code",
   "execution_count": 11,
   "id": "62c48e48",
   "metadata": {},
   "outputs": [
    {
     "ename": "TypeError",
     "evalue": "Person.eat() takes 0 positional arguments but 1 was given",
     "output_type": "error",
     "traceback": [
      "\u001b[0;31m---------------------------------------------------------------------------\u001b[0m",
      "\u001b[0;31mTypeError\u001b[0m                                 Traceback (most recent call last)",
      "Cell \u001b[0;32mIn[11], line 1\u001b[0m\n\u001b[0;32m----> 1\u001b[0m \u001b[43mp1\u001b[49m\u001b[38;5;241;43m.\u001b[39;49m\u001b[43meat\u001b[49m\u001b[43m(\u001b[49m\u001b[43m)\u001b[49m\n",
      "\u001b[0;31mTypeError\u001b[0m: Person.eat() takes 0 positional arguments but 1 was given"
     ]
    }
   ],
   "source": [
    "p1.eat()"
   ]
  },
  {
   "cell_type": "code",
   "execution_count": 12,
   "id": "0153677c",
   "metadata": {},
   "outputs": [],
   "source": [
    "class Person:\n",
    "    \n",
    "    # special method / double underscore / dunder method\n",
    "    # intializer => constructor\n",
    "    def __init__(self, name, age, address):\n",
    "        print(name, age, address)\n",
    "        \n",
    "    # outside => function | inside => method, behaviour, action\n",
    "    def eat(self):\n",
    "        print(\"Person is eating...\")\n",
    "    \n",
    "    def walk(self):\n",
    "        print(\"Person is walking...\")\n",
    "    \n",
    "    def sleep(self):\n",
    "        print(\"Person is sleeping...\")"
   ]
  },
  {
   "cell_type": "code",
   "execution_count": 13,
   "id": "5a1c9008",
   "metadata": {},
   "outputs": [
    {
     "name": "stdout",
     "output_type": "stream",
     "text": [
      "ram 22 ktm\n",
      "Person is sleeping...\n"
     ]
    }
   ],
   "source": [
    "p1 = Person('ram', 22, 'ktm') # creating object from class\n",
    "p1.sleep()"
   ]
  },
  {
   "cell_type": "code",
   "execution_count": 14,
   "id": "baba446d",
   "metadata": {},
   "outputs": [
    {
     "ename": "AttributeError",
     "evalue": "'Person' object has no attribute 'name'",
     "output_type": "error",
     "traceback": [
      "\u001b[0;31m---------------------------------------------------------------------------\u001b[0m",
      "\u001b[0;31mAttributeError\u001b[0m                            Traceback (most recent call last)",
      "Cell \u001b[0;32mIn[14], line 1\u001b[0m\n\u001b[0;32m----> 1\u001b[0m \u001b[43mp1\u001b[49m\u001b[38;5;241;43m.\u001b[39;49m\u001b[43mname\u001b[49m\n",
      "\u001b[0;31mAttributeError\u001b[0m: 'Person' object has no attribute 'name'"
     ]
    }
   ],
   "source": [
    "p1.name"
   ]
  },
  {
   "cell_type": "code",
   "execution_count": 15,
   "id": "bc5ffdc5",
   "metadata": {},
   "outputs": [
    {
     "ename": "AttributeError",
     "evalue": "'Person' object has no attribute 'age'",
     "output_type": "error",
     "traceback": [
      "\u001b[0;31m---------------------------------------------------------------------------\u001b[0m",
      "\u001b[0;31mAttributeError\u001b[0m                            Traceback (most recent call last)",
      "Cell \u001b[0;32mIn[15], line 1\u001b[0m\n\u001b[0;32m----> 1\u001b[0m \u001b[43mp1\u001b[49m\u001b[38;5;241;43m.\u001b[39;49m\u001b[43mage\u001b[49m\n",
      "\u001b[0;31mAttributeError\u001b[0m: 'Person' object has no attribute 'age'"
     ]
    }
   ],
   "source": [
    "p1.age"
   ]
  },
  {
   "cell_type": "code",
   "execution_count": 16,
   "id": "85b0e9f8",
   "metadata": {},
   "outputs": [],
   "source": [
    "class Person:\n",
    "    \n",
    "    # special method / double underscore / dunder method\n",
    "    # intializer => constructor\n",
    "    # self is an object that passed automatically by python\n",
    "    def __init__(self, name, age, address):\n",
    "        print(name, age, address)\n",
    "        self.name = name\n",
    "        self.age = age\n",
    "        self.address = address\n",
    "        \n",
    "    # outside => function | inside => method, behaviour, action\n",
    "    def eat(self):\n",
    "        print(\"Person is eating...\")\n",
    "    \n",
    "    def walk(self):\n",
    "        print(\"Person is walking...\")\n",
    "    \n",
    "    def sleep(self):\n",
    "        print(\"Person is sleeping...\")"
   ]
  },
  {
   "cell_type": "code",
   "execution_count": 17,
   "id": "69c74f01",
   "metadata": {},
   "outputs": [
    {
     "name": "stdout",
     "output_type": "stream",
     "text": [
      "ram 22 ktm\n",
      "Person is sleeping...\n"
     ]
    }
   ],
   "source": [
    "p1 = Person('ram', 22, 'ktm') # creating object from class\n",
    "p1.sleep()"
   ]
  },
  {
   "cell_type": "code",
   "execution_count": 18,
   "id": "b2344fa0",
   "metadata": {},
   "outputs": [
    {
     "data": {
      "text/plain": [
       "'ram'"
      ]
     },
     "execution_count": 18,
     "metadata": {},
     "output_type": "execute_result"
    }
   ],
   "source": [
    "p1.name"
   ]
  },
  {
   "cell_type": "code",
   "execution_count": 19,
   "id": "730a37a7",
   "metadata": {},
   "outputs": [
    {
     "data": {
      "text/plain": [
       "22"
      ]
     },
     "execution_count": 19,
     "metadata": {},
     "output_type": "execute_result"
    }
   ],
   "source": [
    "p1.age"
   ]
  },
  {
   "cell_type": "code",
   "execution_count": 20,
   "id": "46aa9fb4",
   "metadata": {},
   "outputs": [
    {
     "data": {
      "text/plain": [
       "'ktm'"
      ]
     },
     "execution_count": 20,
     "metadata": {},
     "output_type": "execute_result"
    }
   ],
   "source": [
    "p1.address"
   ]
  },
  {
   "cell_type": "code",
   "execution_count": 21,
   "id": "3b65fb83",
   "metadata": {},
   "outputs": [
    {
     "name": "stdout",
     "output_type": "stream",
     "text": [
      "shyam 23 ltr\n",
      "shyam\n",
      "23\n",
      "ltr\n"
     ]
    }
   ],
   "source": [
    "p2 = Person('shyam', 23, 'ltr')\n",
    "print(p2.name)\n",
    "print(p2.age)\n",
    "print(p2.address)"
   ]
  },
  {
   "cell_type": "code",
   "execution_count": 22,
   "id": "991a45c2",
   "metadata": {},
   "outputs": [],
   "source": [
    "# name, age, address, college, faculty, roll_no\n",
    "class Student:\n",
    "    def __init__(self, name, age, address, college, faculty, roll_no):\n",
    "        self.name = name\n",
    "        self.age = age\n",
    "        self.address = address\n",
    "        self.college = college\n",
    "        self.faculty = faculty\n",
    "        self.roll_no = roll_no\n",
    "        self.subjects = []\n",
    "        \n",
    "    def learn(self):\n",
    "        print(f\"Student is learning {subjects}\")"
   ]
  },
  {
   "cell_type": "code",
   "execution_count": 23,
   "id": "1348ea77",
   "metadata": {},
   "outputs": [
    {
     "ename": "NameError",
     "evalue": "name 'subjects' is not defined",
     "output_type": "error",
     "traceback": [
      "\u001b[0;31m---------------------------------------------------------------------------\u001b[0m",
      "\u001b[0;31mNameError\u001b[0m                                 Traceback (most recent call last)",
      "Cell \u001b[0;32mIn[23], line 2\u001b[0m\n\u001b[1;32m      1\u001b[0m s1 \u001b[38;5;241m=\u001b[39m Student(\u001b[38;5;124m\"\u001b[39m\u001b[38;5;124mRam\u001b[39m\u001b[38;5;124m\"\u001b[39m, \u001b[38;5;241m22\u001b[39m, \u001b[38;5;124m'\u001b[39m\u001b[38;5;124mktm\u001b[39m\u001b[38;5;124m'\u001b[39m, \u001b[38;5;124m'\u001b[39m\u001b[38;5;124mNCIT\u001b[39m\u001b[38;5;124m'\u001b[39m, \u001b[38;5;124m\"\u001b[39m\u001b[38;5;124mCSIT\u001b[39m\u001b[38;5;124m\"\u001b[39m, \u001b[38;5;241m22\u001b[39m)\n\u001b[0;32m----> 2\u001b[0m \u001b[43ms1\u001b[49m\u001b[38;5;241;43m.\u001b[39;49m\u001b[43mlearn\u001b[49m\u001b[43m(\u001b[49m\u001b[43m)\u001b[49m\n",
      "Cell \u001b[0;32mIn[22], line 13\u001b[0m, in \u001b[0;36mStudent.learn\u001b[0;34m(self)\u001b[0m\n\u001b[1;32m     12\u001b[0m \u001b[38;5;28;01mdef\u001b[39;00m \u001b[38;5;21mlearn\u001b[39m(\u001b[38;5;28mself\u001b[39m):\n\u001b[0;32m---> 13\u001b[0m     \u001b[38;5;28mprint\u001b[39m(\u001b[38;5;124mf\u001b[39m\u001b[38;5;124m\"\u001b[39m\u001b[38;5;124mStudent is learning \u001b[39m\u001b[38;5;132;01m{\u001b[39;00m\u001b[43msubjects\u001b[49m\u001b[38;5;132;01m}\u001b[39;00m\u001b[38;5;124m\"\u001b[39m)\n",
      "\u001b[0;31mNameError\u001b[0m: name 'subjects' is not defined"
     ]
    }
   ],
   "source": [
    "s1 = Student(\"Ram\", 22, 'ktm', 'NCIT', \"CSIT\", 22)\n",
    "s1.learn()"
   ]
  },
  {
   "cell_type": "code",
   "execution_count": 24,
   "id": "9cf13758",
   "metadata": {},
   "outputs": [],
   "source": [
    "# name, age, address, college, faculty, roll_no\n",
    "class Student:\n",
    "    # parameters / arguments\n",
    "    def __init__(self, name, age, address, college, faculty, roll_no):\n",
    "        self.name = name\n",
    "        self.age = age\n",
    "        self.address = address\n",
    "        self.college = college\n",
    "        self.faculty = faculty\n",
    "        self.roll_no = roll_no\n",
    "        self.subjects = []\n",
    "        \n",
    "    def learn(self):\n",
    "        print(f\"Student is learning {self.subjects}\")"
   ]
  },
  {
   "cell_type": "code",
   "execution_count": 25,
   "id": "2b9e9020",
   "metadata": {},
   "outputs": [
    {
     "name": "stdout",
     "output_type": "stream",
     "text": [
      "Student is learning []\n"
     ]
    }
   ],
   "source": [
    "s1 = Student(\"Ram\", 22, 'ktm', 'NCIT', \"CSIT\", 22)\n",
    "s1.learn()"
   ]
  },
  {
   "cell_type": "code",
   "execution_count": 26,
   "id": "3c0b0a4d",
   "metadata": {},
   "outputs": [],
   "source": [
    "# name, age, address, college, faculty, roll_no\n",
    "class Student:\n",
    "    # parameters / arguments\n",
    "    def __init__(self, name, age, address, college, faculty, roll_no):\n",
    "        self.name = name\n",
    "        self.age = age\n",
    "        self.address = address\n",
    "        self.college = college\n",
    "        self.faculty = faculty\n",
    "        self.roll_no = roll_no\n",
    "        self.subjects = []\n",
    "        \n",
    "    def learn(self):\n",
    "        print(f\"Student is learning {self.subjects}\")\n",
    "        \n",
    "    def add_subject(self, subject_name):\n",
    "        self.subjects.append(subject_name)"
   ]
  },
  {
   "cell_type": "code",
   "execution_count": 27,
   "id": "20c5438c",
   "metadata": {},
   "outputs": [
    {
     "name": "stdout",
     "output_type": "stream",
     "text": [
      "Student is learning []\n"
     ]
    }
   ],
   "source": [
    "s1 = Student(\"Ram\", 22, 'ktm', 'NCIT', \"CSIT\", 22)\n",
    "s1.learn()"
   ]
  },
  {
   "cell_type": "code",
   "execution_count": 28,
   "id": "60af9471",
   "metadata": {},
   "outputs": [],
   "source": [
    "s1.add_subject(\"python\")"
   ]
  },
  {
   "cell_type": "code",
   "execution_count": 29,
   "id": "aa642f92",
   "metadata": {},
   "outputs": [
    {
     "name": "stdout",
     "output_type": "stream",
     "text": [
      "Student is learning ['python']\n"
     ]
    }
   ],
   "source": [
    "s1.learn()"
   ]
  },
  {
   "cell_type": "code",
   "execution_count": 30,
   "id": "855c743e",
   "metadata": {},
   "outputs": [
    {
     "name": "stdout",
     "output_type": "stream",
     "text": [
      "Student is learning ['python', 'django']\n"
     ]
    }
   ],
   "source": [
    "s1.add_subject('django')\n",
    "s1.learn()"
   ]
  },
  {
   "cell_type": "code",
   "execution_count": 31,
   "id": "1e063c2b",
   "metadata": {},
   "outputs": [
    {
     "name": "stdout",
     "output_type": "stream",
     "text": [
      "Student is learning ['python', 'django', 'html']\n"
     ]
    }
   ],
   "source": [
    "s1.add_subject('html')\n",
    "s1.learn()"
   ]
  },
  {
   "cell_type": "code",
   "execution_count": 32,
   "id": "2e653abc",
   "metadata": {},
   "outputs": [
    {
     "name": "stdout",
     "output_type": "stream",
     "text": [
      "Student is learning []\n"
     ]
    }
   ],
   "source": [
    "s2 = Student(\"Shyam\", 23, 'ltr', 'NCIT', \"CSIT\", 21)\n",
    "s2.learn()"
   ]
  },
  {
   "cell_type": "code",
   "execution_count": 33,
   "id": "df6dfc22",
   "metadata": {},
   "outputs": [
    {
     "name": "stdout",
     "output_type": "stream",
     "text": [
      "Student is learning ['html']\n"
     ]
    }
   ],
   "source": [
    "s2.add_subject('html')\n",
    "s2.learn()"
   ]
  },
  {
   "cell_type": "code",
   "execution_count": 34,
   "id": "d906ae2c",
   "metadata": {},
   "outputs": [
    {
     "name": "stdout",
     "output_type": "stream",
     "text": [
      "Student is learning ['python', 'django', 'html']\n"
     ]
    }
   ],
   "source": [
    "s1.learn()"
   ]
  },
  {
   "cell_type": "code",
   "execution_count": 35,
   "id": "9f95d5f0",
   "metadata": {},
   "outputs": [],
   "source": [
    "class Rectangle:\n",
    "    # parameter / argument\n",
    "    def __init__(self, l, b):\n",
    "        # instance variable => length, breadth\n",
    "        self.length = l \n",
    "        self.breadth = b\n",
    "        \n",
    "    def area(self):\n",
    "        return self.length * self.breadth\n",
    "    \n",
    "    def perimeter(self):\n",
    "        return 2 * (self.length + self.breadth)"
   ]
  },
  {
   "cell_type": "code",
   "execution_count": 37,
   "id": "ac6b1469",
   "metadata": {},
   "outputs": [
    {
     "name": "stdout",
     "output_type": "stream",
     "text": [
      "32\n",
      "24\n"
     ]
    }
   ],
   "source": [
    "r1 = Rectangle(4, 8)\n",
    "print(r1.area())\n",
    "print(r1.perimeter())"
   ]
  },
  {
   "cell_type": "code",
   "execution_count": 38,
   "id": "2aa3d9d2",
   "metadata": {},
   "outputs": [
    {
     "name": "stdout",
     "output_type": "stream",
     "text": [
      "252\n",
      "64\n"
     ]
    }
   ],
   "source": [
    "r2 = Rectangle(14, 18)\n",
    "print(r2.area())\n",
    "print(r2.perimeter())"
   ]
  },
  {
   "cell_type": "code",
   "execution_count": 39,
   "id": "27fbe3ce",
   "metadata": {},
   "outputs": [],
   "source": [
    "class BankAccount:\n",
    "    def __init__(self, account_number, account_holder, balance):\n",
    "        self.account_number = account_number\n",
    "        self.account_holder = account_holder\n",
    "        self.balance = balance\n",
    "    \n",
    "    def deposit(self, amount):\n",
    "        self.balance += amount\n",
    "    \n",
    "    def withdraw(self, amount):\n",
    "        if self.balance < amount:\n",
    "            print(\"Insufficient funds.\")\n",
    "        else:\n",
    "            self.balance -= amount\n",
    "    \n",
    "    def get_balance(self):\n",
    "        return self.balance\n"
   ]
  },
  {
   "cell_type": "code",
   "execution_count": 41,
   "id": "a2bc4861",
   "metadata": {},
   "outputs": [],
   "source": [
    "ram = BankAccount(\"12345\", \"Ram\", 500)"
   ]
  },
  {
   "cell_type": "code",
   "execution_count": 42,
   "id": "b7f5cb50",
   "metadata": {},
   "outputs": [
    {
     "data": {
      "text/plain": [
       "500"
      ]
     },
     "execution_count": 42,
     "metadata": {},
     "output_type": "execute_result"
    }
   ],
   "source": [
    "ram.get_balance()"
   ]
  },
  {
   "cell_type": "code",
   "execution_count": 43,
   "id": "4a5ab904",
   "metadata": {},
   "outputs": [],
   "source": [
    "ram.deposit(1000)"
   ]
  },
  {
   "cell_type": "code",
   "execution_count": 44,
   "id": "e561c120",
   "metadata": {},
   "outputs": [
    {
     "data": {
      "text/plain": [
       "1500"
      ]
     },
     "execution_count": 44,
     "metadata": {},
     "output_type": "execute_result"
    }
   ],
   "source": [
    "ram.get_balance()"
   ]
  },
  {
   "cell_type": "code",
   "execution_count": 45,
   "id": "a1c98521",
   "metadata": {},
   "outputs": [
    {
     "name": "stdout",
     "output_type": "stream",
     "text": [
      "Insufficient funds.\n"
     ]
    }
   ],
   "source": [
    "ram.withdraw(10000)"
   ]
  },
  {
   "cell_type": "code",
   "execution_count": 46,
   "id": "3cbf61df",
   "metadata": {},
   "outputs": [
    {
     "data": {
      "text/plain": [
       "1500"
      ]
     },
     "execution_count": 46,
     "metadata": {},
     "output_type": "execute_result"
    }
   ],
   "source": [
    "ram.get_balance()"
   ]
  },
  {
   "cell_type": "code",
   "execution_count": 47,
   "id": "cefbc621",
   "metadata": {},
   "outputs": [],
   "source": [
    "ram.withdraw(500)"
   ]
  },
  {
   "cell_type": "code",
   "execution_count": 48,
   "id": "7ed3f2a5",
   "metadata": {},
   "outputs": [
    {
     "data": {
      "text/plain": [
       "1000"
      ]
     },
     "execution_count": 48,
     "metadata": {},
     "output_type": "execute_result"
    }
   ],
   "source": [
    "ram.get_balance()"
   ]
  },
  {
   "cell_type": "code",
   "execution_count": 49,
   "id": "6d552ac5",
   "metadata": {},
   "outputs": [],
   "source": [
    "class Person:\n",
    "    \n",
    "    # special method / double underscore / dunder method\n",
    "    # intializer => constructor\n",
    "    # self is an object that passed automatically by python\n",
    "    def __init__(self, name, age, address):\n",
    "        print(name, age, address)\n",
    "        self.name = name\n",
    "        self.age = age\n",
    "        self.address = address\n",
    "        \n",
    "    # outside => function | inside => method, behaviour, action\n",
    "    def eat(self):\n",
    "        print(\"Person is eating...\")\n",
    "    \n",
    "    def walk(self):\n",
    "        print(\"Person is walking...\")\n",
    "    \n",
    "    def sleep(self):\n",
    "        print(\"Person is sleeping...\")\n",
    "        \n",
    "# name, age, address, college, faculty, roll_no\n",
    "class Student:\n",
    "    # parameters / arguments\n",
    "    def __init__(self, name, age, address, college, faculty, roll_no):\n",
    "        self.name = name\n",
    "        self.age = age\n",
    "        self.address = address\n",
    "        self.college = college\n",
    "        self.faculty = faculty\n",
    "        self.roll_no = roll_no\n",
    "        self.subjects = []\n",
    "        \n",
    "    def learn(self):\n",
    "        print(f\"Student is learning {self.subjects}\")\n",
    "        \n",
    "    def add_subject(self, subject_name):\n",
    "        self.subjects.append(subject_name)"
   ]
  },
  {
   "cell_type": "code",
   "execution_count": 50,
   "id": "f603220f",
   "metadata": {},
   "outputs": [],
   "source": [
    "# Inheritance in python\n",
    "\n",
    "class Parent:\n",
    "    pass\n",
    "\n",
    "class Child(Parent):\n",
    "    pass\n",
    "\n",
    "\n"
   ]
  },
  {
   "cell_type": "code",
   "execution_count": 51,
   "id": "a7cc88ae",
   "metadata": {},
   "outputs": [],
   "source": [
    "class Person:\n",
    "    pass\n",
    "\n",
    "class Student(Person):\n",
    "    pass"
   ]
  },
  {
   "cell_type": "code",
   "execution_count": null,
   "id": "fb847381",
   "metadata": {},
   "outputs": [],
   "source": []
  }
 ],
 "metadata": {
  "kernelspec": {
   "display_name": "Python 3 (ipykernel)",
   "language": "python",
   "name": "python3"
  },
  "language_info": {
   "codemirror_mode": {
    "name": "ipython",
    "version": 3
   },
   "file_extension": ".py",
   "mimetype": "text/x-python",
   "name": "python",
   "nbconvert_exporter": "python",
   "pygments_lexer": "ipython3",
   "version": "3.11.2"
  }
 },
 "nbformat": 4,
 "nbformat_minor": 5
}
