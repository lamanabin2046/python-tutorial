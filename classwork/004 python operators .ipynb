{
 "cells": [
  {
   "cell_type": "code",
   "execution_count": 1,
   "id": "2636bb70",
   "metadata": {},
   "outputs": [
    {
     "data": {
      "text/plain": [
       "2"
      ]
     },
     "execution_count": 1,
     "metadata": {},
     "output_type": "execute_result"
    }
   ],
   "source": [
    "# bitwise and operator\n",
    "\n",
    "x = 2 # 0000 0010\n",
    "y = 3 # 0000 0011\n",
    "# ===================\n",
    "# ------0000 0010\n",
    "x & y"
   ]
  },
  {
   "cell_type": "code",
   "execution_count": 2,
   "id": "4b4a3c72",
   "metadata": {},
   "outputs": [
    {
     "data": {
      "text/plain": [
       "'0b10'"
      ]
     },
     "execution_count": 2,
     "metadata": {},
     "output_type": "execute_result"
    }
   ],
   "source": [
    "bin(x)"
   ]
  },
  {
   "cell_type": "code",
   "execution_count": 3,
   "id": "a2b412b1",
   "metadata": {},
   "outputs": [
    {
     "data": {
      "text/plain": [
       "'0b11'"
      ]
     },
     "execution_count": 3,
     "metadata": {},
     "output_type": "execute_result"
    }
   ],
   "source": [
    "bin(3)"
   ]
  },
  {
   "cell_type": "code",
   "execution_count": 4,
   "id": "f11fd9a5",
   "metadata": {},
   "outputs": [
    {
     "data": {
      "text/plain": [
       "3"
      ]
     },
     "execution_count": 4,
     "metadata": {},
     "output_type": "execute_result"
    }
   ],
   "source": [
    "# bitwise OR operator\n",
    "\n",
    "x = 2 # 0000 0010\n",
    "y = 3 # 0000 0011\n",
    "# ===================\n",
    "# ------0000 0011\n",
    "x | y"
   ]
  },
  {
   "cell_type": "code",
   "execution_count": 5,
   "id": "de751b63",
   "metadata": {},
   "outputs": [
    {
     "data": {
      "text/plain": [
       "1"
      ]
     },
     "execution_count": 5,
     "metadata": {},
     "output_type": "execute_result"
    }
   ],
   "source": [
    "# bitwise XOR operator\n",
    "# no of 1 => odd => 1\n",
    "x = 2 # 0000 0010\n",
    "y = 3 # 0000 0011\n",
    "# ===================\n",
    "# ------0000 0001\n",
    "x ^ y"
   ]
  },
  {
   "cell_type": "code",
   "execution_count": 6,
   "id": "b6003ab6",
   "metadata": {},
   "outputs": [],
   "source": [
    "# assignment operator\n",
    "s = 1"
   ]
  },
  {
   "cell_type": "code",
   "execution_count": 7,
   "id": "d3b2f575",
   "metadata": {},
   "outputs": [],
   "source": [
    "s = s + 1 # s += 1"
   ]
  },
  {
   "cell_type": "code",
   "execution_count": 8,
   "id": "61b63fb4",
   "metadata": {},
   "outputs": [
    {
     "name": "stdout",
     "output_type": "stream",
     "text": [
      "2\n"
     ]
    }
   ],
   "source": [
    "print(s)"
   ]
  },
  {
   "cell_type": "code",
   "execution_count": 9,
   "id": "a690f4bd",
   "metadata": {},
   "outputs": [
    {
     "name": "stdout",
     "output_type": "stream",
     "text": [
      "2\n"
     ]
    }
   ],
   "source": [
    "s = 1\n",
    "s += 1\n",
    "print(s)"
   ]
  },
  {
   "cell_type": "code",
   "execution_count": 10,
   "id": "b604cfb9",
   "metadata": {},
   "outputs": [
    {
     "name": "stdout",
     "output_type": "stream",
     "text": [
      "4\n"
     ]
    }
   ],
   "source": [
    "s = 5\n",
    "s -= 1\n",
    "print(s)"
   ]
  },
  {
   "cell_type": "code",
   "execution_count": 11,
   "id": "bef785b2",
   "metadata": {},
   "outputs": [
    {
     "data": {
      "text/plain": [
       "True"
      ]
     },
     "execution_count": 11,
     "metadata": {},
     "output_type": "execute_result"
    }
   ],
   "source": [
    "s = 5\n",
    "y = 5\n",
    "\n",
    "s is y"
   ]
  },
  {
   "cell_type": "code",
   "execution_count": 12,
   "id": "417e64f2",
   "metadata": {},
   "outputs": [
    {
     "data": {
      "text/plain": [
       "False"
      ]
     },
     "execution_count": 12,
     "metadata": {},
     "output_type": "execute_result"
    }
   ],
   "source": [
    "s is not y"
   ]
  },
  {
   "cell_type": "code",
   "execution_count": 13,
   "id": "837b816d",
   "metadata": {},
   "outputs": [
    {
     "data": {
      "text/plain": [
       "True"
      ]
     },
     "execution_count": 13,
     "metadata": {},
     "output_type": "execute_result"
    }
   ],
   "source": [
    "'s' in 'ramesh'"
   ]
  },
  {
   "cell_type": "code",
   "execution_count": 14,
   "id": "47b6cedf",
   "metadata": {},
   "outputs": [
    {
     "data": {
      "text/plain": [
       "False"
      ]
     },
     "execution_count": 14,
     "metadata": {},
     "output_type": "execute_result"
    }
   ],
   "source": [
    "'s' not in 'ramesh'"
   ]
  },
  {
   "cell_type": "code",
   "execution_count": 15,
   "id": "92dbbefe",
   "metadata": {},
   "outputs": [
    {
     "data": {
      "text/plain": [
       "True"
      ]
     },
     "execution_count": 15,
     "metadata": {},
     "output_type": "execute_result"
    }
   ],
   "source": [
    "fruits = ['apple', 'banana', 'mango']\n",
    "\n",
    "'apple' in fruits"
   ]
  },
  {
   "cell_type": "code",
   "execution_count": 16,
   "id": "80cb5b27",
   "metadata": {},
   "outputs": [
    {
     "data": {
      "text/plain": [
       "False"
      ]
     },
     "execution_count": 16,
     "metadata": {},
     "output_type": "execute_result"
    }
   ],
   "source": [
    "'a' in fruits"
   ]
  },
  {
   "cell_type": "code",
   "execution_count": 17,
   "id": "ab78978f",
   "metadata": {},
   "outputs": [
    {
     "data": {
      "text/plain": [
       "4405306944"
      ]
     },
     "execution_count": 17,
     "metadata": {},
     "output_type": "execute_result"
    }
   ],
   "source": [
    "id(fruits)"
   ]
  },
  {
   "cell_type": "code",
   "execution_count": 18,
   "id": "27dda093",
   "metadata": {},
   "outputs": [
    {
     "name": "stdout",
     "output_type": "stream",
     "text": [
      "hellodfdsf\n"
     ]
    },
    {
     "data": {
      "text/plain": [
       "'dfdsf'"
      ]
     },
     "execution_count": 18,
     "metadata": {},
     "output_type": "execute_result"
    }
   ],
   "source": [
    "input(\"hello\")"
   ]
  },
  {
   "cell_type": "code",
   "execution_count": 20,
   "id": "327b501b",
   "metadata": {},
   "outputs": [
    {
     "name": "stdout",
     "output_type": "stream",
     "text": [
      "hello\n"
     ]
    }
   ],
   "source": [
    "print(\"hello\")"
   ]
  },
  {
   "cell_type": "code",
   "execution_count": 23,
   "id": "5b2e7718",
   "metadata": {},
   "outputs": [],
   "source": [
    "hello = 'hello programming'"
   ]
  },
  {
   "cell_type": "code",
   "execution_count": 25,
   "id": "dd98c45b",
   "metadata": {},
   "outputs": [],
   "source": [
    "def hi(): # defining the function\n",
    "    h = 'hi' # local scope => inside function\n",
    "    print(h)"
   ]
  },
  {
   "cell_type": "code",
   "execution_count": 27,
   "id": "26be154e",
   "metadata": {},
   "outputs": [
    {
     "name": "stdout",
     "output_type": "stream",
     "text": [
      "hi\n"
     ]
    }
   ],
   "source": [
    "hi() # runing the function"
   ]
  },
  {
   "cell_type": "code",
   "execution_count": 28,
   "id": "14072cfb",
   "metadata": {},
   "outputs": [
    {
     "ename": "NameError",
     "evalue": "name 'h' is not defined",
     "output_type": "error",
     "traceback": [
      "\u001b[0;31m---------------------------------------------------------------------------\u001b[0m",
      "\u001b[0;31mNameError\u001b[0m                                 Traceback (most recent call last)",
      "Cell \u001b[0;32mIn[28], line 1\u001b[0m\n\u001b[0;32m----> 1\u001b[0m \u001b[38;5;28mprint\u001b[39m(\u001b[43mh\u001b[49m)\n",
      "\u001b[0;31mNameError\u001b[0m: name 'h' is not defined"
     ]
    }
   ],
   "source": [
    "print(h)"
   ]
  },
  {
   "cell_type": "code",
   "execution_count": 29,
   "id": "fe0b0c99",
   "metadata": {},
   "outputs": [],
   "source": [
    "# built-in scope => print, input, id\n",
    "# global scope => module level / python file (.py file) => hello\n",
    "# local scope => inside function\n",
    "# non local scope => "
   ]
  },
  {
   "cell_type": "code",
   "execution_count": 30,
   "id": "8b2e3fea",
   "metadata": {},
   "outputs": [
    {
     "name": "stdout",
     "output_type": "stream",
     "text": [
      "0.12345678901234568\n"
     ]
    }
   ],
   "source": [
    "b = 0.1234567890123456789 \n",
    "# total of only 17 numbers after decimal can be printed.\n",
    "print(b)"
   ]
  },
  {
   "cell_type": "code",
   "execution_count": 31,
   "id": "0cdc87fa",
   "metadata": {},
   "outputs": [
    {
     "data": {
      "text/plain": [
       "3.3000000000000003"
      ]
     },
     "execution_count": 31,
     "metadata": {},
     "output_type": "execute_result"
    }
   ],
   "source": [
    "1.1 + 2.2"
   ]
  },
  {
   "cell_type": "code",
   "execution_count": 32,
   "id": "591b1d70",
   "metadata": {},
   "outputs": [
    {
     "data": {
      "text/plain": [
       "False"
      ]
     },
     "execution_count": 32,
     "metadata": {},
     "output_type": "execute_result"
    }
   ],
   "source": [
    "1.1 + 2.2  == 3.3"
   ]
  },
  {
   "cell_type": "code",
   "execution_count": 33,
   "id": "4d30da96",
   "metadata": {},
   "outputs": [
    {
     "name": "stdout",
     "output_type": "stream",
     "text": [
      "3.3\n"
     ]
    }
   ],
   "source": [
    "import decimal\n",
    "\n",
    "x = decimal.Decimal('1.1')\n",
    "y = decimal.Decimal('2.2')\n",
    "\n",
    "print(x+y)"
   ]
  },
  {
   "cell_type": "code",
   "execution_count": 34,
   "id": "cdebf821",
   "metadata": {},
   "outputs": [
    {
     "name": "stdout",
     "output_type": "stream",
     "text": [
      "3.3\n"
     ]
    }
   ],
   "source": [
    "from decimal import Decimal\n",
    "\n",
    "x = Decimal('1.1')\n",
    "y = Decimal('2.2')\n",
    "\n",
    "print(x + y)"
   ]
  },
  {
   "cell_type": "code",
   "execution_count": 35,
   "id": "e09ef2d5",
   "metadata": {},
   "outputs": [
    {
     "name": "stdout",
     "output_type": "stream",
     "text": [
      "3.3\n"
     ]
    }
   ],
   "source": [
    "from decimal import Decimal as D\n",
    "\n",
    "x = D('1.1')\n",
    "y = D('2.2')\n",
    "\n",
    "print(x + y)"
   ]
  },
  {
   "cell_type": "code",
   "execution_count": 36,
   "id": "6617305c",
   "metadata": {},
   "outputs": [
    {
     "name": "stdout",
     "output_type": "stream",
     "text": [
      "3/2\n",
      "9\n",
      "1/6\n"
     ]
    }
   ],
   "source": [
    "import fractions\n",
    "\n",
    "print(fractions.Fraction(1.5))\n",
    "\n",
    "print(fractions.Fraction(9))\n",
    "\n",
    "print(fractions.Fraction(1,6))"
   ]
  },
  {
   "cell_type": "code",
   "execution_count": 38,
   "id": "b1fc3407",
   "metadata": {},
   "outputs": [
    {
     "name": "stdout",
     "output_type": "stream",
     "text": [
      "2476979795053773/2251799813685248\n"
     ]
    }
   ],
   "source": [
    "from fractions import Fraction as F\n",
    "\n",
    "x = F(1.1)\n",
    "print(x)"
   ]
  },
  {
   "cell_type": "code",
   "execution_count": 39,
   "id": "645d39b1",
   "metadata": {},
   "outputs": [
    {
     "data": {
      "text/plain": [
       "1.1"
      ]
     },
     "execution_count": 39,
     "metadata": {},
     "output_type": "execute_result"
    }
   ],
   "source": [
    "2476979795053773/2251799813685248"
   ]
  },
  {
   "cell_type": "code",
   "execution_count": 40,
   "id": "a96cf7b4",
   "metadata": {},
   "outputs": [
    {
     "name": "stdout",
     "output_type": "stream",
     "text": [
      "11/10\n"
     ]
    }
   ],
   "source": [
    "from fractions import Fraction as F\n",
    "\n",
    "x = F('1.1')\n",
    "print(x)"
   ]
  },
  {
   "cell_type": "code",
   "execution_count": 44,
   "id": "a0efe738",
   "metadata": {},
   "outputs": [
    {
     "name": "stdout",
     "output_type": "stream",
     "text": [
      "b\n"
     ]
    }
   ],
   "source": [
    "import random \n",
    "\n",
    "x = ['a', 'b', 'c', 'd', 'e'] \n",
    "# x is a list class of variable and it has 5 elements.\n",
    "\n",
    "# Get random choice\n",
    "print(random.choice(x))"
   ]
  },
  {
   "cell_type": "code",
   "execution_count": 48,
   "id": "6d8038cc",
   "metadata": {},
   "outputs": [
    {
     "name": "stdout",
     "output_type": "stream",
     "text": [
      "10\n"
     ]
    }
   ],
   "source": [
    "import random\n",
    "\n",
    "print(random.randrange(10, 20))"
   ]
  },
  {
   "cell_type": "code",
   "execution_count": 54,
   "id": "e3a683a0",
   "metadata": {},
   "outputs": [
    {
     "name": "stdout",
     "output_type": "stream",
     "text": [
      "['d', 'b', 'a', 'e', 'c']\n"
     ]
    }
   ],
   "source": [
    "x = ['a', 'b', 'c', 'd', 'e']\n",
    "\n",
    "# Shuffle x\n",
    "random.shuffle(x)\n",
    "\n",
    "print(x)"
   ]
  },
  {
   "cell_type": "code",
   "execution_count": 55,
   "id": "cb3b9622",
   "metadata": {},
   "outputs": [
    {
     "ename": "SyntaxError",
     "evalue": "unterminated string literal (detected at line 1) (1753882105.py, line 1)",
     "output_type": "error",
     "traceback": [
      "\u001b[0;36m  Cell \u001b[0;32mIn[55], line 1\u001b[0;36m\u001b[0m\n\u001b[0;31m    x = 'Hello my name's Ramesh'\u001b[0m\n\u001b[0m                               ^\u001b[0m\n\u001b[0;31mSyntaxError\u001b[0m\u001b[0;31m:\u001b[0m unterminated string literal (detected at line 1)\n"
     ]
    }
   ],
   "source": [
    "x = 'Hello my name's Ramesh'\n",
    "\n",
    "print(x)"
   ]
  },
  {
   "cell_type": "code",
   "execution_count": 56,
   "id": "f10c1292",
   "metadata": {},
   "outputs": [
    {
     "name": "stdout",
     "output_type": "stream",
     "text": [
      "Hello my name's Ramesh\n"
     ]
    }
   ],
   "source": [
    "x = \"Hello my name's Ramesh\"\n",
    "\n",
    "print(x)"
   ]
  },
  {
   "cell_type": "code",
   "execution_count": 57,
   "id": "a1eaa9c3",
   "metadata": {},
   "outputs": [
    {
     "ename": "SyntaxError",
     "evalue": "invalid syntax (985318049.py, line 1)",
     "output_type": "error",
     "traceback": [
      "\u001b[0;36m  Cell \u001b[0;32mIn[57], line 1\u001b[0;36m\u001b[0m\n\u001b[0;31m    x = \"My dog name is - \"THE DOG\"\"\u001b[0m\n\u001b[0m                           ^\u001b[0m\n\u001b[0;31mSyntaxError\u001b[0m\u001b[0;31m:\u001b[0m invalid syntax\n"
     ]
    }
   ],
   "source": [
    "x = \"My dog name is - \"THE DOG\"\"\n",
    "print(x)"
   ]
  },
  {
   "cell_type": "code",
   "execution_count": 59,
   "id": "c1b3288e",
   "metadata": {},
   "outputs": [
    {
     "name": "stdout",
     "output_type": "stream",
     "text": [
      "My dog name is - \"THE DOG\"\n"
     ]
    }
   ],
   "source": [
    "x = 'My dog name is - \"THE DOG\"'\n",
    "print(x)"
   ]
  },
  {
   "cell_type": "code",
   "execution_count": 60,
   "id": "e8008794",
   "metadata": {},
   "outputs": [
    {
     "ename": "SyntaxError",
     "evalue": "invalid syntax (3412093512.py, line 1)",
     "output_type": "error",
     "traceback": [
      "\u001b[0;36m  Cell \u001b[0;32mIn[60], line 1\u001b[0;36m\u001b[0m\n\u001b[0;31m    x = \"My name is ram. I'm from \"KTM\"\"\u001b[0m\n\u001b[0m                                   ^\u001b[0m\n\u001b[0;31mSyntaxError\u001b[0m\u001b[0;31m:\u001b[0m invalid syntax\n"
     ]
    }
   ],
   "source": [
    "x = \"My name is ram. I'm from \"KTM\"\""
   ]
  },
  {
   "cell_type": "code",
   "execution_count": 63,
   "id": "4e08c952",
   "metadata": {},
   "outputs": [
    {
     "name": "stdout",
     "output_type": "stream",
     "text": [
      "My name is ram. I'm from \"KTM\" \n"
     ]
    }
   ],
   "source": [
    "x = \"\"\"My name is ram. I'm from \"KTM\" \"\"\"\n",
    "print(x)"
   ]
  },
  {
   "cell_type": "code",
   "execution_count": 64,
   "id": "e9b82e43",
   "metadata": {},
   "outputs": [
    {
     "name": "stdout",
     "output_type": "stream",
     "text": [
      "My name is ram. I'm from \"KTM\"\n"
     ]
    }
   ],
   "source": [
    "x = \"My name is ram. I'm from \\\"KTM\\\"\"\n",
    "print(x)"
   ]
  },
  {
   "cell_type": "code",
   "execution_count": 65,
   "id": "96e073be",
   "metadata": {},
   "outputs": [
    {
     "ename": "SyntaxError",
     "evalue": "unterminated string literal (detected at line 1) (1776220602.py, line 1)",
     "output_type": "error",
     "traceback": [
      "\u001b[0;36m  Cell \u001b[0;32mIn[65], line 1\u001b[0;36m\u001b[0m\n\u001b[0;31m    x = 'My name is ram. I'm from \"KTM\"'\u001b[0m\n\u001b[0m                                       ^\u001b[0m\n\u001b[0;31mSyntaxError\u001b[0m\u001b[0;31m:\u001b[0m unterminated string literal (detected at line 1)\n"
     ]
    }
   ],
   "source": [
    "x = 'My name is ram. I'm from \"KTM\"'"
   ]
  },
  {
   "cell_type": "code",
   "execution_count": 66,
   "id": "6649fc96",
   "metadata": {},
   "outputs": [
    {
     "name": "stdout",
     "output_type": "stream",
     "text": [
      "My name is ram. I'm from \"KTM\"\n"
     ]
    }
   ],
   "source": [
    "x = 'My name is ram. I\\'m from \"KTM\"'\n",
    "print(x)"
   ]
  },
  {
   "cell_type": "code",
   "execution_count": 67,
   "id": "5e2ac651",
   "metadata": {},
   "outputs": [
    {
     "name": "stdout",
     "output_type": "stream",
     "text": [
      "p y t h o n\n"
     ]
    }
   ],
   "source": [
    "x = 'python'\n",
    "\n",
    "a,b,c,d,e,f = x\n",
    "\n",
    "print(a,b,c,d,e,f)\n",
    "\n",
    "# string unpacking"
   ]
  },
  {
   "cell_type": "code",
   "execution_count": 68,
   "id": "946aa894",
   "metadata": {},
   "outputs": [
    {
     "name": "stdout",
     "output_type": "stream",
     "text": [
      "6\n"
     ]
    }
   ],
   "source": [
    "x = 'python'\n",
    "print(len(x))"
   ]
  },
  {
   "cell_type": "code",
   "execution_count": 69,
   "id": "1bbe0ca8",
   "metadata": {},
   "outputs": [
    {
     "name": "stdout",
     "output_type": "stream",
     "text": [
      "python\n"
     ]
    }
   ],
   "source": [
    "x = 'python'\n",
    "print(x)"
   ]
  },
  {
   "cell_type": "code",
   "execution_count": 70,
   "id": "efe53969",
   "metadata": {},
   "outputs": [
    {
     "name": "stdout",
     "output_type": "stream",
     "text": [
      "p\n"
     ]
    }
   ],
   "source": [
    "print(x[0])"
   ]
  },
  {
   "cell_type": "code",
   "execution_count": 71,
   "id": "48eef743",
   "metadata": {},
   "outputs": [
    {
     "name": "stdout",
     "output_type": "stream",
     "text": [
      "t\n"
     ]
    }
   ],
   "source": [
    "print(x[2])"
   ]
  },
  {
   "cell_type": "code",
   "execution_count": 72,
   "id": "208d9bf9",
   "metadata": {},
   "outputs": [
    {
     "name": "stdout",
     "output_type": "stream",
     "text": [
      "g\n"
     ]
    }
   ],
   "source": [
    "x = \"hello I'm programmer. I love programming.\"\n",
    "print(x[-2])"
   ]
  },
  {
   "cell_type": "code",
   "execution_count": 73,
   "id": "06629fbf",
   "metadata": {},
   "outputs": [
    {
     "name": "stdout",
     "output_type": "stream",
     "text": [
      "p y t h o n\n"
     ]
    }
   ],
   "source": [
    "x = 'python'\n",
    "print(x[0], x[1], x[2], x[3], x[4], x[5])"
   ]
  },
  {
   "cell_type": "code",
   "execution_count": 74,
   "id": "e2848b43",
   "metadata": {},
   "outputs": [
    {
     "name": "stdout",
     "output_type": "stream",
     "text": [
      "p\n",
      "y\n",
      "t\n",
      "h\n",
      "o\n",
      "n\n"
     ]
    }
   ],
   "source": [
    "for i in x:\n",
    "    print(i)"
   ]
  },
  {
   "cell_type": "code",
   "execution_count": 77,
   "id": "0dc5c57f",
   "metadata": {},
   "outputs": [
    {
     "name": "stdout",
     "output_type": "stream",
     "text": [
      "hello\n"
     ]
    }
   ],
   "source": [
    "x = \"hello I'm programmer. I love programming.\"\n",
    "print(x[0], x[1],x[2],x[3],x[4],sep=\"\")"
   ]
  },
  {
   "cell_type": "code",
   "execution_count": 78,
   "id": "c86052ac",
   "metadata": {},
   "outputs": [
    {
     "name": "stdout",
     "output_type": "stream",
     "text": [
      "hell\n"
     ]
    }
   ],
   "source": [
    "x = \"hello I'm programmer. I love programming.\"\n",
    "print(x[0:4])"
   ]
  },
  {
   "cell_type": "code",
   "execution_count": 79,
   "id": "8185da52",
   "metadata": {},
   "outputs": [
    {
     "name": "stdout",
     "output_type": "stream",
     "text": [
      "hello\n"
     ]
    }
   ],
   "source": [
    "x = \"hello I'm programmer. I love programming.\"\n",
    "print(x[0:5]) # 0 = start , 5 => end"
   ]
  },
  {
   "cell_type": "code",
   "execution_count": 80,
   "id": "cf51e2c2",
   "metadata": {},
   "outputs": [
    {
     "name": "stdout",
     "output_type": "stream",
     "text": [
      "hello I'm programmer. \n"
     ]
    }
   ],
   "source": [
    "x = \"hello I'm programmer. I love programming.\"\n",
    "print(x[0:22])"
   ]
  },
  {
   "cell_type": "code",
   "execution_count": 82,
   "id": "442c1e60",
   "metadata": {},
   "outputs": [
    {
     "name": "stdout",
     "output_type": "stream",
     "text": [
      "love programming.\n"
     ]
    }
   ],
   "source": [
    "print(x[24:42])"
   ]
  },
  {
   "cell_type": "code",
   "execution_count": 83,
   "id": "0a1eac82",
   "metadata": {},
   "outputs": [
    {
     "name": "stdout",
     "output_type": "stream",
     "text": [
      "programming\n"
     ]
    }
   ],
   "source": [
    "x = \"programming\"\n",
    "print(x[0:])"
   ]
  },
  {
   "cell_type": "code",
   "execution_count": 84,
   "id": "d08a8277",
   "metadata": {},
   "outputs": [
    {
     "name": "stdout",
     "output_type": "stream",
     "text": [
      "programming\n"
     ]
    }
   ],
   "source": [
    "x = \"programming\"\n",
    "print(x[0:222222])"
   ]
  },
  {
   "cell_type": "code",
   "execution_count": 85,
   "id": "c583991f",
   "metadata": {},
   "outputs": [
    {
     "name": "stdout",
     "output_type": "stream",
     "text": [
      "ing\n"
     ]
    }
   ],
   "source": [
    "x = \"programming\"\n",
    "print(x[8:])"
   ]
  },
  {
   "cell_type": "code",
   "execution_count": 87,
   "id": "20d82641",
   "metadata": {},
   "outputs": [
    {
     "name": "stdout",
     "output_type": "stream",
     "text": [
      "ing\n"
     ]
    }
   ],
   "source": [
    "x = \"hello I'm programmer. I love programming.\"\n",
    "print(x[-4:-1])"
   ]
  },
  {
   "cell_type": "code",
   "execution_count": null,
   "id": "b597c862",
   "metadata": {},
   "outputs": [],
   "source": []
  }
 ],
 "metadata": {
  "kernelspec": {
   "display_name": "Python 3 (ipykernel)",
   "language": "python",
   "name": "python3"
  },
  "language_info": {
   "codemirror_mode": {
    "name": "ipython",
    "version": 3
   },
   "file_extension": ".py",
   "mimetype": "text/x-python",
   "name": "python",
   "nbconvert_exporter": "python",
   "pygments_lexer": "ipython3",
   "version": "3.11.1"
  }
 },
 "nbformat": 4,
 "nbformat_minor": 5
}
