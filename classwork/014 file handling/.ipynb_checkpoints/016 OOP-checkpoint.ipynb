{
 "cells": [
  {
   "cell_type": "code",
   "execution_count": 1,
   "id": "a684d86b",
   "metadata": {},
   "outputs": [],
   "source": [
    "def today_date():\n",
    "    pass\n",
    "\n",
    "def today_time():\n",
    "    pass\n",
    "\n",
    "def today_year():\n",
    "    pass\n",
    "\n",
    "def today_week():\n",
    "    pass\n",
    "\n",
    "def today_utc_time():\n",
    "    pass\n",
    "\n",
    "def current_month():\n",
    "    pass\n"
   ]
  },
  {
   "cell_type": "code",
   "execution_count": 2,
   "id": "80933131",
   "metadata": {},
   "outputs": [],
   "source": [
    "class DateTime: # PascalCase\n",
    "    def today_date(): # lowercase => snake_case\n",
    "        pass\n",
    "\n",
    "    def today_time():\n",
    "        pass\n",
    "\n",
    "    def today_year():\n",
    "        pass\n",
    "\n",
    "    def today_week():\n",
    "        pass\n",
    "\n",
    "    def today_utc_time():\n",
    "        pass\n",
    "\n",
    "    def current_month():\n",
    "        pass\n"
   ]
  },
  {
   "cell_type": "code",
   "execution_count": 3,
   "id": "25394557",
   "metadata": {},
   "outputs": [],
   "source": [
    "# class => Person => blueprint\n",
    "# object => ram"
   ]
  },
  {
   "cell_type": "code",
   "execution_count": 5,
   "id": "75923e24",
   "metadata": {},
   "outputs": [],
   "source": [
    "class Person:\n",
    "    # outside of class (variable) => inside class (attribute, property)\n",
    "    name = 'ram'\n",
    "    age = 22\n",
    "    address = 'ktm'\n",
    "    \n",
    "    # outside => function | inside => method, behaviour, action\n",
    "    def eat():\n",
    "        pass\n",
    "    \n",
    "    def walk():\n",
    "        pass\n",
    "    \n",
    "    def sleep():\n",
    "        pass"
   ]
  },
  {
   "cell_type": "code",
   "execution_count": 6,
   "id": "faad14fb",
   "metadata": {},
   "outputs": [],
   "source": [
    "p1 = Person() # instance of class => object"
   ]
  },
  {
   "cell_type": "code",
   "execution_count": 7,
   "id": "f4ff3e60",
   "metadata": {},
   "outputs": [],
   "source": [
    "p2 = Person()"
   ]
  },
  {
   "cell_type": "code",
   "execution_count": null,
   "id": "a0a3bb92",
   "metadata": {},
   "outputs": [],
   "source": [
    "class House:\n",
    "    no_of_rooms = 10\n",
    "    no_of_floors = 3\n",
    "    no_of_windows = 12\n",
    "    \n",
    "    def total_area():\n",
    "        pass\n",
    "    \n",
    "    def total_cost():\n",
    "        pass"
   ]
  }
 ],
 "metadata": {
  "kernelspec": {
   "display_name": "Python 3 (ipykernel)",
   "language": "python",
   "name": "python3"
  },
  "language_info": {
   "codemirror_mode": {
    "name": "ipython",
    "version": 3
   },
   "file_extension": ".py",
   "mimetype": "text/x-python",
   "name": "python",
   "nbconvert_exporter": "python",
   "pygments_lexer": "ipython3",
   "version": "3.11.1"
  }
 },
 "nbformat": 4,
 "nbformat_minor": 5
}
