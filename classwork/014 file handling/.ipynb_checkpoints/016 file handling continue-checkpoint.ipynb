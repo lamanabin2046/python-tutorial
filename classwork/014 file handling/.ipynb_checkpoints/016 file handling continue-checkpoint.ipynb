{
 "cells": [
  {
   "cell_type": "code",
   "execution_count": 2,
   "id": "9bfc27fc",
   "metadata": {},
   "outputs": [],
   "source": [
    "import csv\n",
    "\n",
    "users = [\n",
    "    (\"Name\", \"Address\", \"Age\"),\n",
    "    ('Ram', 'ktm', 23),\n",
    "    (\"Shyam\", \"Ltr\", 24),\n",
    "    (\"Sita\", \"Pkr\", 21),\n",
    "    (\"Gita\", \"Ktm\", 22)\n",
    "]\n",
    "\n",
    "with open(\"users1.csv\", 'w') as f:\n",
    "    writer = csv.writer(f)\n",
    "    for user in users:\n",
    "        writer.writerow(user)"
   ]
  },
  {
   "cell_type": "code",
   "execution_count": 4,
   "id": "ac8baad2",
   "metadata": {},
   "outputs": [],
   "source": [
    "students = [\n",
    "    {'name': \"Ram\", \"address\":\"ktm\", \"age\":23},\n",
    "    {'name': \"Shyam\", \"address\":\"ltr\", \"age\":24},\n",
    "    {'name': \"Sita\", \"address\":\"Pkr\", \"age\":21},\n",
    "    {'name': \"Gita\", \"address\":\"ktm\", \"age\":22},\n",
    "]\n",
    "with open(\"users2.csv\", 'w') as f:\n",
    "    writer = csv.DictWriter(f, fieldnames=students[0].keys())\n",
    "    writer.writeheader()\n",
    "    writer.writerows(students)"
   ]
  },
  {
   "cell_type": "code",
   "execution_count": 5,
   "id": "a5a23ae9",
   "metadata": {},
   "outputs": [],
   "source": [
    "import os"
   ]
  },
  {
   "cell_type": "code",
   "execution_count": 6,
   "id": "351d17d7",
   "metadata": {},
   "outputs": [],
   "source": [
    "os.remove(\"users2.csv\")"
   ]
  },
  {
   "cell_type": "code",
   "execution_count": 7,
   "id": "e8ebdc9c",
   "metadata": {},
   "outputs": [
    {
     "ename": "FileNotFoundError",
     "evalue": "[Errno 2] No such file or directory: 'users2.csv'",
     "output_type": "error",
     "traceback": [
      "\u001b[0;31m---------------------------------------------------------------------------\u001b[0m",
      "\u001b[0;31mFileNotFoundError\u001b[0m                         Traceback (most recent call last)",
      "Cell \u001b[0;32mIn[7], line 1\u001b[0m\n\u001b[0;32m----> 1\u001b[0m \u001b[43mos\u001b[49m\u001b[38;5;241;43m.\u001b[39;49m\u001b[43mremove\u001b[49m\u001b[43m(\u001b[49m\u001b[38;5;124;43m\"\u001b[39;49m\u001b[38;5;124;43musers2.csv\u001b[39;49m\u001b[38;5;124;43m\"\u001b[39;49m\u001b[43m)\u001b[49m\n",
      "\u001b[0;31mFileNotFoundError\u001b[0m: [Errno 2] No such file or directory: 'users2.csv'"
     ]
    }
   ],
   "source": [
    "os.remove(\"users2.csv\")"
   ]
  },
  {
   "cell_type": "code",
   "execution_count": 8,
   "id": "b1b5e8c4",
   "metadata": {},
   "outputs": [
    {
     "name": "stdout",
     "output_type": "stream",
     "text": [
      "File was not found. SOrry.\n"
     ]
    }
   ],
   "source": [
    "try:\n",
    "    os.remove(\"users2.csv\")\n",
    "except FileNotFoundError:\n",
    "    print(\"File was not found. SOrry.\")"
   ]
  },
  {
   "cell_type": "code",
   "execution_count": 9,
   "id": "be280b6c",
   "metadata": {},
   "outputs": [
    {
     "data": {
      "text/plain": [
       "'/Users/rameshpradhan/Documents/python3-resources/class_work/2023/March (6 PM)/014 file handling'"
      ]
     },
     "execution_count": 9,
     "metadata": {},
     "output_type": "execute_result"
    }
   ],
   "source": [
    "import os\n",
    "\n",
    "os.getcwd()"
   ]
  },
  {
   "cell_type": "code",
   "execution_count": 11,
   "id": "e75899d4",
   "metadata": {},
   "outputs": [
    {
     "name": "stdout",
     "output_type": "stream",
     "text": [
      "b'{\\\\rtf1\\\\ansi\\\\ansicpg1252\\\\cocoartf2708\\n\\\\cocoatextscaling0\\\\cocoaplatform0{\\\\fonttbl\\\\f0\\\\fswiss\\\\fcharset0 Helvetica;}\\n{\\\\colortbl;\\\\red255\\\\green255\\\\blue255;}\\n{\\\\*\\\\expandedcolortbl;;}\\n\\\\paperw11900\\\\paperh16840\\\\margl1440\\\\margr1440\\\\vieww11520\\\\viewh8400\\\\viewkind0\\n\\\\pard\\\\tx720\\\\tx1440\\\\tx2160\\\\tx2880\\\\tx3600\\\\tx4320\\\\tx5040\\\\tx5760\\\\tx6480\\\\tx7200\\\\tx7920\\\\tx8640\\\\pardirnatural\\\\partightenfactor0\\n\\n\\\\f0\\\\fs24 \\\\cf0 Shyesh shakya\\\\\\nAnmol sen\\\\\\nPratik uprety\\\\\\nShuvam basnet\\\\\\nSujal Shrestha\\\\\\nShusil\\\\\\nAmit\\\\\\nrabindra\\\\\\n}'\n"
     ]
    }
   ],
   "source": [
    "# absolute path\n",
    "file_path = r'/Users/rameshpradhan/Desktop/attendance.rtf'\n",
    "\n",
    "with open(file_path, 'rb') as f:\n",
    "    print(f.read())"
   ]
  },
  {
   "cell_type": "code",
   "execution_count": 12,
   "id": "be85346c",
   "metadata": {},
   "outputs": [
    {
     "data": {
      "text/plain": [
       "'/Users/rameshpradhan/Documents/python3-resources/class_work/2023/March (6 PM)/014 file handling'"
      ]
     },
     "execution_count": 12,
     "metadata": {},
     "output_type": "execute_result"
    }
   ],
   "source": [
    "import os\n",
    "\n",
    "os.getcwd() # current working directory"
   ]
  },
  {
   "cell_type": "code",
   "execution_count": 13,
   "id": "43a132ec",
   "metadata": {},
   "outputs": [],
   "source": [
    "import os\n",
    "\n",
    "os.chdir(\"/Users/rameshpradhan/Desktop/img\")"
   ]
  },
  {
   "cell_type": "code",
   "execution_count": 14,
   "id": "4246a0d3",
   "metadata": {},
   "outputs": [
    {
     "data": {
      "text/plain": [
       "'/Users/rameshpradhan/Desktop/img'"
      ]
     },
     "execution_count": 14,
     "metadata": {},
     "output_type": "execute_result"
    }
   ],
   "source": [
    "import os\n",
    "\n",
    "os.getcwd()"
   ]
  },
  {
   "cell_type": "code",
   "execution_count": 15,
   "id": "a53a5daf",
   "metadata": {},
   "outputs": [
    {
     "name": "stdout",
     "output_type": "stream",
     "text": [
      "File was not found. SOrry.\n"
     ]
    }
   ],
   "source": [
    "try:\n",
    "    os.remove(\"users1.csv\")\n",
    "except FileNotFoundError:\n",
    "    print(\"File was not found. SOrry.\")"
   ]
  },
  {
   "cell_type": "code",
   "execution_count": 16,
   "id": "cc4c3d86",
   "metadata": {},
   "outputs": [
    {
     "data": {
      "text/plain": [
       "['land nepal.png',\n",
       " 'Screenshot 2023-03-03 at 22.03.24.png',\n",
       " 'Screenshot 2023-03-03 at 22.03.31.png',\n",
       " 'Screenshot 2023-03-03 at 22.03.34.png',\n",
       " 'Screenshot 2023-03-03 at 22.03.20.png',\n",
       " 'Screenshot 2023-03-03 at 22.03.13.png',\n",
       " 'Screenshot 2023-03-03 at 22.02.44.png',\n",
       " 'Screenshot 2023-03-03 at 22.03.10.png',\n",
       " 'Screenshot 2023-03-03 at 22.03.04.png',\n",
       " 'Screenshot 2023-03-03 at 22.03.38.png',\n",
       " 'Screenshot 2023-03-03 at 22.03.00.png',\n",
       " 'Screenshot 2023-03-03 at 22.03.28.png',\n",
       " 'Screenshot 2023-03-03 at 22.02.54.png',\n",
       " 'Screenshot 2023-03-03 at 22.03.17.png',\n",
       " 'Screenshot 2023-03-03 at 22.02.30.png',\n",
       " 'Screenshot 2023-02-11 at 20.42.08.png']"
      ]
     },
     "execution_count": 16,
     "metadata": {},
     "output_type": "execute_result"
    }
   ],
   "source": [
    "os.listdir()"
   ]
  },
  {
   "cell_type": "code",
   "execution_count": 17,
   "id": "95045c11",
   "metadata": {},
   "outputs": [],
   "source": [
    "os.rename('land nepal.png', 'land_nepal.png')"
   ]
  },
  {
   "cell_type": "code",
   "execution_count": 19,
   "id": "7c00a99f",
   "metadata": {},
   "outputs": [
    {
     "data": {
      "text/plain": [
       "False"
      ]
     },
     "execution_count": 19,
     "metadata": {},
     "output_type": "execute_result"
    }
   ],
   "source": [
    "import os\n",
    "\n",
    "os.path.exists('land nepal.png')"
   ]
  },
  {
   "cell_type": "code",
   "execution_count": 20,
   "id": "a52418d3",
   "metadata": {},
   "outputs": [
    {
     "data": {
      "text/plain": [
       "True"
      ]
     },
     "execution_count": 20,
     "metadata": {},
     "output_type": "execute_result"
    }
   ],
   "source": [
    "import os\n",
    "\n",
    "os.path.exists('land_nepal.png')"
   ]
  },
  {
   "cell_type": "code",
   "execution_count": 21,
   "id": "10a96166",
   "metadata": {},
   "outputs": [
    {
     "data": {
      "text/plain": [
       "True"
      ]
     },
     "execution_count": 21,
     "metadata": {},
     "output_type": "execute_result"
    }
   ],
   "source": [
    "os.path.isfile('land_nepal.png')"
   ]
  },
  {
   "cell_type": "code",
   "execution_count": 22,
   "id": "9ae66609",
   "metadata": {},
   "outputs": [],
   "source": [
    "os.mkdir(\"hello\") # make directory"
   ]
  },
  {
   "cell_type": "code",
   "execution_count": 23,
   "id": "f2a1c555",
   "metadata": {},
   "outputs": [],
   "source": [
    "os.rename(\"hello\", \"hi\")"
   ]
  },
  {
   "cell_type": "code",
   "execution_count": 24,
   "id": "17c5ae8d",
   "metadata": {},
   "outputs": [],
   "source": [
    "os.rmdir(\"hi\") # remove directory"
   ]
  },
  {
   "cell_type": "code",
   "execution_count": null,
   "id": "4bb04984",
   "metadata": {},
   "outputs": [],
   "source": [
    "os.rmdir(r\"C:\\\\System32\") # donot do this"
   ]
  },
  {
   "cell_type": "code",
   "execution_count": null,
   "id": "ccc1a9dc",
   "metadata": {},
   "outputs": [],
   "source": []
  },
  {
   "cell_type": "code",
   "execution_count": null,
   "id": "cfbd745f",
   "metadata": {},
   "outputs": [],
   "source": []
  }
 ],
 "metadata": {
  "kernelspec": {
   "display_name": "Python 3 (ipykernel)",
   "language": "python",
   "name": "python3"
  },
  "language_info": {
   "codemirror_mode": {
    "name": "ipython",
    "version": 3
   },
   "file_extension": ".py",
   "mimetype": "text/x-python",
   "name": "python",
   "nbconvert_exporter": "python",
   "pygments_lexer": "ipython3",
   "version": "3.11.1"
  }
 },
 "nbformat": 4,
 "nbformat_minor": 5
}
