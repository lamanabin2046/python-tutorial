{
 "cells": [
  {
   "cell_type": "code",
   "execution_count": 1,
   "id": "ee533617",
   "metadata": {},
   "outputs": [
    {
     "name": "stdout",
     "output_type": "stream",
     "text": [
      "1\n",
      "2\n",
      "3\n",
      "4\n",
      "5\n"
     ]
    }
   ],
   "source": [
    "x = [1,2,3,4,5]\n",
    "for i in x:\n",
    "    print(i)"
   ]
  },
  {
   "cell_type": "code",
   "execution_count": 2,
   "id": "e14652bd",
   "metadata": {},
   "outputs": [
    {
     "data": {
      "text/plain": [
       "15"
      ]
     },
     "execution_count": 2,
     "metadata": {},
     "output_type": "execute_result"
    }
   ],
   "source": [
    "x = [1,2,3,4,5]\n",
    "sum(x)"
   ]
  },
  {
   "cell_type": "code",
   "execution_count": 4,
   "id": "f585fe49",
   "metadata": {},
   "outputs": [
    {
     "name": "stdout",
     "output_type": "stream",
     "text": [
      "15\n"
     ]
    }
   ],
   "source": [
    "x = [1,2,3,4,5]\n",
    "\n",
    "sum = 0\n",
    "for i in x:\n",
    "    sum += i # sum = sum + i\n",
    "print(sum)"
   ]
  },
  {
   "cell_type": "code",
   "execution_count": 5,
   "id": "431b2597",
   "metadata": {},
   "outputs": [
    {
     "name": "stdout",
     "output_type": "stream",
     "text": [
      "120\n"
     ]
    }
   ],
   "source": [
    "x = [1,2,3,4,5]\n",
    "\n",
    "mul = 1\n",
    "for i in x:\n",
    "    mul *= i # mul = mul * i\n",
    "    \n",
    "print(mul)"
   ]
  },
  {
   "cell_type": "code",
   "execution_count": 6,
   "id": "15e0d2ee",
   "metadata": {},
   "outputs": [
    {
     "name": "stdout",
     "output_type": "stream",
     "text": [
      "1\n",
      "4\n",
      "9\n",
      "16\n",
      "25\n"
     ]
    }
   ],
   "source": [
    "x = [1,2,3,4,5]\n",
    "# output = [1, 4, 9, 16, 25]\n",
    "for i in x:\n",
    "    print(i ** 2)"
   ]
  },
  {
   "cell_type": "code",
   "execution_count": 9,
   "id": "bf856b6b",
   "metadata": {},
   "outputs": [
    {
     "name": "stdout",
     "output_type": "stream",
     "text": [
      "[1, 4, 9, 16, 25]\n"
     ]
    }
   ],
   "source": [
    "x = [1,2,3,4,5]\n",
    "\n",
    "output = [] # [1, 4, 9...]\n",
    "\n",
    "for i in x:\n",
    "    output.append(i ** 2)\n",
    "    \n",
    "print(output)"
   ]
  },
  {
   "cell_type": "code",
   "execution_count": 10,
   "id": "ec0258f7",
   "metadata": {},
   "outputs": [
    {
     "data": {
      "text/plain": [
       "0"
      ]
     },
     "execution_count": 10,
     "metadata": {},
     "output_type": "execute_result"
    }
   ],
   "source": [
    "4 % 2"
   ]
  },
  {
   "cell_type": "code",
   "execution_count": 11,
   "id": "03416406",
   "metadata": {},
   "outputs": [
    {
     "data": {
      "text/plain": [
       "1"
      ]
     },
     "execution_count": 11,
     "metadata": {},
     "output_type": "execute_result"
    }
   ],
   "source": [
    "3 % 2"
   ]
  },
  {
   "cell_type": "code",
   "execution_count": 12,
   "id": "ff341791",
   "metadata": {},
   "outputs": [
    {
     "name": "stdout",
     "output_type": "stream",
     "text": [
      "['odd', 'even', 'odd', 'even', 'odd']\n"
     ]
    }
   ],
   "source": [
    "x = [1,2,3,4,5] \n",
    "# output = [\"odd\", \"even\", \"odd\" ...]\n",
    "\n",
    "output = [] # [odd, even, odd]\n",
    "for i in x:\n",
    "    if i % 2 == 0:\n",
    "        output.append(\"even\")\n",
    "    else:\n",
    "        output.append(\"odd\")\n",
    "        \n",
    "print(output)"
   ]
  },
  {
   "cell_type": "code",
   "execution_count": 13,
   "id": "b5d8cb8d",
   "metadata": {},
   "outputs": [
    {
     "name": "stdout",
     "output_type": "stream",
     "text": [
      "[1, 8, 9, 10]\n"
     ]
    }
   ],
   "source": [
    "x = [1, 8, 9]\n",
    "x.append(10) # insert at very last\n",
    "\n",
    "print(x)"
   ]
  },
  {
   "cell_type": "code",
   "execution_count": 14,
   "id": "a0a8fb24",
   "metadata": {},
   "outputs": [
    {
     "name": "stdout",
     "output_type": "stream",
     "text": [
      "[1, 8, 9, 10, 'hello']\n"
     ]
    }
   ],
   "source": [
    "x.append('hello')\n",
    "print(x)"
   ]
  },
  {
   "cell_type": "code",
   "execution_count": 15,
   "id": "81fd3709",
   "metadata": {},
   "outputs": [
    {
     "name": "stdout",
     "output_type": "stream",
     "text": [
      "odd\n",
      "even\n",
      "odd\n",
      "even\n",
      "odd\n"
     ]
    }
   ],
   "source": [
    "x = [1,2,3,4,5] \n",
    "\n",
    "for i in x:\n",
    "    if i % 2 == 0:\n",
    "        print('even')\n",
    "    else:\n",
    "        print('odd')"
   ]
  },
  {
   "cell_type": "code",
   "execution_count": 16,
   "id": "82973c81",
   "metadata": {},
   "outputs": [
    {
     "name": "stdout",
     "output_type": "stream",
     "text": [
      "hello\n",
      "hello\n",
      "hello\n",
      "hello\n"
     ]
    }
   ],
   "source": [
    "print('hello')\n",
    "print('hello')\n",
    "print('hello')\n",
    "print('hello')"
   ]
  },
  {
   "cell_type": "code",
   "execution_count": 17,
   "id": "728ef30f",
   "metadata": {},
   "outputs": [
    {
     "name": "stdout",
     "output_type": "stream",
     "text": [
      "Help on built-in function print in module builtins:\n",
      "\n",
      "print(*args, sep=' ', end='\\n', file=None, flush=False)\n",
      "    Prints the values to a stream, or to sys.stdout by default.\n",
      "    \n",
      "    sep\n",
      "      string inserted between values, default a space.\n",
      "    end\n",
      "      string appended after the last value, default a newline.\n",
      "    file\n",
      "      a file-like object (stream); defaults to the current sys.stdout.\n",
      "    flush\n",
      "      whether to forcibly flush the stream.\n",
      "\n"
     ]
    }
   ],
   "source": [
    "help(print)"
   ]
  },
  {
   "cell_type": "code",
   "execution_count": 18,
   "id": "389dfebb",
   "metadata": {},
   "outputs": [
    {
     "name": "stdout",
     "output_type": "stream",
     "text": [
      "hello\n",
      "hello\n",
      "hello\n",
      "hello\n"
     ]
    }
   ],
   "source": [
    "print('hello', end='\\n')\n",
    "print('hello')\n",
    "print('hello')\n",
    "print('hello')"
   ]
  },
  {
   "cell_type": "code",
   "execution_count": 19,
   "id": "e20149fe",
   "metadata": {},
   "outputs": [
    {
     "name": "stdout",
     "output_type": "stream",
     "text": [
      "hello===>hello\n",
      "hello\n",
      "hello\n"
     ]
    }
   ],
   "source": [
    "print('hello', end='===>')\n",
    "print('hello')\n",
    "print('hello')\n",
    "print('hello')"
   ]
  },
  {
   "cell_type": "code",
   "execution_count": 20,
   "id": "d8bd8c7d",
   "metadata": {},
   "outputs": [
    {
     "name": "stdout",
     "output_type": "stream",
     "text": [
      "1,2,3,4,5,6,7,8,9,"
     ]
    }
   ],
   "source": [
    "x = [1,2,3,4,5,6,7,8,9]\n",
    "\n",
    "for i in x:\n",
    "    print(i, end=\",\")"
   ]
  },
  {
   "cell_type": "code",
   "execution_count": 22,
   "id": "db436d83",
   "metadata": {},
   "outputs": [
    {
     "name": "stdout",
     "output_type": "stream",
     "text": [
      "25\n"
     ]
    }
   ],
   "source": [
    "x = [1,2,3,4,5,6,7,8,9]\n",
    "\n",
    "sum = 0\n",
    "for i in x:\n",
    "    if i % 2 == 1:\n",
    "        sum += i\n",
    "print(sum)"
   ]
  },
  {
   "cell_type": "code",
   "execution_count": 24,
   "id": "f7199a80",
   "metadata": {},
   "outputs": [
    {
     "name": "stdout",
     "output_type": "stream",
     "text": [
      "[1, 2, 3, 4, 5, 6, 7, 8, 9, 10, 11, 12, 19, 24]\n"
     ]
    }
   ],
   "source": [
    "x = [1,2,3,4,5,12,1,6,2,7,1,11,19,3,8,9,3,9,10,11,12,24,1,2,3,8] \n",
    "\n",
    "print(list(set(x)))"
   ]
  },
  {
   "cell_type": "code",
   "execution_count": 27,
   "id": "9cd0bd80",
   "metadata": {},
   "outputs": [
    {
     "name": "stdout",
     "output_type": "stream",
     "text": [
      "[1, 2, 3, 6, 7, 11, 19, 8, 9, 10, 12, 24]\n"
     ]
    }
   ],
   "source": [
    "x = [1,2,3,1,6,2,7,1,11,19,3,8,9,3,9,10,11,12,24,1,2,3,8]\n",
    "\n",
    "unique = [] # [1, 2, 3, 6 ]\n",
    "for i in x:\n",
    "    if i not in unique:\n",
    "        unique.append(i)\n",
    "        \n",
    "print(unique)"
   ]
  },
  {
   "cell_type": "code",
   "execution_count": 28,
   "id": "349a6a67",
   "metadata": {},
   "outputs": [
    {
     "name": "stdout",
     "output_type": "stream",
     "text": [
      "aeaa\n"
     ]
    }
   ],
   "source": [
    "name = 'ramesh pradhan'\n",
    "\n",
    "vowels = ''\n",
    "for i in name:\n",
    "    if i in 'aeiou':\n",
    "        vowels += i\n",
    "print(vowels)"
   ]
  },
  {
   "cell_type": "code",
   "execution_count": 30,
   "id": "76fe0d1a",
   "metadata": {},
   "outputs": [
    {
     "name": "stdout",
     "output_type": "stream",
     "text": [
      "aEAa\n"
     ]
    }
   ],
   "source": [
    "name = 'ramEsh prAdhan'\n",
    "\n",
    "vowels = ''\n",
    "for i in name:\n",
    "    if i.lower() in 'aeiou':\n",
    "        vowels += i\n",
    "print(vowels)"
   ]
  },
  {
   "cell_type": "code",
   "execution_count": 31,
   "id": "3120964d",
   "metadata": {},
   "outputs": [
    {
     "name": "stdout",
     "output_type": "stream",
     "text": [
      "4\n"
     ]
    }
   ],
   "source": [
    "name = 'ramEsh prAdhan'\n",
    "\n",
    "vowels = ''\n",
    "for i in name:\n",
    "    if i.lower() in 'aeiou':\n",
    "        vowels += i\n",
    "print(len(vowels))"
   ]
  },
  {
   "cell_type": "code",
   "execution_count": 32,
   "id": "13eb09c9",
   "metadata": {},
   "outputs": [
    {
     "name": "stdout",
     "output_type": "stream",
     "text": [
      "4\n"
     ]
    }
   ],
   "source": [
    "name = 'ramEsh prAdhan'\n",
    "\n",
    "vowels = 0\n",
    "for i in name:\n",
    "    if i.lower() in 'aeiou':\n",
    "        vowels += 1\n",
    "print(vowels)"
   ]
  },
  {
   "cell_type": "code",
   "execution_count": 33,
   "id": "f3b2dbb2",
   "metadata": {},
   "outputs": [
    {
     "name": "stdout",
     "output_type": "stream",
     "text": [
      "dict_values([99, 55, 77])\n"
     ]
    }
   ],
   "source": [
    "marks = {'Alan': 99, 'Bill': 55, 'Cory': 77} \n",
    "\n",
    "print(marks.values())"
   ]
  },
  {
   "cell_type": "code",
   "execution_count": 34,
   "id": "d3a15c47",
   "metadata": {},
   "outputs": [
    {
     "name": "stdout",
     "output_type": "stream",
     "text": [
      "231\n"
     ]
    }
   ],
   "source": [
    "marks = {'Alan': 99, 'Bill': 55, 'Cory': 77} \n",
    "\n",
    "sum = 0\n",
    "for i in marks.values():\n",
    "    sum += i\n",
    "    \n",
    "print(sum)"
   ]
  },
  {
   "cell_type": "code",
   "execution_count": 36,
   "id": "d3fb49e5",
   "metadata": {},
   "outputs": [
    {
     "name": "stdout",
     "output_type": "stream",
     "text": [
      "['Alan', 'Bill', 'Cory']\n"
     ]
    }
   ],
   "source": [
    "marks = {'Alan': 99, 'Bill': 55, 'Cory': 77} \n",
    "\n",
    "print(list(marks.keys()))"
   ]
  },
  {
   "cell_type": "code",
   "execution_count": 37,
   "id": "065f21b3",
   "metadata": {},
   "outputs": [
    {
     "name": "stdout",
     "output_type": "stream",
     "text": [
      "Alan\n",
      "Bill\n",
      "Cory\n"
     ]
    }
   ],
   "source": [
    "marks = {'Alan': 99, 'Bill': 55, 'Cory': 77} \n",
    "for i in marks: # marks.keys()\n",
    "    print(i)"
   ]
  },
  {
   "cell_type": "code",
   "execution_count": 38,
   "id": "4f3319f5",
   "metadata": {},
   "outputs": [
    {
     "name": "stdout",
     "output_type": "stream",
     "text": [
      "['Alan', 'Bill', 'Cory']\n"
     ]
    }
   ],
   "source": [
    "marks = {'Alan': 99, 'Bill': 55, 'Cory': 77} \n",
    "students = []\n",
    "\n",
    "for i in marks: # marks.keys()\n",
    "    students.append(i)\n",
    "    \n",
    "print(students)"
   ]
  },
  {
   "cell_type": "code",
   "execution_count": 39,
   "id": "6ce5b0de",
   "metadata": {},
   "outputs": [],
   "source": [
    "students = ['Alan', 'Bill', 'Cory', 'Ram', 'Shyam', 'Gita']\n",
    "# output = {\"Alan\":0, \"Bill\":1, ...}\n"
   ]
  },
  {
   "cell_type": "code",
   "execution_count": 40,
   "id": "e0ef031e",
   "metadata": {},
   "outputs": [
    {
     "name": "stdout",
     "output_type": "stream",
     "text": [
      "{'Alan': 0, 'Bill': 1, 'Cory': 2, 'Ram': 3, 'Shyam': 4, 'Gita': 5}\n"
     ]
    }
   ],
   "source": [
    "students = ['Alan', 'Bill', 'Cory', 'Ram', 'Shyam', 'Gita']\n",
    "\n",
    "output = {}\n",
    "i = 0\n",
    "for student in students:\n",
    "    output.update({student: i})\n",
    "    i += 1\n",
    "print(output)"
   ]
  },
  {
   "cell_type": "code",
   "execution_count": null,
   "id": "8fdfaa30",
   "metadata": {},
   "outputs": [],
   "source": []
  }
 ],
 "metadata": {
  "kernelspec": {
   "display_name": "Python 3 (ipykernel)",
   "language": "python",
   "name": "python3"
  },
  "language_info": {
   "codemirror_mode": {
    "name": "ipython",
    "version": 3
   },
   "file_extension": ".py",
   "mimetype": "text/x-python",
   "name": "python",
   "nbconvert_exporter": "python",
   "pygments_lexer": "ipython3",
   "version": "3.11.1"
  }
 },
 "nbformat": 4,
 "nbformat_minor": 5
}
