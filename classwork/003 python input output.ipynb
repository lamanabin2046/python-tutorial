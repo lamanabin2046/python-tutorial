{
 "cells": [
  {
   "cell_type": "code",
   "execution_count": 1,
   "id": "6d2f57fb",
   "metadata": {},
   "outputs": [
    {
     "name": "stdout",
     "output_type": "stream",
     "text": [
      "Hello world\n"
     ]
    }
   ],
   "source": [
    "print(\"Hello world\")"
   ]
  },
  {
   "cell_type": "code",
   "execution_count": 3,
   "id": "0d431baa",
   "metadata": {},
   "outputs": [
    {
     "name": "stdout",
     "output_type": "stream",
     "text": [
      "The sum of 1 and 2 is 3\n"
     ]
    }
   ],
   "source": [
    "x = 1\n",
    "y = 2\n",
    "\n",
    "sum = x + y\n",
    "\n",
    "# string interpolation using f-string\n",
    "print(f\"The sum of {x} and {y} is {sum}\")"
   ]
  },
  {
   "cell_type": "code",
   "execution_count": 6,
   "id": "23a53ab4",
   "metadata": {},
   "outputs": [
    {
     "name": "stdout",
     "output_type": "stream",
     "text": [
      "1 2 3 4 5 hello\n"
     ]
    }
   ],
   "source": [
    "print(1,2,3,4,5,'hello')"
   ]
  },
  {
   "cell_type": "code",
   "execution_count": 7,
   "id": "140bd338",
   "metadata": {},
   "outputs": [
    {
     "name": "stdout",
     "output_type": "stream",
     "text": [
      "Help on built-in function print in module builtins:\n",
      "\n",
      "print(*args, sep=' ', end='\\n', file=None, flush=False)\n",
      "    Prints the values to a stream, or to sys.stdout by default.\n",
      "    \n",
      "    sep\n",
      "      string inserted between values, default a space.\n",
      "    end\n",
      "      string appended after the last value, default a newline.\n",
      "    file\n",
      "      a file-like object (stream); defaults to the current sys.stdout.\n",
      "    flush\n",
      "      whether to forcibly flush the stream.\n",
      "\n"
     ]
    }
   ],
   "source": [
    "help(print)"
   ]
  },
  {
   "cell_type": "code",
   "execution_count": 8,
   "id": "c1b96ca3",
   "metadata": {},
   "outputs": [
    {
     "name": "stdout",
     "output_type": "stream",
     "text": [
      "1#2#3#4#5#hello\n"
     ]
    }
   ],
   "source": [
    "print(1,2,3,4,5,'hello', sep='#')"
   ]
  },
  {
   "cell_type": "code",
   "execution_count": 10,
   "id": "41b0038e",
   "metadata": {},
   "outputs": [
    {
     "name": "stdout",
     "output_type": "stream",
     "text": [
      "1 2 3 4 5 hello\n",
      "1 2 3 4 5 hello\n",
      "1 2 3 4 5 hello\n"
     ]
    }
   ],
   "source": [
    "print(1,2,3,4,5,'hello')\n",
    "print(1,2,3,4,5,'hello')\n",
    "print(1,2,3,4,5,'hello')"
   ]
  },
  {
   "cell_type": "code",
   "execution_count": 11,
   "id": "f9604090",
   "metadata": {},
   "outputs": [
    {
     "name": "stdout",
     "output_type": "stream",
     "text": [
      "1 2 3 4 5 hello=>1 2 3 4 5 hello\n",
      "1 2 3 4 5 hello\n"
     ]
    }
   ],
   "source": [
    "print(1,2,3,4,5,'hello', end='=>')\n",
    "print(1,2,3,4,5,'hello')\n",
    "print(1,2,3,4,5,'hello')"
   ]
  },
  {
   "cell_type": "code",
   "execution_count": 12,
   "id": "be2eb10b",
   "metadata": {},
   "outputs": [
    {
     "name": "stdout",
     "output_type": "stream",
     "text": [
      "The sum of 1 and 2 is 3\n"
     ]
    }
   ],
   "source": [
    "x = 1\n",
    "y = 2\n",
    "\n",
    "sum = x + y\n",
    "\n",
    "# string interpolation using format\n",
    "print(\"The sum of {0} and {1} is {2}\".format(x, y, sum))"
   ]
  },
  {
   "cell_type": "code",
   "execution_count": 13,
   "id": "d3114f52",
   "metadata": {},
   "outputs": [
    {
     "name": "stdout",
     "output_type": "stream",
     "text": [
      "The sum of 2 and 2 is 3\n"
     ]
    }
   ],
   "source": [
    "x = 1\n",
    "y = 2\n",
    "\n",
    "sum = x + y\n",
    "\n",
    "# string interpolation using format\n",
    "print(\"The sum of {1} and {1} is {2}\".format(x, y, sum))"
   ]
  },
  {
   "cell_type": "code",
   "execution_count": 14,
   "id": "34ffcb40",
   "metadata": {},
   "outputs": [
    {
     "name": "stdout",
     "output_type": "stream",
     "text": [
      "The sum of 1 and 2 is 3\n"
     ]
    }
   ],
   "source": [
    "x = 1\n",
    "y = 2\n",
    "\n",
    "sum = x + y\n",
    "\n",
    "# string interpolation using format\n",
    "# a, b & c are alias to x, y and sum respectively\n",
    "print(\"The sum of {a} and {b} is {c}\".format(a=x, b=y, c=sum))"
   ]
  },
  {
   "cell_type": "code",
   "execution_count": 16,
   "id": "6d623409",
   "metadata": {},
   "outputs": [
    {
     "name": "stdout",
     "output_type": "stream",
     "text": [
      "Enter the first number: 1\n",
      "Enter the second number: 2\n",
      "<class 'str'> <class 'str'>\n",
      "The sum of 1 and 2 is 12\n"
     ]
    }
   ],
   "source": [
    "x = input(\"Enter the first number: \")\n",
    "y = input(\"Enter the second number: \")\n",
    "\n",
    "print(type(x), type(y))\n",
    "sum = x + y\n",
    "\n",
    "# string interpolation using f-string\n",
    "print(f\"The sum of {x} and {y} is {sum}\")"
   ]
  },
  {
   "cell_type": "code",
   "execution_count": 17,
   "id": "35b7a80f",
   "metadata": {},
   "outputs": [
    {
     "name": "stdout",
     "output_type": "stream",
     "text": [
      "Enter the first number: 1\n",
      "Enter the second number: 2\n",
      "<class 'int'> <class 'int'>\n",
      "The sum of 1 and 2 is 3\n"
     ]
    }
   ],
   "source": [
    "x = int(input(\"Enter the first number: \"))\n",
    "y = int(input(\"Enter the second number: \"))\n",
    "\n",
    "print(type(x), type(y))\n",
    "sum = x + y\n",
    "\n",
    "# string interpolation using f-string\n",
    "print(f\"The sum of {x} and {y} is {sum}\")"
   ]
  },
  {
   "cell_type": "code",
   "execution_count": 21,
   "id": "d89ea91b",
   "metadata": {},
   "outputs": [
    {
     "name": "stdout",
     "output_type": "stream",
     "text": [
      "Enter the principle: 32\n",
      "Enter the time: 233\n",
      "Enter the rate: 23\n",
      "Simple Interest: 1714.88\n"
     ]
    }
   ],
   "source": [
    "# principle, rate, time\n",
    "# SI = p * t * r  / 100\n",
    "\n",
    "p = int(input(\"Enter the principle: \"))\n",
    "t = int(input(\"Enter the time: \"))\n",
    "r = int(input(\"Enter the rate: \"))\n",
    "\n",
    "\n",
    "si = p * t * r / 100\n",
    "\n",
    "print(f\"Simple Interest: {si}\")"
   ]
  },
  {
   "cell_type": "code",
   "execution_count": 22,
   "id": "705b05e8",
   "metadata": {},
   "outputs": [
    {
     "name": "stdout",
     "output_type": "stream",
     "text": [
      "Enter number: 23\n",
      "\n",
      "\n",
      "The number is:23\n",
      "Output number in octal format : 27\n",
      "Output number in binary format: 10111\n",
      "Output number in hexadecimal format: 17\n"
     ]
    }
   ],
   "source": [
    "number = int(input(\"Enter number: \"))\n",
    "\n",
    "print(\"\\n\")\n",
    "# 'd' is for integer number formatting\n",
    "print(\"The number is:{:d}\".format(number))\n",
    "\n",
    "# 'o' is for octal number formatting, binary and hexadecimal format\n",
    "print('Output number in octal format : {0:o}'.format(number))\n",
    "\n",
    "# 'b' is for binary number formatting\n",
    "print('Output number in binary format: {0:b}'.format(number))\n",
    "\n",
    "# 'x' is for hexadecimal format\n",
    "print('Output number in hexadecimal format: {0:x}'.format(number))"
   ]
  },
  {
   "cell_type": "code",
   "execution_count": 23,
   "id": "150adc82",
   "metadata": {},
   "outputs": [
    {
     "name": "stdout",
     "output_type": "stream",
     "text": [
      "Enter number: 123\n",
      "The number is:123\n",
      "Output number in octal format : 173\n",
      "Output number in binary format: 1111011\n",
      "Output number in hexadecimal format: 7b\n"
     ]
    }
   ],
   "source": [
    "number = int(input(\"Enter number: \"))\n",
    "\n",
    "# 'd' is for integer number formatting => decimal\n",
    "print(f\"The number is:{number:d}\")\n",
    "\n",
    "# 'o' is for octal number formatting, binary and hexadecimal format\n",
    "print(f'Output number in octal format : {number:o}')\n",
    "\n",
    "# 'b' is for binary number formatting\n",
    "print(f'Output number in binary format: {number:b}')\n",
    "\n",
    "# 'x' is for hexadecimal format\n",
    "print(f'Output number in hexadecimal format: {number:x}')"
   ]
  },
  {
   "cell_type": "code",
   "execution_count": 24,
   "id": "7fa1973e",
   "metadata": {},
   "outputs": [],
   "source": [
    "# area of circle = pi * r ** 2\n",
    "# perimeter of circle = 2 * pi * r"
   ]
  },
  {
   "cell_type": "code",
   "execution_count": 25,
   "id": "dd449ab9",
   "metadata": {},
   "outputs": [],
   "source": [
    "from math import pi"
   ]
  },
  {
   "cell_type": "code",
   "execution_count": 26,
   "id": "db447e54",
   "metadata": {},
   "outputs": [
    {
     "name": "stdout",
     "output_type": "stream",
     "text": [
      "3.141592653589793\n"
     ]
    }
   ],
   "source": [
    "print(pi)"
   ]
  },
  {
   "cell_type": "code",
   "execution_count": 27,
   "id": "620b0115",
   "metadata": {},
   "outputs": [
    {
     "name": "stdout",
     "output_type": "stream",
     "text": [
      "enter the value of radius: 5\n",
      "78.53981633974483\n",
      "31.41592653589793\n"
     ]
    }
   ],
   "source": [
    "r = int(input(\"enter the value of radius: \"))\n",
    "area_of_circle = pi * r ** 2\n",
    "perimeter_of_circle = 2 * pi * r\n",
    "\n",
    "print(area_of_circle)\n",
    "print(perimeter_of_circle)"
   ]
  },
  {
   "cell_type": "code",
   "execution_count": 29,
   "id": "84ab55e4",
   "metadata": {},
   "outputs": [
    {
     "name": "stdout",
     "output_type": "stream",
     "text": [
      "13 30 3.3333333333333335 7\n"
     ]
    }
   ],
   "source": [
    "x = 10\n",
    "y = 3\n",
    "\n",
    "sum = x + y\n",
    "mul = x * y\n",
    "div = x / y\n",
    "sub = x - y\n",
    "\n",
    "print(sum, mul, div, sub)"
   ]
  },
  {
   "cell_type": "code",
   "execution_count": 30,
   "id": "4a0c8eb3",
   "metadata": {},
   "outputs": [
    {
     "name": "stdout",
     "output_type": "stream",
     "text": [
      "3\n"
     ]
    }
   ],
   "source": [
    "floor_div = x // y\n",
    "\n",
    "print(floor_div)"
   ]
  },
  {
   "cell_type": "code",
   "execution_count": 31,
   "id": "75976f9b",
   "metadata": {},
   "outputs": [
    {
     "name": "stdout",
     "output_type": "stream",
     "text": [
      "125\n"
     ]
    }
   ],
   "source": [
    "x = 5\n",
    "\n",
    "print(x ** 3)"
   ]
  },
  {
   "cell_type": "code",
   "execution_count": 32,
   "id": "bbb00f1a",
   "metadata": {},
   "outputs": [
    {
     "name": "stdout",
     "output_type": "stream",
     "text": [
      "25\n"
     ]
    }
   ],
   "source": [
    "print(x ** 2)"
   ]
  },
  {
   "cell_type": "code",
   "execution_count": 33,
   "id": "d22e315e",
   "metadata": {},
   "outputs": [
    {
     "name": "stdout",
     "output_type": "stream",
     "text": [
      "625\n"
     ]
    }
   ],
   "source": [
    "print(x ** 4)"
   ]
  },
  {
   "cell_type": "code",
   "execution_count": 34,
   "id": "30c46a56",
   "metadata": {},
   "outputs": [
    {
     "name": "stdout",
     "output_type": "stream",
     "text": [
      "1\n"
     ]
    }
   ],
   "source": [
    "x = 10\n",
    "y = 3\n",
    "\n",
    "rem = x % y # modulus operator\n",
    "\n",
    "print(rem)"
   ]
  },
  {
   "cell_type": "code",
   "execution_count": 35,
   "id": "b165fa5b",
   "metadata": {},
   "outputs": [
    {
     "data": {
      "text/plain": [
       "True"
      ]
     },
     "execution_count": 35,
     "metadata": {},
     "output_type": "execute_result"
    }
   ],
   "source": [
    "x = 10\n",
    "y = 3\n",
    "\n",
    "x > y"
   ]
  },
  {
   "cell_type": "code",
   "execution_count": 36,
   "id": "355be413",
   "metadata": {},
   "outputs": [
    {
     "data": {
      "text/plain": [
       "False"
      ]
     },
     "execution_count": 36,
     "metadata": {},
     "output_type": "execute_result"
    }
   ],
   "source": [
    "x < y"
   ]
  },
  {
   "cell_type": "code",
   "execution_count": 37,
   "id": "457ac919",
   "metadata": {},
   "outputs": [
    {
     "data": {
      "text/plain": [
       "False"
      ]
     },
     "execution_count": 37,
     "metadata": {},
     "output_type": "execute_result"
    }
   ],
   "source": [
    "x == y"
   ]
  },
  {
   "cell_type": "code",
   "execution_count": 38,
   "id": "140019d7",
   "metadata": {},
   "outputs": [
    {
     "data": {
      "text/plain": [
       "True"
      ]
     },
     "execution_count": 38,
     "metadata": {},
     "output_type": "execute_result"
    }
   ],
   "source": [
    "x != y"
   ]
  },
  {
   "cell_type": "code",
   "execution_count": 39,
   "id": "8d26ed35",
   "metadata": {},
   "outputs": [
    {
     "data": {
      "text/plain": [
       "True"
      ]
     },
     "execution_count": 39,
     "metadata": {},
     "output_type": "execute_result"
    }
   ],
   "source": [
    "x = 3\n",
    "y = 2\n",
    "\n",
    "x >= y "
   ]
  },
  {
   "cell_type": "code",
   "execution_count": 40,
   "id": "e7993f03",
   "metadata": {},
   "outputs": [
    {
     "data": {
      "text/plain": [
       "False"
      ]
     },
     "execution_count": 40,
     "metadata": {},
     "output_type": "execute_result"
    }
   ],
   "source": [
    "x <= y"
   ]
  },
  {
   "cell_type": "code",
   "execution_count": 41,
   "id": "c271f534",
   "metadata": {},
   "outputs": [
    {
     "name": "stdout",
     "output_type": "stream",
     "text": [
      "5\n"
     ]
    }
   ],
   "source": [
    "x = 'apple'\n",
    "\n",
    "print(len(x))"
   ]
  },
  {
   "cell_type": "code",
   "execution_count": 42,
   "id": "cf97701c",
   "metadata": {},
   "outputs": [
    {
     "data": {
      "text/plain": [
       "False"
      ]
     },
     "execution_count": 42,
     "metadata": {},
     "output_type": "execute_result"
    }
   ],
   "source": [
    "x = True\n",
    "y = False\n",
    "\n",
    "# and => all value should be True or 1 to become True\n",
    "x and y"
   ]
  },
  {
   "cell_type": "code",
   "execution_count": 43,
   "id": "28a5453a",
   "metadata": {},
   "outputs": [
    {
     "data": {
      "text/plain": [
       "True"
      ]
     },
     "execution_count": 43,
     "metadata": {},
     "output_type": "execute_result"
    }
   ],
   "source": [
    "# or => any value should be True or 1 to become True\n",
    "x or y"
   ]
  },
  {
   "cell_type": "code",
   "execution_count": 44,
   "id": "cd44ae6e",
   "metadata": {},
   "outputs": [
    {
     "data": {
      "text/plain": [
       "False"
      ]
     },
     "execution_count": 44,
     "metadata": {},
     "output_type": "execute_result"
    }
   ],
   "source": [
    "not x"
   ]
  },
  {
   "cell_type": "code",
   "execution_count": 45,
   "id": "65570604",
   "metadata": {},
   "outputs": [
    {
     "data": {
      "text/plain": [
       "True"
      ]
     },
     "execution_count": 45,
     "metadata": {},
     "output_type": "execute_result"
    }
   ],
   "source": [
    "not y"
   ]
  },
  {
   "cell_type": "code",
   "execution_count": 46,
   "id": "69ba7097",
   "metadata": {},
   "outputs": [
    {
     "data": {
      "text/plain": [
       "True"
      ]
     },
     "execution_count": 46,
     "metadata": {},
     "output_type": "execute_result"
    }
   ],
   "source": [
    "True and True and True"
   ]
  },
  {
   "cell_type": "code",
   "execution_count": 47,
   "id": "01e3b5a8",
   "metadata": {},
   "outputs": [
    {
     "data": {
      "text/plain": [
       "True"
      ]
     },
     "execution_count": 47,
     "metadata": {},
     "output_type": "execute_result"
    }
   ],
   "source": [
    "True and True or True"
   ]
  },
  {
   "cell_type": "code",
   "execution_count": 49,
   "id": "abbe1bc7",
   "metadata": {},
   "outputs": [
    {
     "data": {
      "text/plain": [
       "True"
      ]
     },
     "execution_count": 49,
     "metadata": {},
     "output_type": "execute_result"
    }
   ],
   "source": [
    "True or True and False"
   ]
  },
  {
   "cell_type": "code",
   "execution_count": 50,
   "id": "3da48ac6",
   "metadata": {},
   "outputs": [
    {
     "data": {
      "text/plain": [
       "False"
      ]
     },
     "execution_count": 50,
     "metadata": {},
     "output_type": "execute_result"
    }
   ],
   "source": [
    "(True or True) and False"
   ]
  },
  {
   "cell_type": "code",
   "execution_count": 51,
   "id": "789e2b9a",
   "metadata": {},
   "outputs": [
    {
     "data": {
      "text/plain": [
       "False"
      ]
     },
     "execution_count": 51,
     "metadata": {},
     "output_type": "execute_result"
    }
   ],
   "source": [
    "# and has greater precedence over or operator\n",
    "\n",
    "True and (not(not False)) or (True and (not True))\n",
    "True and False or False\n",
    "False or False\n",
    "False"
   ]
  },
  {
   "cell_type": "code",
   "execution_count": 52,
   "id": "890f3ea2",
   "metadata": {},
   "outputs": [
    {
     "data": {
      "text/plain": [
       "False"
      ]
     },
     "execution_count": 52,
     "metadata": {},
     "output_type": "execute_result"
    }
   ],
   "source": [
    "\n",
    "True and (not(not False)) or (True and (not True))"
   ]
  },
  {
   "cell_type": "code",
   "execution_count": 53,
   "id": "1fbe2a83",
   "metadata": {},
   "outputs": [
    {
     "data": {
      "text/plain": [
       "True"
      ]
     },
     "execution_count": 53,
     "metadata": {},
     "output_type": "execute_result"
    }
   ],
   "source": [
    "'a' in 'ram'"
   ]
  },
  {
   "cell_type": "code",
   "execution_count": 54,
   "id": "ee6d3d44",
   "metadata": {},
   "outputs": [
    {
     "data": {
      "text/plain": [
       "False"
      ]
     },
     "execution_count": 54,
     "metadata": {},
     "output_type": "execute_result"
    }
   ],
   "source": [
    "'A' in 'ram'"
   ]
  },
  {
   "cell_type": "code",
   "execution_count": 55,
   "id": "8f16c4f9",
   "metadata": {},
   "outputs": [
    {
     "data": {
      "text/plain": [
       "False"
      ]
     },
     "execution_count": 55,
     "metadata": {},
     "output_type": "execute_result"
    }
   ],
   "source": [
    "'rm' in 'ramesh'"
   ]
  },
  {
   "cell_type": "code",
   "execution_count": 56,
   "id": "064b1bfe",
   "metadata": {},
   "outputs": [
    {
     "data": {
      "text/plain": [
       "False"
      ]
     },
     "execution_count": 56,
     "metadata": {},
     "output_type": "execute_result"
    }
   ],
   "source": [
    "'Ra' in 'ramesh'"
   ]
  },
  {
   "cell_type": "code",
   "execution_count": 57,
   "id": "eb2fbd5e",
   "metadata": {},
   "outputs": [
    {
     "data": {
      "text/plain": [
       "True"
      ]
     },
     "execution_count": 57,
     "metadata": {},
     "output_type": "execute_result"
    }
   ],
   "source": [
    "x = 1\n",
    "y = 1\n",
    "\n",
    "x == y"
   ]
  },
  {
   "cell_type": "code",
   "execution_count": 58,
   "id": "28fb0c4f",
   "metadata": {},
   "outputs": [
    {
     "data": {
      "text/plain": [
       "True"
      ]
     },
     "execution_count": 58,
     "metadata": {},
     "output_type": "execute_result"
    }
   ],
   "source": [
    "x = 1\n",
    "y = 1\n",
    "\n",
    "x is y"
   ]
  },
  {
   "cell_type": "code",
   "execution_count": 59,
   "id": "074727c3",
   "metadata": {},
   "outputs": [
    {
     "name": "stdout",
     "output_type": "stream",
     "text": [
      "4307033256\n",
      "4307033256\n"
     ]
    },
    {
     "data": {
      "text/plain": [
       "True"
      ]
     },
     "execution_count": 59,
     "metadata": {},
     "output_type": "execute_result"
    }
   ],
   "source": [
    "x = 1\n",
    "y = 1\n",
    "\n",
    "print(id(x))\n",
    "print(id(y))\n",
    "\n",
    "x is y"
   ]
  },
  {
   "cell_type": "code",
   "execution_count": 60,
   "id": "88e931c2",
   "metadata": {},
   "outputs": [
    {
     "name": "stdout",
     "output_type": "stream",
     "text": [
      "4307033256\n",
      "4307033288\n"
     ]
    },
    {
     "data": {
      "text/plain": [
       "False"
      ]
     },
     "execution_count": 60,
     "metadata": {},
     "output_type": "execute_result"
    }
   ],
   "source": [
    "x = 1\n",
    "y = 2\n",
    "\n",
    "print(id(x))\n",
    "print(id(y))\n",
    "\n",
    "x is y"
   ]
  },
  {
   "cell_type": "code",
   "execution_count": 61,
   "id": "d26ad7e6",
   "metadata": {},
   "outputs": [
    {
     "name": "stdout",
     "output_type": "stream",
     "text": [
      "4382939216\n",
      "4382938448\n"
     ]
    },
    {
     "data": {
      "text/plain": [
       "False"
      ]
     },
     "execution_count": 61,
     "metadata": {},
     "output_type": "execute_result"
    }
   ],
   "source": [
    "x = 300\n",
    "y = 300\n",
    "\n",
    "print(id(x))\n",
    "print(id(y))\n",
    "\n",
    "x is y"
   ]
  },
  {
   "cell_type": "code",
   "execution_count": 62,
   "id": "d4511734",
   "metadata": {},
   "outputs": [
    {
     "name": "stdout",
     "output_type": "stream",
     "text": [
      "4307041224\n",
      "4307041224\n"
     ]
    },
    {
     "data": {
      "text/plain": [
       "True"
      ]
     },
     "execution_count": 62,
     "metadata": {},
     "output_type": "execute_result"
    }
   ],
   "source": [
    "x = 250\n",
    "y = 250\n",
    "\n",
    "print(id(x))\n",
    "print(id(y))\n",
    "\n",
    "x is y"
   ]
  },
  {
   "cell_type": "code",
   "execution_count": 63,
   "id": "b736b243",
   "metadata": {},
   "outputs": [
    {
     "name": "stdout",
     "output_type": "stream",
     "text": [
      "4382937712\n",
      "4382938832\n"
     ]
    },
    {
     "data": {
      "text/plain": [
       "False"
      ]
     },
     "execution_count": 63,
     "metadata": {},
     "output_type": "execute_result"
    }
   ],
   "source": [
    "x = 25000\n",
    "y = 25000\n",
    "\n",
    "print(id(x))\n",
    "print(id(y))\n",
    "\n",
    "x is y"
   ]
  },
  {
   "cell_type": "code",
   "execution_count": 65,
   "id": "8947358e",
   "metadata": {},
   "outputs": [],
   "source": [
    "# 0 - 256 => store in static memory address"
   ]
  },
  {
   "cell_type": "code",
   "execution_count": 66,
   "id": "61cc0d32",
   "metadata": {},
   "outputs": [
    {
     "name": "stdout",
     "output_type": "stream",
     "text": [
      "4307041384\n",
      "4307041384\n"
     ]
    },
    {
     "data": {
      "text/plain": [
       "True"
      ]
     },
     "execution_count": 66,
     "metadata": {},
     "output_type": "execute_result"
    }
   ],
   "source": [
    "x = 255\n",
    "y = 255\n",
    "\n",
    "print(id(x))\n",
    "print(id(y))\n",
    "\n",
    "x is y"
   ]
  },
  {
   "cell_type": "code",
   "execution_count": 67,
   "id": "f5045165",
   "metadata": {},
   "outputs": [
    {
     "name": "stdout",
     "output_type": "stream",
     "text": [
      "4307041416\n",
      "4307041416\n"
     ]
    },
    {
     "data": {
      "text/plain": [
       "True"
      ]
     },
     "execution_count": 67,
     "metadata": {},
     "output_type": "execute_result"
    }
   ],
   "source": [
    "x = 256\n",
    "y = 256\n",
    "\n",
    "print(id(x))\n",
    "print(id(y))\n",
    "\n",
    "x is y"
   ]
  },
  {
   "cell_type": "code",
   "execution_count": 68,
   "id": "3f28ee57",
   "metadata": {},
   "outputs": [
    {
     "name": "stdout",
     "output_type": "stream",
     "text": [
      "4382938832\n",
      "4382938512\n"
     ]
    },
    {
     "data": {
      "text/plain": [
       "False"
      ]
     },
     "execution_count": 68,
     "metadata": {},
     "output_type": "execute_result"
    }
   ],
   "source": [
    "x = 257\n",
    "y = 257\n",
    "\n",
    "print(id(x))\n",
    "print(id(y))\n",
    "\n",
    "x is y"
   ]
  },
  {
   "cell_type": "code",
   "execution_count": null,
   "id": "315f49e6",
   "metadata": {},
   "outputs": [],
   "source": []
  }
 ],
 "metadata": {
  "kernelspec": {
   "display_name": "Python 3 (ipykernel)",
   "language": "python",
   "name": "python3"
  },
  "language_info": {
   "codemirror_mode": {
    "name": "ipython",
    "version": 3
   },
   "file_extension": ".py",
   "mimetype": "text/x-python",
   "name": "python",
   "nbconvert_exporter": "python",
   "pygments_lexer": "ipython3",
   "version": "3.11.1"
  }
 },
 "nbformat": 4,
 "nbformat_minor": 5
}
