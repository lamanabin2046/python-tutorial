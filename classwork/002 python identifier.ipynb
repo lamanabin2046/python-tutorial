{
 "cells": [
  {
   "cell_type": "code",
   "execution_count": 1,
   "id": "9dc8ac3d",
   "metadata": {},
   "outputs": [
    {
     "name": "stdout",
     "output_type": "stream",
     "text": [
      "3\n"
     ]
    }
   ],
   "source": [
    "x = 1 # variable => integer\n",
    "y = 2 # variable => integer\n",
    "\n",
    "sum = x + y # variable => integer\n",
    "\n",
    "print(sum)"
   ]
  },
  {
   "cell_type": "code",
   "execution_count": 2,
   "id": "7a2c1ca0",
   "metadata": {},
   "outputs": [
    {
     "name": "stdout",
     "output_type": "stream",
     "text": [
      "3.5\n"
     ]
    }
   ],
   "source": [
    "x = 1.5 # variable => float\n",
    "y = 2 # variable => integer\n",
    "\n",
    "sum = x + y # variable => float\n",
    "\n",
    "print(sum)"
   ]
  },
  {
   "cell_type": "code",
   "execution_count": 3,
   "id": "35484f19",
   "metadata": {},
   "outputs": [
    {
     "ename": "SyntaxError",
     "evalue": "cannot assign to True (1770609971.py, line 1)",
     "output_type": "error",
     "traceback": [
      "\u001b[0;36m  Cell \u001b[0;32mIn[3], line 1\u001b[0;36m\u001b[0m\n\u001b[0;31m    True = 1\u001b[0m\n\u001b[0m    ^\u001b[0m\n\u001b[0;31mSyntaxError\u001b[0m\u001b[0;31m:\u001b[0m cannot assign to True\n"
     ]
    }
   ],
   "source": [
    "True = 1 # keyword / reserved word"
   ]
  },
  {
   "cell_type": "code",
   "execution_count": 4,
   "id": "504bee2f",
   "metadata": {},
   "outputs": [],
   "source": [
    "i = 1"
   ]
  },
  {
   "cell_type": "code",
   "execution_count": 5,
   "id": "d7cf2d9c",
   "metadata": {},
   "outputs": [
    {
     "ename": "SyntaxError",
     "evalue": "invalid syntax (535306765.py, line 1)",
     "output_type": "error",
     "traceback": [
      "\u001b[0;36m  Cell \u001b[0;32mIn[5], line 1\u001b[0;36m\u001b[0m\n\u001b[0;31m    if = 1\u001b[0m\n\u001b[0m       ^\u001b[0m\n\u001b[0;31mSyntaxError\u001b[0m\u001b[0;31m:\u001b[0m invalid syntax\n"
     ]
    }
   ],
   "source": [
    "if = 1 # reserved word"
   ]
  },
  {
   "cell_type": "code",
   "execution_count": 7,
   "id": "2c66f2d8",
   "metadata": {},
   "outputs": [
    {
     "name": "stdout",
     "output_type": "stream",
     "text": [
      "1\n"
     ]
    }
   ],
   "source": [
    "x = 1 # identifier\n",
    "\n",
    "print(x)"
   ]
  },
  {
   "cell_type": "code",
   "execution_count": 8,
   "id": "77068387",
   "metadata": {},
   "outputs": [
    {
     "ename": "NameError",
     "evalue": "name 'X' is not defined",
     "output_type": "error",
     "traceback": [
      "\u001b[0;31m---------------------------------------------------------------------------\u001b[0m",
      "\u001b[0;31mNameError\u001b[0m                                 Traceback (most recent call last)",
      "Cell \u001b[0;32mIn[8], line 1\u001b[0m\n\u001b[0;32m----> 1\u001b[0m \u001b[38;5;28mprint\u001b[39m(\u001b[43mX\u001b[49m)\n",
      "\u001b[0;31mNameError\u001b[0m: name 'X' is not defined"
     ]
    }
   ],
   "source": [
    "print(X) # case sensitive"
   ]
  },
  {
   "cell_type": "code",
   "execution_count": 9,
   "id": "f341bb86",
   "metadata": {},
   "outputs": [
    {
     "name": "stdout",
     "output_type": "stream",
     "text": [
      "hello\n"
     ]
    }
   ],
   "source": [
    "HELLOworld = 'hello'\n",
    "\n",
    "print(HELLOworld)"
   ]
  },
  {
   "cell_type": "code",
   "execution_count": 11,
   "id": "db70e759",
   "metadata": {},
   "outputs": [
    {
     "ename": "SyntaxError",
     "evalue": "invalid decimal literal (1014980148.py, line 1)",
     "output_type": "error",
     "traceback": [
      "\u001b[0;36m  Cell \u001b[0;32mIn[11], line 1\u001b[0;36m\u001b[0m\n\u001b[0;31m    1x = 1\u001b[0m\n\u001b[0m    ^\u001b[0m\n\u001b[0;31mSyntaxError\u001b[0m\u001b[0;31m:\u001b[0m invalid decimal literal\n"
     ]
    }
   ],
   "source": [
    "1x = 1"
   ]
  },
  {
   "cell_type": "code",
   "execution_count": 12,
   "id": "5f0623cd",
   "metadata": {},
   "outputs": [
    {
     "ename": "SyntaxError",
     "evalue": "invalid syntax (2111693619.py, line 1)",
     "output_type": "error",
     "traceback": [
      "\u001b[0;36m  Cell \u001b[0;32mIn[12], line 1\u001b[0;36m\u001b[0m\n\u001b[0;31m    if = 'ehllo'\u001b[0m\n\u001b[0m       ^\u001b[0m\n\u001b[0;31mSyntaxError\u001b[0m\u001b[0;31m:\u001b[0m invalid syntax\n"
     ]
    }
   ],
   "source": [
    "if = 'ehllo'"
   ]
  },
  {
   "cell_type": "code",
   "execution_count": 13,
   "id": "4fb38af8",
   "metadata": {},
   "outputs": [
    {
     "ename": "SyntaxError",
     "evalue": "invalid syntax (2416266400.py, line 1)",
     "output_type": "error",
     "traceback": [
      "\u001b[0;36m  Cell \u001b[0;32mIn[13], line 1\u001b[0;36m\u001b[0m\n\u001b[0;31m    x@ = 1\u001b[0m\n\u001b[0m       ^\u001b[0m\n\u001b[0;31mSyntaxError\u001b[0m\u001b[0;31m:\u001b[0m invalid syntax\n"
     ]
    }
   ],
   "source": [
    "x@ = 1"
   ]
  },
  {
   "cell_type": "code",
   "execution_count": 14,
   "id": "5e3ef1b9",
   "metadata": {},
   "outputs": [],
   "source": [
    "x_ = 1"
   ]
  },
  {
   "cell_type": "code",
   "execution_count": 15,
   "id": "191be3b3",
   "metadata": {},
   "outputs": [
    {
     "ename": "SyntaxError",
     "evalue": "invalid syntax (2589573702.py, line 1)",
     "output_type": "error",
     "traceback": [
      "\u001b[0;36m  Cell \u001b[0;32mIn[15], line 1\u001b[0;36m\u001b[0m\n\u001b[0;31m    and = 1\u001b[0m\n\u001b[0m    ^\u001b[0m\n\u001b[0;31mSyntaxError\u001b[0m\u001b[0;31m:\u001b[0m invalid syntax\n"
     ]
    }
   ],
   "source": [
    "and = 1"
   ]
  },
  {
   "cell_type": "code",
   "execution_count": 16,
   "id": "be717755",
   "metadata": {},
   "outputs": [],
   "source": [
    "And = 1"
   ]
  },
  {
   "cell_type": "code",
   "execution_count": 17,
   "id": "573a6b40",
   "metadata": {},
   "outputs": [
    {
     "ename": "SyntaxError",
     "evalue": "cannot assign to None (2864903103.py, line 1)",
     "output_type": "error",
     "traceback": [
      "\u001b[0;36m  Cell \u001b[0;32mIn[17], line 1\u001b[0;36m\u001b[0m\n\u001b[0;31m    None =1\u001b[0m\n\u001b[0m    ^\u001b[0m\n\u001b[0;31mSyntaxError\u001b[0m\u001b[0;31m:\u001b[0m cannot assign to None\n"
     ]
    }
   ],
   "source": [
    "None =1"
   ]
  },
  {
   "cell_type": "code",
   "execution_count": 18,
   "id": "f098f635",
   "metadata": {},
   "outputs": [],
   "source": [
    "none = 1"
   ]
  },
  {
   "cell_type": "code",
   "execution_count": 19,
   "id": "b22e2afd",
   "metadata": {},
   "outputs": [],
   "source": [
    "HELLO__ = 1"
   ]
  },
  {
   "cell_type": "code",
   "execution_count": 20,
   "id": "fc72b4de",
   "metadata": {},
   "outputs": [],
   "source": [
    "__124 = 'hello'"
   ]
  },
  {
   "cell_type": "code",
   "execution_count": 21,
   "id": "f8e63d17",
   "metadata": {},
   "outputs": [
    {
     "ename": "SyntaxError",
     "evalue": "invalid syntax (1928997192.py, line 1)",
     "output_type": "error",
     "traceback": [
      "\u001b[0;36m  Cell \u001b[0;32mIn[21], line 1\u001b[0;36m\u001b[0m\n\u001b[0;31m    hello; = 1\u001b[0m\n\u001b[0m           ^\u001b[0m\n\u001b[0;31mSyntaxError\u001b[0m\u001b[0;31m:\u001b[0m invalid syntax\n"
     ]
    }
   ],
   "source": [
    "hello; = 1"
   ]
  },
  {
   "cell_type": "code",
   "execution_count": 22,
   "id": "1d5956ae",
   "metadata": {},
   "outputs": [
    {
     "ename": "SyntaxError",
     "evalue": "invalid syntax (3627194968.py, line 1)",
     "output_type": "error",
     "traceback": [
      "\u001b[0;36m  Cell \u001b[0;32mIn[22], line 1\u001b[0;36m\u001b[0m\n\u001b[0;31m    hello world = '12'\u001b[0m\n\u001b[0m          ^\u001b[0m\n\u001b[0;31mSyntaxError\u001b[0m\u001b[0;31m:\u001b[0m invalid syntax\n"
     ]
    }
   ],
   "source": [
    "hello world = '12'"
   ]
  },
  {
   "cell_type": "code",
   "execution_count": 23,
   "id": "3f9dabad",
   "metadata": {},
   "outputs": [],
   "source": [
    "fadsf_dsfdsf_dsfds1212_____dfdsf__ = 1"
   ]
  },
  {
   "cell_type": "code",
   "execution_count": 24,
   "id": "4aeba242",
   "metadata": {},
   "outputs": [
    {
     "name": "stdout",
     "output_type": "stream",
     "text": [
      "96\n"
     ]
    }
   ],
   "source": [
    "X = 1 + 2 + 3 + 4+ 5 +  2 + 3 + 4 + 2 + 3 + 4 + 2 + 3 + 4 + 2 + 3 + 4 + 2 + 3 + 4 + 2 + 3 + 4 + 2 + 3 + 4 + 2 + 3 + 4 + 2 + 3 + 4\n",
    "print(X)"
   ]
  },
  {
   "cell_type": "code",
   "execution_count": 25,
   "id": "d03fb314",
   "metadata": {},
   "outputs": [
    {
     "name": "stdout",
     "output_type": "stream",
     "text": [
      "96\n"
     ]
    }
   ],
   "source": [
    "X = 1 + 2 + 3 + 4+ 5 +  2 + 3 + 4 + 2 + 3 + 4 + 2 + \\\n",
    "3 + 4 + 2 + 3 + 4 + 2 + 3 + 4 + 2 + 3 + 4 + 2 + 3 + 4 + \\\n",
    "2 + 3 + 4 + 2 + 3 + 4\n",
    "print(X)"
   ]
  },
  {
   "cell_type": "code",
   "execution_count": 26,
   "id": "66a37528",
   "metadata": {},
   "outputs": [
    {
     "ename": "SyntaxError",
     "evalue": "invalid syntax (3092234278.py, line 1)",
     "output_type": "error",
     "traceback": [
      "\u001b[0;36m  Cell \u001b[0;32mIn[26], line 1\u001b[0;36m\u001b[0m\n\u001b[0;31m    X = 1 + 2 + 3 + 4+ 5 +  2 + 3 + 4 + 2 + 3 + 4 + 2 +\u001b[0m\n\u001b[0m                                                        ^\u001b[0m\n\u001b[0;31mSyntaxError\u001b[0m\u001b[0;31m:\u001b[0m invalid syntax\n"
     ]
    }
   ],
   "source": [
    "X = 1 + 2 + 3 + 4+ 5 +  2 + 3 + 4 + 2 + 3 + 4 + 2 + \n",
    "3 + 4 + 2 + 3 + 4 + 2 + 3 + 4 + 2 + 3 + 4 + 2 + 3 + 4 + \n",
    "2 + 3 + 4 + 2 + 3 + 4\n",
    "print(X)"
   ]
  },
  {
   "cell_type": "code",
   "execution_count": 28,
   "id": "6eb06785",
   "metadata": {},
   "outputs": [
    {
     "name": "stdout",
     "output_type": "stream",
     "text": [
      "96\n"
     ]
    }
   ],
   "source": [
    "X = (\n",
    "    \n",
    "    \n",
    "    1 + 2 + 3 + 4+ 5 +  2 + 3 + 4 + 2 + 3 + 4 + 2  \n",
    "   +3 + 4 + 2 + 3 + 4 + 2 + 3 + 4 + 2 + 3 + 4 + 2 + \n",
    "    3 + 4 + 2 + 3 + 4 + 2 + 3 + 4 \n",
    "    \n",
    "    \n",
    ")\n",
    "print(X)"
   ]
  },
  {
   "cell_type": "code",
   "execution_count": 31,
   "id": "6c5d9884",
   "metadata": {},
   "outputs": [
    {
     "name": "stdout",
     "output_type": "stream",
     "text": [
      "Unauthorized.\n"
     ]
    }
   ],
   "source": [
    "age = 17\n",
    "\n",
    "if age < 18: # must have colon\n",
    "    print(\"Unauthorized.\")"
   ]
  },
  {
   "cell_type": "code",
   "execution_count": 32,
   "id": "4fc67cae",
   "metadata": {},
   "outputs": [
    {
     "ename": "IndentationError",
     "evalue": "expected an indented block after 'if' statement on line 3 (1980901650.py, line 4)",
     "output_type": "error",
     "traceback": [
      "\u001b[0;36m  Cell \u001b[0;32mIn[32], line 4\u001b[0;36m\u001b[0m\n\u001b[0;31m    print(\"Unauthorized.\")\u001b[0m\n\u001b[0m    ^\u001b[0m\n\u001b[0;31mIndentationError\u001b[0m\u001b[0;31m:\u001b[0m expected an indented block after 'if' statement on line 3\n"
     ]
    }
   ],
   "source": [
    "age = 17\n",
    "\n",
    "if age < 18:\n",
    "print(\"Unauthorized.\") # must have indentation (tab => 4 spaces)"
   ]
  },
  {
   "cell_type": "code",
   "execution_count": 33,
   "id": "6a95bd6d",
   "metadata": {},
   "outputs": [],
   "source": [
    "# comment is for developer\n",
    "# python does not compile comments"
   ]
  },
  {
   "cell_type": "code",
   "execution_count": 34,
   "id": "c5c9c58b",
   "metadata": {},
   "outputs": [],
   "source": [
    "# defining function\n",
    "def hello():\n",
    "    # this will print hello \n",
    "    print(\"hello\")"
   ]
  },
  {
   "cell_type": "code",
   "execution_count": 35,
   "id": "258043de",
   "metadata": {},
   "outputs": [
    {
     "name": "stdout",
     "output_type": "stream",
     "text": [
      "hello\n"
     ]
    }
   ],
   "source": [
    "# function call\n",
    "hello()"
   ]
  },
  {
   "cell_type": "code",
   "execution_count": 38,
   "id": "58920ad9",
   "metadata": {},
   "outputs": [
    {
     "name": "stdout",
     "output_type": "stream",
     "text": [
      "Help on function hello in module __main__:\n",
      "\n",
      "hello()\n",
      "\n"
     ]
    }
   ],
   "source": [
    "help(hello)"
   ]
  },
  {
   "cell_type": "code",
   "execution_count": 39,
   "id": "d4e79455",
   "metadata": {},
   "outputs": [],
   "source": [
    "# defining function\n",
    "def hello():\n",
    "    # documentation string / docstring\n",
    "    \"\"\"this will print hello\"\"\"\n",
    "    print(\"hello\")"
   ]
  },
  {
   "cell_type": "code",
   "execution_count": 40,
   "id": "1ba66ee5",
   "metadata": {},
   "outputs": [
    {
     "name": "stdout",
     "output_type": "stream",
     "text": [
      "hello\n"
     ]
    }
   ],
   "source": [
    "hello()"
   ]
  },
  {
   "cell_type": "code",
   "execution_count": 41,
   "id": "438e8045",
   "metadata": {},
   "outputs": [
    {
     "name": "stdout",
     "output_type": "stream",
     "text": [
      "Help on function hello in module __main__:\n",
      "\n",
      "hello()\n",
      "    this will print hello\n",
      "\n"
     ]
    }
   ],
   "source": [
    "help(hello)"
   ]
  },
  {
   "cell_type": "code",
   "execution_count": 42,
   "id": "3780a4dd",
   "metadata": {},
   "outputs": [],
   "source": [
    "country = \"Nepal\" # string\n",
    "number = 1 # integer\n",
    "f_number = 1.5 # float\n",
    "c_number = 1 + 6j # complex "
   ]
  },
  {
   "cell_type": "code",
   "execution_count": 44,
   "id": "bdf0029b",
   "metadata": {},
   "outputs": [
    {
     "name": "stdout",
     "output_type": "stream",
     "text": [
      "1 2 3\n"
     ]
    }
   ],
   "source": [
    "x = 1\n",
    "y = 2\n",
    "z = 3\n",
    "\n",
    "print(x,y,z)"
   ]
  },
  {
   "cell_type": "code",
   "execution_count": 45,
   "id": "aca96b96",
   "metadata": {},
   "outputs": [
    {
     "name": "stdout",
     "output_type": "stream",
     "text": [
      "1 2 3\n"
     ]
    }
   ],
   "source": [
    "x, y, z = 1, 2, 3\n",
    "print(x,y,z)"
   ]
  },
  {
   "cell_type": "code",
   "execution_count": 49,
   "id": "f954aa61",
   "metadata": {},
   "outputs": [
    {
     "name": "stdout",
     "output_type": "stream",
     "text": [
      "1 1 1\n"
     ]
    }
   ],
   "source": [
    "x = 1\n",
    "y = 1\n",
    "z = 1\n",
    "print(x,y,z)"
   ]
  },
  {
   "cell_type": "code",
   "execution_count": 50,
   "id": "71ad2ea9",
   "metadata": {},
   "outputs": [
    {
     "name": "stdout",
     "output_type": "stream",
     "text": [
      "1 1 1\n"
     ]
    }
   ],
   "source": [
    "x = y = z = 1\n",
    "print(x,y,z)"
   ]
  },
  {
   "cell_type": "code",
   "execution_count": 53,
   "id": "f873718e",
   "metadata": {},
   "outputs": [
    {
     "name": "stdout",
     "output_type": "stream",
     "text": [
      "9.8\n"
     ]
    }
   ],
   "source": [
    "GRAVITY = 9.8 # constant => means value should be changed\n",
    "print(GRAVITY)"
   ]
  },
  {
   "cell_type": "code",
   "execution_count": 54,
   "id": "838220c8",
   "metadata": {},
   "outputs": [
    {
     "name": "stdout",
     "output_type": "stream",
     "text": [
      "9\n"
     ]
    }
   ],
   "source": [
    "GRAVITY = 9 # incase of python constant can be changed\n",
    "print(GRAVITY) # dynamically typed"
   ]
  },
  {
   "cell_type": "code",
   "execution_count": 55,
   "id": "b603dbd3",
   "metadata": {},
   "outputs": [],
   "source": [
    "# float GRAVITY = 9.8"
   ]
  },
  {
   "cell_type": "code",
   "execution_count": 56,
   "id": "2b9fb567",
   "metadata": {},
   "outputs": [],
   "source": [
    "# float x = 1.5 => statically typed"
   ]
  },
  {
   "cell_type": "code",
   "execution_count": 58,
   "id": "fb1e88dc",
   "metadata": {},
   "outputs": [],
   "source": [
    "DSJKFHDKS_DSKFHDSKFH_ = 9.8"
   ]
  },
  {
   "cell_type": "code",
   "execution_count": 59,
   "id": "fbe4d077",
   "metadata": {},
   "outputs": [],
   "source": [
    "GRAVITY = 9.8"
   ]
  },
  {
   "cell_type": "code",
   "execution_count": 60,
   "id": "980de1e3",
   "metadata": {},
   "outputs": [],
   "source": [
    "GRAVITY_OF_EARTH = 9.8"
   ]
  },
  {
   "cell_type": "code",
   "execution_count": 62,
   "id": "60fdd8e9",
   "metadata": {},
   "outputs": [
    {
     "name": "stdout",
     "output_type": "stream",
     "text": [
      "10 100 200 4813\n"
     ]
    }
   ],
   "source": [
    "a = 0b1010 # Binary Literals => 2 digits 0,1 \n",
    "b = 100 # Decimal Literal => 10 digits 0-9\n",
    "c = 0o310 # Octal Literal => 8 digit 0-7\n",
    "d = 0x12cd # Hexadecimal Literal => 16 digit 0-9 a-f\n",
    "\n",
    "print(a,b,c,d)"
   ]
  },
  {
   "cell_type": "code",
   "execution_count": 66,
   "id": "bc112adc",
   "metadata": {},
   "outputs": [
    {
     "name": "stdout",
     "output_type": "stream",
     "text": [
      "150.0\n",
      "<class 'float'>\n"
     ]
    }
   ],
   "source": [
    "# Float Literal\n",
    "float_2 = 1.5e2 # 1.5 * 10 ^ 2\n",
    "print(float_2)\n",
    "\n",
    "print(type(float_2))"
   ]
  },
  {
   "cell_type": "code",
   "execution_count": 67,
   "id": "cc5b2167",
   "metadata": {},
   "outputs": [
    {
     "name": "stdout",
     "output_type": "stream",
     "text": [
      "4j\n",
      "<class 'complex'>\n"
     ]
    }
   ],
   "source": [
    "c = 4j\n",
    "\n",
    "print(c)\n",
    "print(type(c))"
   ]
  },
  {
   "cell_type": "code",
   "execution_count": 68,
   "id": "f53f1c6a",
   "metadata": {},
   "outputs": [
    {
     "name": "stdout",
     "output_type": "stream",
     "text": [
      "nepal <class 'str'>\n"
     ]
    }
   ],
   "source": [
    "country = 'nepal'\n",
    "\n",
    "print(country, type(country))"
   ]
  },
  {
   "cell_type": "code",
   "execution_count": 69,
   "id": "969bd0bd",
   "metadata": {},
   "outputs": [
    {
     "name": "stdout",
     "output_type": "stream",
     "text": [
      "nepal <class 'str'>\n"
     ]
    }
   ],
   "source": [
    "country = \"nepal\"\n",
    "\n",
    "print(country, type(country))"
   ]
  },
  {
   "cell_type": "code",
   "execution_count": 70,
   "id": "cf9cbd59",
   "metadata": {},
   "outputs": [
    {
     "name": "stdout",
     "output_type": "stream",
     "text": [
      "nepal <class 'str'>\n"
     ]
    }
   ],
   "source": [
    "country = \"\"\"nepal\"\"\"\n",
    "\n",
    "print(country, type(country))"
   ]
  },
  {
   "cell_type": "code",
   "execution_count": 71,
   "id": "4f4124f8",
   "metadata": {},
   "outputs": [
    {
     "name": "stdout",
     "output_type": "stream",
     "text": [
      "nepal is beautiful country. I am from nepal. <class 'str'>\n"
     ]
    }
   ],
   "source": [
    "country = 'nepal is beautiful country. I am from nepal.'\n",
    "\n",
    "print(country, type(country))"
   ]
  },
  {
   "cell_type": "code",
   "execution_count": 72,
   "id": "c4d47f6c",
   "metadata": {},
   "outputs": [
    {
     "ename": "SyntaxError",
     "evalue": "unterminated string literal (detected at line 1) (2709257709.py, line 1)",
     "output_type": "error",
     "traceback": [
      "\u001b[0;36m  Cell \u001b[0;32mIn[72], line 1\u001b[0;36m\u001b[0m\n\u001b[0;31m    country = 'nepal is beautiful country.\u001b[0m\n\u001b[0m              ^\u001b[0m\n\u001b[0;31mSyntaxError\u001b[0m\u001b[0;31m:\u001b[0m unterminated string literal (detected at line 1)\n"
     ]
    }
   ],
   "source": [
    "country = 'nepal is beautiful country. \n",
    "I am from nepal.'\n",
    "\n",
    "print(country, type(country))"
   ]
  },
  {
   "cell_type": "code",
   "execution_count": 73,
   "id": "7b89aae6",
   "metadata": {},
   "outputs": [
    {
     "name": "stdout",
     "output_type": "stream",
     "text": [
      "nepal is beautiful country.\n",
      "I am from nepal. <class 'str'>\n"
     ]
    }
   ],
   "source": [
    "country = 'nepal is beautiful country.\\nI am from nepal.'\n",
    "# \\n line breaks => enter\n",
    "print(country, type(country))"
   ]
  },
  {
   "cell_type": "code",
   "execution_count": 74,
   "id": "7b644567",
   "metadata": {},
   "outputs": [
    {
     "name": "stdout",
     "output_type": "stream",
     "text": [
      "nepal is beautiful country.\tI am from nepal. <class 'str'>\n"
     ]
    }
   ],
   "source": [
    "country = 'nepal is beautiful country.\\tI am from nepal.'\n",
    "# \\t tab \n",
    "print(country, type(country))"
   ]
  },
  {
   "cell_type": "code",
   "execution_count": 75,
   "id": "f6bf0405",
   "metadata": {},
   "outputs": [
    {
     "name": "stdout",
     "output_type": "stream",
     "text": [
      "nepal is beautiful country.\\nI am from nepal. <class 'str'>\n"
     ]
    }
   ],
   "source": [
    "country = r'nepal is beautiful country.\\nI am from nepal.'\n",
    "# \\n line breaks => enter\n",
    "print(country, type(country))"
   ]
  },
  {
   "cell_type": "code",
   "execution_count": 77,
   "id": "7229f4e4",
   "metadata": {},
   "outputs": [
    {
     "name": "stdout",
     "output_type": "stream",
     "text": [
      "nepal is beautiful country.\r",
      "I am from nepal. <class 'str'>\n"
     ]
    }
   ],
   "source": [
    "country = 'nepal is beautiful country.\\rI am from nepal.'\n",
    "# \\n line breaks => enter\n",
    "print(country, type(country))"
   ]
  },
  {
   "cell_type": "code",
   "execution_count": 78,
   "id": "bcef02dc",
   "metadata": {},
   "outputs": [
    {
     "name": "stdout",
     "output_type": "stream",
     "text": [
      "रमेश प्रधान\n"
     ]
    }
   ],
   "source": [
    "print('रमेश प्रधान') # python support unicode"
   ]
  },
  {
   "cell_type": "code",
   "execution_count": 80,
   "id": "228b0812",
   "metadata": {},
   "outputs": [
    {
     "name": "stdout",
     "output_type": "stream",
     "text": [
      "Ünicöde\n"
     ]
    }
   ],
   "source": [
    "unicode = u\"\\u00dcnic\\u00f6de\"\n",
    "print(unicode)"
   ]
  },
  {
   "cell_type": "code",
   "execution_count": 81,
   "id": "72350cb2",
   "metadata": {},
   "outputs": [
    {
     "name": "stdout",
     "output_type": "stream",
     "text": [
      "Ü\n"
     ]
    }
   ],
   "source": [
    "print(u\"\\u00dc\")"
   ]
  },
  {
   "cell_type": "code",
   "execution_count": 82,
   "id": "a8ae43a2",
   "metadata": {},
   "outputs": [
    {
     "name": "stdout",
     "output_type": "stream",
     "text": [
      "<class 'bool'>\n"
     ]
    }
   ],
   "source": [
    "x = True\n",
    "y = False\n",
    "\n",
    "print(type(x))"
   ]
  },
  {
   "cell_type": "code",
   "execution_count": 83,
   "id": "d9a0bd8b",
   "metadata": {},
   "outputs": [
    {
     "name": "stdout",
     "output_type": "stream",
     "text": [
      "hello\n"
     ]
    }
   ],
   "source": [
    "true = 'hello'\n",
    "\n",
    "x = true\n",
    "\n",
    "print(x)"
   ]
  },
  {
   "cell_type": "code",
   "execution_count": 85,
   "id": "baa16ba8",
   "metadata": {},
   "outputs": [
    {
     "name": "stdout",
     "output_type": "stream",
     "text": [
      "None <class 'NoneType'>\n"
     ]
    }
   ],
   "source": [
    "x = None\n",
    "\n",
    "print(x, type(x))"
   ]
  },
  {
   "cell_type": "code",
   "execution_count": 86,
   "id": "1d63d253",
   "metadata": {},
   "outputs": [
    {
     "name": "stdout",
     "output_type": "stream",
     "text": [
      "['apple', 'mango', 'orange'] <class 'list'>\n"
     ]
    }
   ],
   "source": [
    "fruits = [\"apple\", \"mango\", \"orange\"] # list\n",
    "print(fruits, type(fruits))"
   ]
  },
  {
   "cell_type": "code",
   "execution_count": 87,
   "id": "93ebfe20",
   "metadata": {},
   "outputs": [
    {
     "name": "stdout",
     "output_type": "stream",
     "text": [
      "('apple', 'mango', 'orange') <class 'tuple'>\n"
     ]
    }
   ],
   "source": [
    "fruits = (\"apple\", \"mango\", \"orange\") # tuple\n",
    "print(fruits, type(fruits))"
   ]
  },
  {
   "cell_type": "code",
   "execution_count": 88,
   "id": "4d4a35ba",
   "metadata": {},
   "outputs": [
    {
     "name": "stdout",
     "output_type": "stream",
     "text": [
      "{'orange', 'apple', 'mango'} <class 'set'>\n"
     ]
    }
   ],
   "source": [
    "fruits = {\"apple\", \"mango\", \"orange\"} # set\n",
    "print(fruits, type(fruits))"
   ]
  },
  {
   "cell_type": "code",
   "execution_count": 89,
   "id": "cd9968d0",
   "metadata": {},
   "outputs": [
    {
     "name": "stdout",
     "output_type": "stream",
     "text": [
      "{'name': 'ram', 'age': 22, 'address': 'ktm'} <class 'dict'>\n"
     ]
    }
   ],
   "source": [
    "# dictionary\n",
    "person = {\"name\":\"ram\", \"age\":22, \"address\":'ktm'}\n",
    "print(person, type(person))"
   ]
  },
  {
   "cell_type": "code",
   "execution_count": null,
   "id": "c09b03ca",
   "metadata": {},
   "outputs": [],
   "source": []
  }
 ],
 "metadata": {
  "kernelspec": {
   "display_name": "Python 3 (ipykernel)",
   "language": "python",
   "name": "python3"
  },
  "language_info": {
   "codemirror_mode": {
    "name": "ipython",
    "version": 3
   },
   "file_extension": ".py",
   "mimetype": "text/x-python",
   "name": "python",
   "nbconvert_exporter": "python",
   "pygments_lexer": "ipython3",
   "version": "3.11.1"
  }
 },
 "nbformat": 4,
 "nbformat_minor": 5
}
