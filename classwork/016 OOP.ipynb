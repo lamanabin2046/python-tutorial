{
 "cells": [
  {
   "cell_type": "code",
   "execution_count": 1,
   "id": "73aaf6e0",
   "metadata": {},
   "outputs": [],
   "source": [
    "def today_date():\n",
    "    pass\n",
    "\n",
    "def today_time():\n",
    "    pass\n",
    "\n",
    "def today_year():\n",
    "    pass\n",
    "\n",
    "def today_week():\n",
    "    pass\n",
    "\n",
    "def today_utc_time():\n",
    "    pass\n",
    "\n",
    "def current_month():\n",
    "    pass\n"
   ]
  },
  {
   "cell_type": "code",
   "execution_count": 2,
   "id": "43c92140",
   "metadata": {},
   "outputs": [],
   "source": [
    "class DateTime: # PascalCase\n",
    "    def today_date(): # lowercase => snake_case\n",
    "        pass\n",
    "\n",
    "    def today_time():\n",
    "        pass\n",
    "\n",
    "    def today_year():\n",
    "        pass\n",
    "\n",
    "    def today_week():\n",
    "        pass\n",
    "\n",
    "    def today_utc_time():\n",
    "        pass\n",
    "\n",
    "    def current_month():\n",
    "        pass\n"
   ]
  },
  {
   "cell_type": "code",
   "execution_count": 3,
   "id": "fa34720b",
   "metadata": {},
   "outputs": [],
   "source": [
    "# class => Person => blueprint\n",
    "# object => ram"
   ]
  },
  {
   "cell_type": "code",
   "execution_count": 5,
   "id": "6d184010",
   "metadata": {},
   "outputs": [],
   "source": [
    "class Person:\n",
    "    # outside of class (variable) => inside class (attribute, property)\n",
    "    name = 'ram'\n",
    "    age = 22\n",
    "    address = 'ktm'\n",
    "    \n",
    "    # outside => function | inside => method, behaviour, action\n",
    "    def eat():\n",
    "        pass\n",
    "    \n",
    "    def walk():\n",
    "        pass\n",
    "    \n",
    "    def sleep():\n",
    "        pass"
   ]
  },
  {
   "cell_type": "code",
   "execution_count": 6,
   "id": "aa1e6db0",
   "metadata": {},
   "outputs": [],
   "source": [
    "p1 = Person() # instance of class => object"
   ]
  },
  {
   "cell_type": "code",
   "execution_count": 7,
   "id": "98157692",
   "metadata": {},
   "outputs": [],
   "source": [
    "p2 = Person()"
   ]
  },
  {
   "cell_type": "code",
   "execution_count": 8,
   "id": "399d167a",
   "metadata": {},
   "outputs": [],
   "source": [
    "class House:\n",
    "    no_of_rooms = 10\n",
    "    no_of_floors = 3\n",
    "    no_of_windows = 12\n",
    "    \n",
    "    def total_area():\n",
    "        pass\n",
    "    \n",
    "    def total_cost():\n",
    "        pass"
   ]
  },
  {
   "cell_type": "code",
   "execution_count": 9,
   "id": "771b08c9",
   "metadata": {},
   "outputs": [],
   "source": [
    "h1 = House()"
   ]
  },
  {
   "cell_type": "code",
   "execution_count": 10,
   "id": "3f57f753",
   "metadata": {},
   "outputs": [],
   "source": [
    "h2 = House()"
   ]
  },
  {
   "cell_type": "code",
   "execution_count": 11,
   "id": "0cd0a515",
   "metadata": {},
   "outputs": [],
   "source": [
    "class Person:\n",
    "    # outside of class (variable) => inside class (attribute, property)\n",
    "    name = 'ram'\n",
    "    age = 22\n",
    "    address = 'ktm'\n",
    "    \n",
    "    # outside => function | inside => method, behaviour, action\n",
    "    def eat():\n",
    "        pass\n",
    "    \n",
    "    def walk():\n",
    "        pass\n",
    "    \n",
    "    def sleep():\n",
    "        pass"
   ]
  },
  {
   "cell_type": "code",
   "execution_count": 12,
   "id": "06abaa92",
   "metadata": {},
   "outputs": [],
   "source": [
    "p1 = Person()"
   ]
  },
  {
   "cell_type": "code",
   "execution_count": 13,
   "id": "d7b231ba",
   "metadata": {},
   "outputs": [
    {
     "data": {
      "text/plain": [
       "'ram'"
      ]
     },
     "execution_count": 13,
     "metadata": {},
     "output_type": "execute_result"
    }
   ],
   "source": [
    "p1.name"
   ]
  },
  {
   "cell_type": "code",
   "execution_count": 14,
   "id": "43a479e8",
   "metadata": {},
   "outputs": [
    {
     "data": {
      "text/plain": [
       "22"
      ]
     },
     "execution_count": 14,
     "metadata": {},
     "output_type": "execute_result"
    }
   ],
   "source": [
    "p1.age"
   ]
  },
  {
   "cell_type": "code",
   "execution_count": 15,
   "id": "bcbe759e",
   "metadata": {},
   "outputs": [
    {
     "data": {
      "text/plain": [
       "'ktm'"
      ]
     },
     "execution_count": 15,
     "metadata": {},
     "output_type": "execute_result"
    }
   ],
   "source": [
    "p1.address"
   ]
  },
  {
   "cell_type": "code",
   "execution_count": 16,
   "id": "f0c87136",
   "metadata": {},
   "outputs": [],
   "source": [
    "p2 = Person()"
   ]
  },
  {
   "cell_type": "code",
   "execution_count": 17,
   "id": "42717213",
   "metadata": {},
   "outputs": [
    {
     "data": {
      "text/plain": [
       "'ram'"
      ]
     },
     "execution_count": 17,
     "metadata": {},
     "output_type": "execute_result"
    }
   ],
   "source": [
    "p2.name"
   ]
  },
  {
   "cell_type": "code",
   "execution_count": 18,
   "id": "fee0f394",
   "metadata": {},
   "outputs": [
    {
     "data": {
      "text/plain": [
       "22"
      ]
     },
     "execution_count": 18,
     "metadata": {},
     "output_type": "execute_result"
    }
   ],
   "source": [
    "p2.age"
   ]
  },
  {
   "cell_type": "code",
   "execution_count": 19,
   "id": "7542ebc4",
   "metadata": {},
   "outputs": [
    {
     "data": {
      "text/plain": [
       "'ktm'"
      ]
     },
     "execution_count": 19,
     "metadata": {},
     "output_type": "execute_result"
    }
   ],
   "source": [
    "p2.address"
   ]
  },
  {
   "cell_type": "code",
   "execution_count": null,
   "id": "9f971655",
   "metadata": {},
   "outputs": [],
   "source": []
  }
 ],
 "metadata": {
  "kernelspec": {
   "display_name": "Python 3 (ipykernel)",
   "language": "python",
   "name": "python3"
  },
  "language_info": {
   "codemirror_mode": {
    "name": "ipython",
    "version": 3
   },
   "file_extension": ".py",
   "mimetype": "text/x-python",
   "name": "python",
   "nbconvert_exporter": "python",
   "pygments_lexer": "ipython3",
   "version": "3.11.2"
  }
 },
 "nbformat": 4,
 "nbformat_minor": 5
}
