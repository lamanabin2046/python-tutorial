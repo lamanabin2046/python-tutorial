{
 "cells": [
  {
   "cell_type": "code",
   "execution_count": 1,
   "id": "f551a073",
   "metadata": {},
   "outputs": [
    {
     "name": "stdout",
     "output_type": "stream",
     "text": [
      "78\n"
     ]
    }
   ],
   "source": [
    "numbers = [1,2,3,4,5,6,7,8,9,10,11,12] \n",
    "\n",
    "sum = 0\n",
    "for i in numbers:\n",
    "    sum += i\n",
    "    \n",
    "print(sum)"
   ]
  },
  {
   "cell_type": "code",
   "execution_count": 4,
   "id": "cf7eae51",
   "metadata": {},
   "outputs": [
    {
     "name": "stdout",
     "output_type": "stream",
     "text": [
      "78\n"
     ]
    }
   ],
   "source": [
    "numbers = [1,2,3,4,5,6,7,8,9,10,11,12] \n",
    "\n",
    "sum = 0\n",
    "\n",
    "for i in range(0, len(numbers)):\n",
    "    sum += numbers[i]\n",
    "    \n",
    "print(sum)"
   ]
  },
  {
   "cell_type": "code",
   "execution_count": 5,
   "id": "2e2d3e22",
   "metadata": {},
   "outputs": [
    {
     "name": "stdout",
     "output_type": "stream",
     "text": [
      "15\n"
     ]
    }
   ],
   "source": [
    "numbers = [1,2,3,4,5] \n",
    "\n",
    "sum = 0\n",
    "i = 0 # value initialize\n",
    "\n",
    "while i < len(numbers): # condition\n",
    "    sum += numbers[i]\n",
    "    i += 1 # incrementer / decrementer\n",
    "    \n",
    "print(sum)"
   ]
  },
  {
   "cell_type": "code",
   "execution_count": 6,
   "id": "c9fa8ebf",
   "metadata": {},
   "outputs": [
    {
     "name": "stdout",
     "output_type": "stream",
     "text": [
      "one 0\n",
      "two 1\n",
      "three 2\n",
      "four 3\n",
      "five 4\n"
     ]
    }
   ],
   "source": [
    "words = ['one', 'two', 'three', 'four', 'five']\n",
    "\n",
    "# one 0\n",
    "# two 1\n",
    "# three 2\n",
    "# four 3\n",
    "# five 4\n",
    "\n",
    "for i in range(0, len(words)):\n",
    "    print(words[i], i)"
   ]
  },
  {
   "cell_type": "code",
   "execution_count": 8,
   "id": "42210e5e",
   "metadata": {},
   "outputs": [
    {
     "name": "stdout",
     "output_type": "stream",
     "text": [
      "one 0\n",
      "two 1\n",
      "three 2\n",
      "four 3\n",
      "five 4\n"
     ]
    }
   ],
   "source": [
    "words = ['one', 'two', 'three', 'four', 'five']\n",
    "\n",
    "i =0\n",
    "while i < len(words):\n",
    "    print(words[i], i)\n",
    "    i += 1"
   ]
  },
  {
   "cell_type": "code",
   "execution_count": null,
   "id": "7306a5ce",
   "metadata": {},
   "outputs": [],
   "source": []
  },
  {
   "cell_type": "code",
   "execution_count": null,
   "id": "b1d00805",
   "metadata": {},
   "outputs": [],
   "source": [
    "while True:\n",
    "    print('hello')"
   ]
  },
  {
   "cell_type": "code",
   "execution_count": 10,
   "id": "b249d85d",
   "metadata": {},
   "outputs": [
    {
     "name": "stdout",
     "output_type": "stream",
     "text": [
      "leetde\n"
     ]
    }
   ],
   "source": [
    "def reverse_parentheses(st: str) -> str:\n",
    "    while True:\n",
    "        split1 = st.split('(')\n",
    "        split2 = split1[-1].split(')')[0]\n",
    "        st = st.replace(f'({split2})', f'{split2[::-1]}')\n",
    "        if '(' not in st and ')' not in st:\n",
    "            return st                \n",
    "\n",
    "# s = \"(abcd)\"\n",
    "# s = \"(ed(et)el)\"\n",
    "# s = \"(ed(et(oc))el)\"\n",
    "# s = \"(u(love)i)\"\n",
    "# s= \"((ng)ipm(ca))\"\n",
    "reversed = reverse_parentheses(s)\n",
    "print(reversed)"
   ]
  },
  {
   "cell_type": "code",
   "execution_count": 13,
   "id": "795f2115",
   "metadata": {},
   "outputs": [
    {
     "name": "stdout",
     "output_type": "stream",
     "text": [
      "Enter your age: 1\n",
      "Enter your age:2\n",
      "Enter your age:18\n"
     ]
    }
   ],
   "source": [
    "age = int(input(\"Enter your age: \"))\n",
    "\n",
    "while age < 18:\n",
    "    age = int(input(\"Enter your age:\"))"
   ]
  },
  {
   "cell_type": "code",
   "execution_count": 14,
   "id": "085a50f8",
   "metadata": {},
   "outputs": [],
   "source": [
    "# 4 * 1 = 4\n",
    "# 4 * 2 = 8\n",
    "# 4 * 3 = 12\n",
    "# 4 * 4 = 16\n",
    "# 4 * 5 = 20\n",
    "# 4 * 6 = 24\n",
    "# 4 * 7 = 28\n",
    "# 4 * 8 = 32\n",
    "# 4 * 9 = 36\n",
    "# 4 * 10 = 40"
   ]
  },
  {
   "cell_type": "code",
   "execution_count": 15,
   "id": "31651c24",
   "metadata": {},
   "outputs": [
    {
     "name": "stdout",
     "output_type": "stream",
     "text": [
      "2 * 1 = 2\n",
      "2 * 2 = 4\n",
      "2 * 3 = 6\n",
      "2 * 4 = 8\n",
      "2 * 5 = 10\n",
      "2 * 6 = 12\n",
      "2 * 7 = 14\n",
      "2 * 8 = 16\n",
      "2 * 9 = 18\n",
      "2 * 10 = 20\n"
     ]
    }
   ],
   "source": [
    "number = 2\n",
    "for i in range(1, 11):\n",
    "    print(f\"{number} * {i} = {number * i}\")"
   ]
  },
  {
   "cell_type": "code",
   "execution_count": 17,
   "id": "2816e513",
   "metadata": {},
   "outputs": [
    {
     "name": "stdout",
     "output_type": "stream",
     "text": [
      "2 * 1 = 2\n",
      "2 * 2 = 4\n",
      "2 * 3 = 6\n",
      "2 * 4 = 8\n",
      "2 * 5 = 10\n",
      "2 * 6 = 12\n",
      "2 * 7 = 14\n",
      "2 * 8 = 16\n",
      "2 * 9 = 18\n",
      "2 * 10 = 20\n"
     ]
    }
   ],
   "source": [
    "number = 2\n",
    "\n",
    "i = 1\n",
    "while i <= 10:\n",
    "    print(f\"{number} * {i} = {number * i}\")\n",
    "    i += 1"
   ]
  },
  {
   "cell_type": "code",
   "execution_count": 18,
   "id": "a37f06ce",
   "metadata": {},
   "outputs": [
    {
     "name": "stdout",
     "output_type": "stream",
     "text": [
      "10\n",
      "9\n",
      "8\n",
      "7\n",
      "6\n",
      "5\n",
      "4\n",
      "3\n",
      "2\n",
      "1\n"
     ]
    }
   ],
   "source": [
    "i = 10\n",
    "while i >= 1:\n",
    "    print(i)\n",
    "    i -= 1"
   ]
  },
  {
   "cell_type": "code",
   "execution_count": 19,
   "id": "b5fb7504",
   "metadata": {},
   "outputs": [
    {
     "name": "stdout",
     "output_type": "stream",
     "text": [
      "9\n"
     ]
    }
   ],
   "source": [
    "x = 4\n",
    "y = 5\n",
    "\n",
    "sum = x + y\n",
    "\n",
    "print(sum)"
   ]
  },
  {
   "cell_type": "code",
   "execution_count": 20,
   "id": "fbe61eb6",
   "metadata": {},
   "outputs": [],
   "source": [
    "# function definition\n",
    "def addition():\n",
    "    x = 4\n",
    "    y = 5\n",
    "\n",
    "    sum = x + y\n",
    "\n",
    "    print(sum)"
   ]
  },
  {
   "cell_type": "code",
   "execution_count": 21,
   "id": "bf1c0dbd",
   "metadata": {},
   "outputs": [
    {
     "name": "stdout",
     "output_type": "stream",
     "text": [
      "9\n"
     ]
    }
   ],
   "source": [
    "# function call / run / execute\n",
    "addition()"
   ]
  },
  {
   "cell_type": "code",
   "execution_count": 22,
   "id": "94b27ea6",
   "metadata": {},
   "outputs": [
    {
     "name": "stdout",
     "output_type": "stream",
     "text": [
      "9\n"
     ]
    }
   ],
   "source": [
    "addition()"
   ]
  },
  {
   "cell_type": "code",
   "execution_count": 31,
   "id": "2027289b",
   "metadata": {},
   "outputs": [],
   "source": [
    "# function definition\n",
    "def addition(x, y):\n",
    "\n",
    "    sum = x + y\n",
    "\n",
    "    print(sum)"
   ]
  },
  {
   "cell_type": "code",
   "execution_count": 32,
   "id": "2afa8cee",
   "metadata": {},
   "outputs": [
    {
     "name": "stdout",
     "output_type": "stream",
     "text": [
      "12\n"
     ]
    }
   ],
   "source": [
    "addition(x=5, y=7)"
   ]
  },
  {
   "cell_type": "code",
   "execution_count": 33,
   "id": "6be89b1a",
   "metadata": {},
   "outputs": [
    {
     "name": "stdout",
     "output_type": "stream",
     "text": [
      "5966666\n"
     ]
    }
   ],
   "source": [
    "addition(x=5234234, y=732432)"
   ]
  },
  {
   "cell_type": "code",
   "execution_count": 34,
   "id": "7138a0eb",
   "metadata": {},
   "outputs": [
    {
     "name": "stdout",
     "output_type": "stream",
     "text": [
      "15\n"
     ]
    }
   ],
   "source": [
    "addition(7, 8)"
   ]
  },
  {
   "cell_type": "code",
   "execution_count": 35,
   "id": "4d659310",
   "metadata": {},
   "outputs": [],
   "source": [
    "# function definition\n",
    "def addition(x, y):\n",
    "\n",
    "    sum = x + y\n",
    "\n",
    "    return sum # function returns the value"
   ]
  },
  {
   "cell_type": "code",
   "execution_count": 36,
   "id": "3d825cbf",
   "metadata": {},
   "outputs": [
    {
     "name": "stdout",
     "output_type": "stream",
     "text": [
      "15\n"
     ]
    }
   ],
   "source": [
    "a = addition(7, 8)\n",
    "print(a)"
   ]
  },
  {
   "cell_type": "code",
   "execution_count": 37,
   "id": "47b88216",
   "metadata": {},
   "outputs": [],
   "source": [
    "# function definition\n",
    "def addition(x, y):\n",
    "\n",
    "    sum = x + y # function with no return value\n"
   ]
  },
  {
   "cell_type": "code",
   "execution_count": 38,
   "id": "227b531f",
   "metadata": {},
   "outputs": [
    {
     "name": "stdout",
     "output_type": "stream",
     "text": [
      "None\n"
     ]
    }
   ],
   "source": [
    "a = addition(7, 8)\n",
    "print(a)"
   ]
  },
  {
   "cell_type": "code",
   "execution_count": 39,
   "id": "ccf7a472",
   "metadata": {},
   "outputs": [],
   "source": [
    "# function definition\n",
    "def addition(x, y):\n",
    "\n",
    "    sum = x + y \n",
    "    return None # function with None return"
   ]
  },
  {
   "cell_type": "code",
   "execution_count": 40,
   "id": "509cb951",
   "metadata": {},
   "outputs": [
    {
     "name": "stdout",
     "output_type": "stream",
     "text": [
      "None\n"
     ]
    }
   ],
   "source": [
    "a = addition(7, 8)\n",
    "print(a)"
   ]
  },
  {
   "cell_type": "code",
   "execution_count": 42,
   "id": "43ce5e73",
   "metadata": {},
   "outputs": [],
   "source": [
    "# function definition\n",
    "def addition(x, y):\n",
    "\n",
    "    sum = x + y \n",
    "    return sum \n",
    "    # return means getting out of the function => exiting => terminate\n",
    "    print(x)\n",
    "    print(y)"
   ]
  },
  {
   "cell_type": "code",
   "execution_count": 43,
   "id": "f950fca5",
   "metadata": {},
   "outputs": [
    {
     "name": "stdout",
     "output_type": "stream",
     "text": [
      "15\n"
     ]
    }
   ],
   "source": [
    "a = addition(7, 8)\n",
    "print(a)"
   ]
  },
  {
   "cell_type": "code",
   "execution_count": 44,
   "id": "233f239b",
   "metadata": {},
   "outputs": [],
   "source": [
    "def calculator(x, y):\n",
    "    sum = x + y\n",
    "    mul = x * y\n",
    "    div = x / y\n",
    "    sub = x - y\n",
    "    return sum\n",
    "    return mul\n",
    "    return div\n",
    "    return sub"
   ]
  },
  {
   "cell_type": "code",
   "execution_count": 45,
   "id": "e1961c83",
   "metadata": {},
   "outputs": [
    {
     "name": "stdout",
     "output_type": "stream",
     "text": [
      "15\n"
     ]
    }
   ],
   "source": [
    "a = calculator(7, 8)\n",
    "print(a)"
   ]
  },
  {
   "cell_type": "code",
   "execution_count": 46,
   "id": "48e89d40",
   "metadata": {},
   "outputs": [],
   "source": [
    "def calculator(x, y):\n",
    "    sum = x + y\n",
    "    mul = x * y\n",
    "    div = x / y\n",
    "    sub = x - y\n",
    "    return sum, mul, div, sub"
   ]
  },
  {
   "cell_type": "code",
   "execution_count": 47,
   "id": "86a52d32",
   "metadata": {},
   "outputs": [
    {
     "name": "stdout",
     "output_type": "stream",
     "text": [
      "(15, 56, 0.875, -1)\n"
     ]
    }
   ],
   "source": [
    "a = calculator(7, 8)\n",
    "print(a)"
   ]
  },
  {
   "cell_type": "code",
   "execution_count": 49,
   "id": "453ac851",
   "metadata": {},
   "outputs": [],
   "source": [
    "def addition(x, y=1): # x is argument and y is default argument\n",
    "    sum = x + y\n",
    "\n",
    "    return sum"
   ]
  },
  {
   "cell_type": "code",
   "execution_count": 50,
   "id": "51fafe0b",
   "metadata": {},
   "outputs": [
    {
     "name": "stdout",
     "output_type": "stream",
     "text": [
      "8\n"
     ]
    }
   ],
   "source": [
    "a = addition(7)\n",
    "print(a)"
   ]
  },
  {
   "cell_type": "code",
   "execution_count": null,
   "id": "b9a1042c",
   "metadata": {},
   "outputs": [],
   "source": [
    "a = addition(7, 8)\n",
    "print(a)"
   ]
  }
 ],
 "metadata": {
  "kernelspec": {
   "display_name": "Python 3 (ipykernel)",
   "language": "python",
   "name": "python3"
  },
  "language_info": {
   "codemirror_mode": {
    "name": "ipython",
    "version": 3
   },
   "file_extension": ".py",
   "mimetype": "text/x-python",
   "name": "python",
   "nbconvert_exporter": "python",
   "pygments_lexer": "ipython3",
   "version": "3.11.1"
  }
 },
 "nbformat": 4,
 "nbformat_minor": 5
}
