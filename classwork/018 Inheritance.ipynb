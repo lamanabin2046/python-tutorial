{
 "cells": [
  {
   "cell_type": "code",
   "execution_count": 1,
   "id": "26c50c7c",
   "metadata": {},
   "outputs": [],
   "source": [
    "class Person:\n",
    "    # special method / double underscore / dunder method\n",
    "    # intializer => constructor\n",
    "    # self is an object that passed automatically by python\n",
    "    def __init__(self, name, age, address):\n",
    "        print(name, age, address)\n",
    "        self.name = name\n",
    "        self.age = age\n",
    "        self.address = address\n",
    "        \n",
    "    # outside => function | inside => method, behaviour, action\n",
    "    def eat(self):\n",
    "        print(\"Person is eating...\")\n",
    "    \n",
    "    def walk(self):\n",
    "        print(\"Person is walking...\")\n",
    "    \n",
    "    def sleep(self):\n",
    "        print(\"Person is sleeping...\")\n",
    "        \n",
    "# name, age, address, college, faculty, roll_no\n",
    "class Student:\n",
    "    # parameters / arguments\n",
    "    def __init__(self, name, age, address, college, faculty, roll_no):\n",
    "        self.name = name\n",
    "        self.age = age\n",
    "        self.address = address\n",
    "        self.college = college\n",
    "        self.faculty = faculty\n",
    "        self.roll_no = roll_no\n",
    "        self.subjects = []\n",
    "        \n",
    "    def learn(self):\n",
    "        print(f\"Student is learning {self.subjects}\")\n",
    "        \n",
    "    def add_subject(self, subject_name):\n",
    "        self.subjects.append(subject_name)"
   ]
  },
  {
   "cell_type": "code",
   "execution_count": 2,
   "id": "8fccadcd",
   "metadata": {},
   "outputs": [],
   "source": [
    "class Person:\n",
    "    # special method / double underscore / dunder method\n",
    "    # intializer => constructor\n",
    "    # self is an object that passed automatically by python\n",
    "    def __init__(self, name, age, address):\n",
    "        print(name, age, address)\n",
    "        self.name = name\n",
    "        self.age = age\n",
    "        self.address = address\n",
    "        \n",
    "    # outside => function | inside => method, behaviour, action\n",
    "    def eat(self):\n",
    "        print(\"Person is eating...\")\n",
    "    \n",
    "    def walk(self):\n",
    "        print(\"Person is walking...\")\n",
    "    \n",
    "    def sleep(self):\n",
    "        print(\"Person is sleeping...\")\n",
    "        \n",
    "# name, age, address, college, faculty, roll_no\n",
    "class Student(Person):\n",
    "    pass"
   ]
  },
  {
   "cell_type": "code",
   "execution_count": 3,
   "id": "cf1e1aaa",
   "metadata": {},
   "outputs": [
    {
     "name": "stdout",
     "output_type": "stream",
     "text": [
      "ram 22 ktm\n",
      "Person is walking...\n"
     ]
    }
   ],
   "source": [
    "s1 = Student('ram', 22, 'ktm')\n",
    "s1.walk()"
   ]
  },
  {
   "cell_type": "code",
   "execution_count": 4,
   "id": "8742473d",
   "metadata": {},
   "outputs": [],
   "source": [
    "class Person:\n",
    "    # special method / double underscore / dunder method\n",
    "    # intializer => constructor\n",
    "    # self is an object that passed automatically by python\n",
    "    def __init__(self, name, age, address):\n",
    "        print(name, age, address)\n",
    "        self.name = name\n",
    "        self.age = age\n",
    "        self.address = address\n",
    "        \n",
    "    # outside => function | inside => method, behaviour, action\n",
    "    def eat(self):\n",
    "        print(\"Person is eating...\")\n",
    "    \n",
    "    def walk(self):\n",
    "        print(\"Person is walking...\")\n",
    "    \n",
    "    def sleep(self):\n",
    "        print(\"Person is sleeping...\")\n",
    "        \n",
    "# name, age, address, college, faculty, roll_no\n",
    "class Student(Person):\n",
    "    # parameters / arguments\n",
    "    def __init__(self, name, age, address, college, faculty, roll_no):\n",
    "        self.name = name\n",
    "        self.age = age\n",
    "        self.address = address\n",
    "        self.college = college\n",
    "        self.faculty = faculty\n",
    "        self.roll_no = roll_no\n",
    "        self.subjects = []\n",
    "        \n",
    "    def learn(self):\n",
    "        print(f\"Student is learning {self.subjects}\")\n",
    "        \n",
    "    def add_subject(self, subject_name):\n",
    "        self.subjects.append(subject_name)"
   ]
  },
  {
   "cell_type": "code",
   "execution_count": 6,
   "id": "69602c1c",
   "metadata": {},
   "outputs": [
    {
     "name": "stdout",
     "output_type": "stream",
     "text": [
      "Person is walking...\n"
     ]
    }
   ],
   "source": [
    "s1 = Student('ram', 22, 'ktm', 'ncit', 'BBS', 22)\n",
    "s1.walk()"
   ]
  },
  {
   "cell_type": "code",
   "execution_count": 7,
   "id": "1d3b6209",
   "metadata": {},
   "outputs": [],
   "source": [
    "class Person:\n",
    "    # special method / double underscore / dunder method\n",
    "    # intializer => constructor\n",
    "    # self is an object that passed automatically by python\n",
    "    def __init__(self, name, age, address):\n",
    "        print(name, age, address)\n",
    "        self.name = name\n",
    "        self.age = age\n",
    "        self.address = address\n",
    "        \n",
    "    # outside => function | inside => method, behaviour, action\n",
    "    def eat(self):\n",
    "        print(\"Person is eating...\")\n",
    "    \n",
    "    def walk(self):\n",
    "        print(\"Person is walking...\")\n",
    "    \n",
    "    def sleep(self):\n",
    "        print(\"Person is sleeping...\")\n",
    "        \n",
    "    def info(self):\n",
    "        print(f\"Name: {self.name}\")\n",
    "        print(f\"Age: {self.age}\")\n",
    "        print(f\"Address: {self.address}\")\n",
    "        \n",
    "# name, age, address, college, faculty, roll_no\n",
    "class Student(Person):\n",
    "    # parameters / arguments\n",
    "    def __init__(self, name, age, address, college, faculty, roll_no):\n",
    "        self.name = name\n",
    "        self.age = age\n",
    "        self.address = address\n",
    "        self.college = college\n",
    "        self.faculty = faculty\n",
    "        self.roll_no = roll_no\n",
    "        self.subjects = []\n",
    "        \n",
    "    def learn(self):\n",
    "        print(f\"Student is learning {self.subjects}\")\n",
    "        \n",
    "    def add_subject(self, subject_name):\n",
    "        self.subjects.append(subject_name)"
   ]
  },
  {
   "cell_type": "code",
   "execution_count": 8,
   "id": "e0494a62",
   "metadata": {},
   "outputs": [
    {
     "name": "stdout",
     "output_type": "stream",
     "text": [
      "Name: ram\n",
      "Age: 22\n",
      "Address: ktm\n"
     ]
    }
   ],
   "source": [
    "s1 = Student('ram', 22, 'ktm', 'ncit', 'BBS', 22)\n",
    "s1.info()"
   ]
  },
  {
   "cell_type": "code",
   "execution_count": 9,
   "id": "1fb83124",
   "metadata": {},
   "outputs": [],
   "source": [
    "class Person:\n",
    "    # special method / double underscore / dunder method\n",
    "    # intializer => constructor\n",
    "    # self is an object that passed automatically by python\n",
    "    def __init__(self, name, age, address):\n",
    "        print(name, age, address)\n",
    "        self.name = name\n",
    "        self.age = age\n",
    "        self.address = address\n",
    "        \n",
    "    # outside => function | inside => method, behaviour, action\n",
    "    def eat(self):\n",
    "        print(\"Person is eating...\")\n",
    "    \n",
    "    def walk(self):\n",
    "        print(\"Person is walking...\")\n",
    "    \n",
    "    def sleep(self):\n",
    "        print(\"Person is sleeping...\")\n",
    "        \n",
    "    def info(self):\n",
    "        print(f\"Name: {self.name}\")\n",
    "        print(f\"Age: {self.age}\")\n",
    "        print(f\"Address: {self.address}\")\n",
    "        \n",
    "# name, age, address, college, faculty, roll_no\n",
    "class Student(Person):\n",
    "    # parameters / arguments\n",
    "    def __init__(self, name, age, address, college, faculty, roll_no):\n",
    "        self.name = name\n",
    "        self.age = age\n",
    "        self.address = address\n",
    "        self.college = college\n",
    "        self.faculty = faculty\n",
    "        self.roll_no = roll_no\n",
    "        self.subjects = []\n",
    "        \n",
    "    def learn(self):\n",
    "        print(f\"Student is learning {self.subjects}\")\n",
    "        \n",
    "    def add_subject(self, subject_name):\n",
    "        self.subjects.append(subject_name)\n",
    "        \n",
    "    # method overriding\n",
    "    def info(self):\n",
    "        print(f\"Name: {self.name}\")\n",
    "        print(f\"Age: {self.age}\")\n",
    "        print(f\"Address: {self.address}\")        \n",
    "        print(f\"Faculty: {self.faculty}\")        \n",
    "        print(f\"Roll No: {self.roll_no}\")        \n",
    "        print(f\"Subject: {self.subjects}\")"
   ]
  },
  {
   "cell_type": "code",
   "execution_count": 10,
   "id": "3db06d90",
   "metadata": {},
   "outputs": [
    {
     "name": "stdout",
     "output_type": "stream",
     "text": [
      "Name: ram\n",
      "Age: 22\n",
      "Address: ktm\n",
      "Faculty: BBS\n",
      "Roll No: 22\n",
      "Subject: []\n"
     ]
    }
   ],
   "source": [
    "s1 = Student('ram', 22, 'ktm', 'ncit', 'BBS', 22)\n",
    "s1.info()"
   ]
  },
  {
   "cell_type": "code",
   "execution_count": 11,
   "id": "eb9ae452",
   "metadata": {},
   "outputs": [],
   "source": [
    "class Person:\n",
    "    # special method / double underscore / dunder method\n",
    "    # intializer => constructor\n",
    "    # self is an object that passed automatically by python\n",
    "    def __init__(self, name, age, address):\n",
    "        self.name = name\n",
    "        self.age = age\n",
    "        self.address = address\n",
    "        \n",
    "    # outside => function | inside => method, behaviour, action\n",
    "    def eat(self):\n",
    "        print(\"Person is eating...\")\n",
    "    \n",
    "    def walk(self):\n",
    "        print(\"Person is walking...\")\n",
    "    \n",
    "    def sleep(self):\n",
    "        print(\"Person is sleeping...\")\n",
    "        \n",
    "    def info(self):\n",
    "        print(f\"Name: {self.name}\")\n",
    "        print(f\"Age: {self.age}\")\n",
    "        print(f\"Address: {self.address}\")\n",
    "        \n",
    "# name, age, address, college, faculty, roll_no\n",
    "class Student(Person):\n",
    "    # parameters / arguments\n",
    "    def __init__(self, name, age, address, college, faculty, roll_no):\n",
    "        # calling Parent's init method\n",
    "        super().__init__(name, age, address)\n",
    "        self.college = college\n",
    "        self.faculty = faculty\n",
    "        self.roll_no = roll_no\n",
    "        self.subjects = []\n",
    "        \n",
    "    def learn(self):\n",
    "        print(f\"Student is learning {self.subjects}\")\n",
    "        \n",
    "    def add_subject(self, subject_name):\n",
    "        self.subjects.append(subject_name)\n",
    "        \n",
    "    # method overriding\n",
    "    def info(self):\n",
    "        # calling Parent's info method\n",
    "        super().info()      \n",
    "        print(f\"Faculty: {self.faculty}\")        \n",
    "        print(f\"Roll No: {self.roll_no}\")        \n",
    "        print(f\"Subject: {self.subjects}\")"
   ]
  },
  {
   "cell_type": "code",
   "execution_count": 12,
   "id": "02d20e1c",
   "metadata": {},
   "outputs": [
    {
     "name": "stdout",
     "output_type": "stream",
     "text": [
      "Name: ram\n",
      "Age: 22\n",
      "Address: ktm\n",
      "Faculty: BBS\n",
      "Roll No: 22\n",
      "Subject: []\n"
     ]
    }
   ],
   "source": [
    "s1 = Student('ram', 22, 'ktm', 'ncit', 'BBS', 22)\n",
    "s1.info()"
   ]
  },
  {
   "cell_type": "code",
   "execution_count": 13,
   "id": "12fc60b5",
   "metadata": {},
   "outputs": [
    {
     "name": "stdout",
     "output_type": "stream",
     "text": [
      "Inside Person class\n",
      "Name: Jessa Age: 28\n",
      "Inside Company class\n",
      "Name: Google location: Atlanta\n",
      "Inside Employee class\n",
      "Salary: 12000 Skill: Machine Learning\n"
     ]
    }
   ],
   "source": [
    "# Parent class 1\n",
    "class Person:\n",
    "    def person_info(self, name, age):\n",
    "        print('Inside Person class')\n",
    "        print('Name:', name, 'Age:', age)\n",
    "\n",
    "# Parent class 2\n",
    "class Company:\n",
    "    def company_info(self, company_name, location):\n",
    "        print('Inside Company class')\n",
    "        print('Name:', company_name, 'location:', location)\n",
    "\n",
    "# Child class\n",
    "class Employee(Person, Company): # multiple class\n",
    "    def Employee_info(self, salary, skill):\n",
    "        print('Inside Employee class')\n",
    "        print('Salary:', salary, 'Skill:', skill)\n",
    "\n",
    "# Create object of Employee\n",
    "emp = Employee()\n",
    "\n",
    "# access data\n",
    "emp.person_info('Jessa', 28)\n",
    "emp.company_info('Google', 'Atlanta')\n",
    "emp.Employee_info(12000, 'Machine Learning')"
   ]
  },
  {
   "cell_type": "code",
   "execution_count": 14,
   "id": "5dc72a06",
   "metadata": {},
   "outputs": [],
   "source": [
    "# muti-level inheritance\n",
    "\n",
    "class Person:\n",
    "    pass\n",
    "\n",
    "class Student(Person):\n",
    "    pass\n",
    "\n",
    "# University, \n",
    "class BachelorStudent(Student):\n",
    "    pass"
   ]
  },
  {
   "cell_type": "code",
   "execution_count": 15,
   "id": "59428f60",
   "metadata": {},
   "outputs": [],
   "source": [
    "class Person:\n",
    "    # special method / double underscore / dunder method\n",
    "    # intializer => constructor\n",
    "    # self is an object that passed automatically by python\n",
    "    def __init__(self, name, age, address):\n",
    "        self.name = name\n",
    "        self.age = age\n",
    "        self.address = address\n",
    "        \n",
    "    # outside => function | inside => method, behaviour, action\n",
    "    def eat(self):\n",
    "        print(\"Person is eating...\")\n",
    "    \n",
    "    def walk(self):\n",
    "        print(\"Person is walking...\")\n",
    "    \n",
    "    def sleep(self):\n",
    "        print(\"Person is sleeping...\")\n",
    "        \n",
    "    def info(self):\n",
    "        print(f\"Name: {self.name}\")\n",
    "        print(f\"Age: {self.age}\")\n",
    "        print(f\"Address: {self.address}\")\n",
    "        \n",
    "# name, age, address, college, faculty, roll_no\n",
    "class Student(Person):\n",
    "    # parameters / arguments\n",
    "    def __init__(self, name, age, address, college, faculty, roll_no):\n",
    "        # calling Parent's init method\n",
    "        super().__init__(name, age, address)\n",
    "        self.college = college\n",
    "        self.faculty = faculty\n",
    "        self.roll_no = roll_no\n",
    "        self.subjects = []\n",
    "        \n",
    "    def learn(self):\n",
    "        print(f\"Student is learning {self.subjects}\")\n",
    "        \n",
    "    def add_subject(self, subject_name):\n",
    "        self.subjects.append(subject_name)\n",
    "        \n",
    "    # method overriding\n",
    "    def info(self):\n",
    "        # calling Parent's info method\n",
    "        super().info()      \n",
    "        print(f\"Faculty: {self.faculty}\")        \n",
    "        print(f\"Roll No: {self.roll_no}\")        \n",
    "        print(f\"Subject: {self.subjects}\")\n",
    "        \n",
    "class BachelorStudent(Student):\n",
    "    def __init__(self, name, age, address, college, \n",
    "                 faculty, roll_no, university):\n",
    "        # calling Parent's init method\n",
    "        super().__init__(name, age, address, college, faculty, roll_no)\n",
    "        self.university = university\n",
    "        \n",
    "    def info(self):\n",
    "        # calling Parent's info method\n",
    "        super().info()      \n",
    "        print(f\"University: {self.university}\") "
   ]
  },
  {
   "cell_type": "code",
   "execution_count": 17,
   "id": "d5417fb9",
   "metadata": {},
   "outputs": [
    {
     "name": "stdout",
     "output_type": "stream",
     "text": [
      "Name: ram\n",
      "Age: 22\n",
      "Address: ktm\n",
      "Faculty: BBS\n",
      "Roll No: 22\n",
      "Subject: []\n",
      "University: TU\n"
     ]
    }
   ],
   "source": [
    "s1 = BachelorStudent('ram', 22, 'ktm', 'ncit', 'BBS', 22, \"TU\")\n",
    "s1.info()"
   ]
  },
  {
   "cell_type": "code",
   "execution_count": 18,
   "id": "ea691f8b",
   "metadata": {},
   "outputs": [
    {
     "name": "stdout",
     "output_type": "stream",
     "text": [
      "Inside Vehicle class\n",
      "Inside Car class\n",
      "Inside SportsCar class\n"
     ]
    }
   ],
   "source": [
    "# Base class\n",
    "class Vehicle:\n",
    "    def Vehicle_info(self):\n",
    "        print('Inside Vehicle class')\n",
    "\n",
    "# Child class\n",
    "class Car(Vehicle):\n",
    "    def car_info(self):\n",
    "        print('Inside Car class')\n",
    "\n",
    "# Child class\n",
    "class SportsCar(Car):\n",
    "    def sports_car_info(self):\n",
    "        print('Inside SportsCar class')\n",
    "\n",
    "# Create object of SportsCar\n",
    "s_car = SportsCar()\n",
    "\n",
    "# access Vehicle's and Car info using SportsCar object\n",
    "s_car.Vehicle_info()\n",
    "s_car.car_info()\n",
    "s_car.sports_car_info()"
   ]
  },
  {
   "cell_type": "code",
   "execution_count": 19,
   "id": "0e88ce87",
   "metadata": {},
   "outputs": [],
   "source": [
    "# Hierarchical Inheritance\n",
    "\n",
    "class Person:\n",
    "    pass\n",
    "\n",
    "class Student(Person):\n",
    "    pass\n",
    "\n",
    "# salary, level,\n",
    "class Teacher(Person):\n",
    "    pass\n",
    "\n",
    "class Principal(Person):\n",
    "    pass"
   ]
  },
  {
   "cell_type": "code",
   "execution_count": 20,
   "id": "58112fd9",
   "metadata": {},
   "outputs": [
    {
     "name": "stdout",
     "output_type": "stream",
     "text": [
      "This is Vehicle\n",
      "Car name is: BMW\n",
      "This is Vehicle\n",
      "Truck name is: Ford\n"
     ]
    }
   ],
   "source": [
    "class Vehicle:\n",
    "    def info(self):\n",
    "        print(\"This is Vehicle\")\n",
    "\n",
    "class Car(Vehicle):\n",
    "    def car_info(self, name):\n",
    "        print(\"Car name is:\", name)\n",
    "\n",
    "class Truck(Vehicle):\n",
    "    def truck_info(self, name):\n",
    "        print(\"Truck name is:\", name)\n",
    "\n",
    "obj1 = Car()\n",
    "obj1.info()\n",
    "obj1.car_info('BMW')\n",
    "\n",
    "obj2 = Truck()\n",
    "obj2.info()\n",
    "obj2.truck_info('Ford')"
   ]
  },
  {
   "cell_type": "code",
   "execution_count": 21,
   "id": "ad23832e",
   "metadata": {},
   "outputs": [
    {
     "name": "stdout",
     "output_type": "stream",
     "text": [
      "Inside Vehicle class\n",
      "Inside Car class\n",
      "Inside SportsCar class\n"
     ]
    }
   ],
   "source": [
    "class Vehicle:\n",
    "    def vehicle_info(self):\n",
    "        print(\"Inside Vehicle class\")\n",
    "\n",
    "class Car(Vehicle):\n",
    "    def car_info(self):\n",
    "        print(\"Inside Car class\")\n",
    "\n",
    "class Truck(Vehicle):\n",
    "    def truck_info(self):\n",
    "        print(\"Inside Truck class\")\n",
    "\n",
    "# Sports Car can inherits properties of Vehicle and Car\n",
    "class SportsCar(Car, Vehicle):\n",
    "    def sports_car_info(self):\n",
    "        print(\"Inside SportsCar class\")\n",
    "\n",
    "# create object\n",
    "s_car = SportsCar()\n",
    "\n",
    "s_car.vehicle_info()\n",
    "s_car.car_info()\n",
    "s_car.sports_car_info()"
   ]
  },
  {
   "cell_type": "code",
   "execution_count": null,
   "id": "9ca1044d",
   "metadata": {},
   "outputs": [],
   "source": []
  }
 ],
 "metadata": {
  "kernelspec": {
   "display_name": "Python 3 (ipykernel)",
   "language": "python",
   "name": "python3"
  },
  "language_info": {
   "codemirror_mode": {
    "name": "ipython",
    "version": 3
   },
   "file_extension": ".py",
   "mimetype": "text/x-python",
   "name": "python",
   "nbconvert_exporter": "python",
   "pygments_lexer": "ipython3",
   "version": "3.11.2"
  }
 },
 "nbformat": 4,
 "nbformat_minor": 5
}
